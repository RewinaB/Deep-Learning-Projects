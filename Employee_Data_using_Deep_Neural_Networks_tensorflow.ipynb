{
  "cells": [
    {
      "cell_type": "markdown",
      "metadata": {
        "id": "view-in-github",
        "colab_type": "text"
      },
      "source": [
        "<a href=\"https://colab.research.google.com/github/RewinaB/Deep-Learning-Projects/blob/main/Employee_Data_using_Deep_Neural_Networks_tensorflow.ipynb\" target=\"_parent\"><img src=\"https://colab.research.google.com/assets/colab-badge.svg\" alt=\"Open In Colab\"/></a>"
      ]
    },
    {
      "cell_type": "markdown",
      "metadata": {
        "id": "8PzV0k5vWyTo"
      },
      "source": [
        "# Deep Neural Networks with Tensorflow and Keras"
      ]
    },
    {
      "cell_type": "markdown",
      "metadata": {
        "id": "2XJ1pK1xO76L"
      },
      "source": [
        "# Installation"
      ]
    },
    {
      "cell_type": "markdown",
      "metadata": {
        "id": "jqU4Pq9XWyTq"
      },
      "source": [
     
      ]
    },
    {
      "cell_type": "code",
      "execution_count": 1,
      "metadata": {
        "colab": {
          "base_uri": "https://localhost:8080/",
          "height": 35
        },
        "id": "j7e4NHcrWyTr",
        "outputId": "aced48ab-e702-4a1a-9771-7a6c42c5b4b7"
      },
      "outputs": [
        {
          "output_type": "execute_result",
          "data": {
            "text/plain": [
              "'2.15.0'"
            ],
            "application/vnd.google.colaboratory.intrinsic+json": {
              "type": "string"
            }
          },
          "metadata": {},
          "execution_count": 1
        }
      ],
      "source": [
        "import tensorflow\n",
        "tensorflow.__version__"
      ]
    },
    {
      "cell_type": "markdown",
      "metadata": {
        "id": "KsWH9qAnO76c"
      },
      "source": [
        "# Preparing the data\n",
        "\n",
        "## Importing Dataset"
      ]
    },
    {
      "cell_type": "code",
      "execution_count": 3,
      "metadata": {
        "id": "J_HtQow1WyTw"
      },
      "outputs": [],
      "source": [
        "import pandas as pd\n",
        "import numpy as np\n",
        "import matplotlib.pyplot as plt\n",
        "import seaborn as sns"
      ]
    },
    {
      "cell_type": "code",
      "execution_count": 5,
      "metadata": {
        "colab": {
          "base_uri": "https://localhost:8080/",
          "height": 206
        },
        "id": "BFbIXEvNWyTz",
        "outputId": "9dc57648-3211-4a23-8989-d14a03ce77a4"
      },
      "outputs": [
        {
          "output_type": "execute_result",
          "data": {
            "text/plain": [
              "   satisfaction_level  last_evaluation  number_project  average_montly_hours  \\\n",
              "0                0.38             0.53               2                   157   \n",
              "1                0.80             0.86               5                   262   \n",
              "2                0.11             0.88               7                   272   \n",
              "3                0.72             0.87               5                   223   \n",
              "4                0.37             0.52               2                   159   \n",
              "\n",
              "   time_spend_company  Work_accident  promotion_last_5years department  \\\n",
              "0                   3              0                      0      sales   \n",
              "1                   6              0                      0      sales   \n",
              "2                   4              0                      0      sales   \n",
              "3                   5              0                      0      sales   \n",
              "4                   3              0                      0      sales   \n",
              "\n",
              "   salary  left  \n",
              "0     low     1  \n",
              "1  medium     1  \n",
              "2  medium     1  \n",
              "3     low     1  \n",
              "4     low     1  "
            ],
            "text/html": [
              "\n",
              "  <div id=\"df-57c0818b-3138-431b-a9a7-9a0b60e180cc\" class=\"colab-df-container\">\n",
              "    <div>\n",
              "<style scoped>\n",
              "    .dataframe tbody tr th:only-of-type {\n",
              "        vertical-align: middle;\n",
              "    }\n",
              "\n",
              "    .dataframe tbody tr th {\n",
              "        vertical-align: top;\n",
              "    }\n",
              "\n",
              "    .dataframe thead th {\n",
              "        text-align: right;\n",
              "    }\n",
              "</style>\n",
              "<table border=\"1\" class=\"dataframe\">\n",
              "  <thead>\n",
              "    <tr style=\"text-align: right;\">\n",
              "      <th></th>\n",
              "      <th>satisfaction_level</th>\n",
              "      <th>last_evaluation</th>\n",
              "      <th>number_project</th>\n",
              "      <th>average_montly_hours</th>\n",
              "      <th>time_spend_company</th>\n",
              "      <th>Work_accident</th>\n",
              "      <th>promotion_last_5years</th>\n",
              "      <th>department</th>\n",
              "      <th>salary</th>\n",
              "      <th>left</th>\n",
              "    </tr>\n",
              "  </thead>\n",
              "  <tbody>\n",
              "    <tr>\n",
              "      <th>0</th>\n",
              "      <td>0.38</td>\n",
              "      <td>0.53</td>\n",
              "      <td>2</td>\n",
              "      <td>157</td>\n",
              "      <td>3</td>\n",
              "      <td>0</td>\n",
              "      <td>0</td>\n",
              "      <td>sales</td>\n",
              "      <td>low</td>\n",
              "      <td>1</td>\n",
              "    </tr>\n",
              "    <tr>\n",
              "      <th>1</th>\n",
              "      <td>0.80</td>\n",
              "      <td>0.86</td>\n",
              "      <td>5</td>\n",
              "      <td>262</td>\n",
              "      <td>6</td>\n",
              "      <td>0</td>\n",
              "      <td>0</td>\n",
              "      <td>sales</td>\n",
              "      <td>medium</td>\n",
              "      <td>1</td>\n",
              "    </tr>\n",
              "    <tr>\n",
              "      <th>2</th>\n",
              "      <td>0.11</td>\n",
              "      <td>0.88</td>\n",
              "      <td>7</td>\n",
              "      <td>272</td>\n",
              "      <td>4</td>\n",
              "      <td>0</td>\n",
              "      <td>0</td>\n",
              "      <td>sales</td>\n",
              "      <td>medium</td>\n",
              "      <td>1</td>\n",
              "    </tr>\n",
              "    <tr>\n",
              "      <th>3</th>\n",
              "      <td>0.72</td>\n",
              "      <td>0.87</td>\n",
              "      <td>5</td>\n",
              "      <td>223</td>\n",
              "      <td>5</td>\n",
              "      <td>0</td>\n",
              "      <td>0</td>\n",
              "      <td>sales</td>\n",
              "      <td>low</td>\n",
              "      <td>1</td>\n",
              "    </tr>\n",
              "    <tr>\n",
              "      <th>4</th>\n",
              "      <td>0.37</td>\n",
              "      <td>0.52</td>\n",
              "      <td>2</td>\n",
              "      <td>159</td>\n",
              "      <td>3</td>\n",
              "      <td>0</td>\n",
              "      <td>0</td>\n",
              "      <td>sales</td>\n",
              "      <td>low</td>\n",
              "      <td>1</td>\n",
              "    </tr>\n",
              "  </tbody>\n",
              "</table>\n",
              "</div>\n",
              "    <div class=\"colab-df-buttons\">\n",
              "\n",
              "  <div class=\"colab-df-container\">\n",
              "    <button class=\"colab-df-convert\" onclick=\"convertToInteractive('df-57c0818b-3138-431b-a9a7-9a0b60e180cc')\"\n",
              "            title=\"Convert this dataframe to an interactive table.\"\n",
              "            style=\"display:none;\">\n",
              "\n",
              "  <svg xmlns=\"http://www.w3.org/2000/svg\" height=\"24px\" viewBox=\"0 -960 960 960\">\n",
              "    <path d=\"M120-120v-720h720v720H120Zm60-500h600v-160H180v160Zm220 220h160v-160H400v160Zm0 220h160v-160H400v160ZM180-400h160v-160H180v160Zm440 0h160v-160H620v160ZM180-180h160v-160H180v160Zm440 0h160v-160H620v160Z\"/>\n",
              "  </svg>\n",
              "    </button>\n",
              "\n",
              "  <style>\n",
              "    .colab-df-container {\n",
              "      display:flex;\n",
              "      gap: 12px;\n",
              "    }\n",
              "\n",
              "    .colab-df-convert {\n",
              "      background-color: #E8F0FE;\n",
              "      border: none;\n",
              "      border-radius: 50%;\n",
              "      cursor: pointer;\n",
              "      display: none;\n",
              "      fill: #1967D2;\n",
              "      height: 32px;\n",
              "      padding: 0 0 0 0;\n",
              "      width: 32px;\n",
              "    }\n",
              "\n",
              "    .colab-df-convert:hover {\n",
              "      background-color: #E2EBFA;\n",
              "      box-shadow: 0px 1px 2px rgba(60, 64, 67, 0.3), 0px 1px 3px 1px rgba(60, 64, 67, 0.15);\n",
              "      fill: #174EA6;\n",
              "    }\n",
              "\n",
              "    .colab-df-buttons div {\n",
              "      margin-bottom: 4px;\n",
              "    }\n",
              "\n",
              "    [theme=dark] .colab-df-convert {\n",
              "      background-color: #3B4455;\n",
              "      fill: #D2E3FC;\n",
              "    }\n",
              "\n",
              "    [theme=dark] .colab-df-convert:hover {\n",
              "      background-color: #434B5C;\n",
              "      box-shadow: 0px 1px 3px 1px rgba(0, 0, 0, 0.15);\n",
              "      filter: drop-shadow(0px 1px 2px rgba(0, 0, 0, 0.3));\n",
              "      fill: #FFFFFF;\n",
              "    }\n",
              "  </style>\n",
              "\n",
              "    <script>\n",
              "      const buttonEl =\n",
              "        document.querySelector('#df-57c0818b-3138-431b-a9a7-9a0b60e180cc button.colab-df-convert');\n",
              "      buttonEl.style.display =\n",
              "        google.colab.kernel.accessAllowed ? 'block' : 'none';\n",
              "\n",
              "      async function convertToInteractive(key) {\n",
              "        const element = document.querySelector('#df-57c0818b-3138-431b-a9a7-9a0b60e180cc');\n",
              "        const dataTable =\n",
              "          await google.colab.kernel.invokeFunction('convertToInteractive',\n",
              "                                                    [key], {});\n",
              "        if (!dataTable) return;\n",
              "\n",
              "        const docLinkHtml = 'Like what you see? Visit the ' +\n",
              "          '<a target=\"_blank\" href=https://colab.research.google.com/notebooks/data_table.ipynb>data table notebook</a>'\n",
              "          + ' to learn more about interactive tables.';\n",
              "        element.innerHTML = '';\n",
              "        dataTable['output_type'] = 'display_data';\n",
              "        await google.colab.output.renderOutput(dataTable, element);\n",
              "        const docLink = document.createElement('div');\n",
              "        docLink.innerHTML = docLinkHtml;\n",
              "        element.appendChild(docLink);\n",
              "      }\n",
              "    </script>\n",
              "  </div>\n",
              "\n",
              "\n",
              "<div id=\"df-ece4dcd7-dc75-4cd2-bed7-39a24e3efc16\">\n",
              "  <button class=\"colab-df-quickchart\" onclick=\"quickchart('df-ece4dcd7-dc75-4cd2-bed7-39a24e3efc16')\"\n",
              "            title=\"Suggest charts\"\n",
              "            style=\"display:none;\">\n",
              "\n",
              "<svg xmlns=\"http://www.w3.org/2000/svg\" height=\"24px\"viewBox=\"0 0 24 24\"\n",
              "     width=\"24px\">\n",
              "    <g>\n",
              "        <path d=\"M19 3H5c-1.1 0-2 .9-2 2v14c0 1.1.9 2 2 2h14c1.1 0 2-.9 2-2V5c0-1.1-.9-2-2-2zM9 17H7v-7h2v7zm4 0h-2V7h2v10zm4 0h-2v-4h2v4z\"/>\n",
              "    </g>\n",
              "</svg>\n",
              "  </button>\n",
              "\n",
              "<style>\n",
              "  .colab-df-quickchart {\n",
              "      --bg-color: #E8F0FE;\n",
              "      --fill-color: #1967D2;\n",
              "      --hover-bg-color: #E2EBFA;\n",
              "      --hover-fill-color: #174EA6;\n",
              "      --disabled-fill-color: #AAA;\n",
              "      --disabled-bg-color: #DDD;\n",
              "  }\n",
              "\n",
              "  [theme=dark] .colab-df-quickchart {\n",
              "      --bg-color: #3B4455;\n",
              "      --fill-color: #D2E3FC;\n",
              "      --hover-bg-color: #434B5C;\n",
              "      --hover-fill-color: #FFFFFF;\n",
              "      --disabled-bg-color: #3B4455;\n",
              "      --disabled-fill-color: #666;\n",
              "  }\n",
              "\n",
              "  .colab-df-quickchart {\n",
              "    background-color: var(--bg-color);\n",
              "    border: none;\n",
              "    border-radius: 50%;\n",
              "    cursor: pointer;\n",
              "    display: none;\n",
              "    fill: var(--fill-color);\n",
              "    height: 32px;\n",
              "    padding: 0;\n",
              "    width: 32px;\n",
              "  }\n",
              "\n",
              "  .colab-df-quickchart:hover {\n",
              "    background-color: var(--hover-bg-color);\n",
              "    box-shadow: 0 1px 2px rgba(60, 64, 67, 0.3), 0 1px 3px 1px rgba(60, 64, 67, 0.15);\n",
              "    fill: var(--button-hover-fill-color);\n",
              "  }\n",
              "\n",
              "  .colab-df-quickchart-complete:disabled,\n",
              "  .colab-df-quickchart-complete:disabled:hover {\n",
              "    background-color: var(--disabled-bg-color);\n",
              "    fill: var(--disabled-fill-color);\n",
              "    box-shadow: none;\n",
              "  }\n",
              "\n",
              "  .colab-df-spinner {\n",
              "    border: 2px solid var(--fill-color);\n",
              "    border-color: transparent;\n",
              "    border-bottom-color: var(--fill-color);\n",
              "    animation:\n",
              "      spin 1s steps(1) infinite;\n",
              "  }\n",
              "\n",
              "  @keyframes spin {\n",
              "    0% {\n",
              "      border-color: transparent;\n",
              "      border-bottom-color: var(--fill-color);\n",
              "      border-left-color: var(--fill-color);\n",
              "    }\n",
              "    20% {\n",
              "      border-color: transparent;\n",
              "      border-left-color: var(--fill-color);\n",
              "      border-top-color: var(--fill-color);\n",
              "    }\n",
              "    30% {\n",
              "      border-color: transparent;\n",
              "      border-left-color: var(--fill-color);\n",
              "      border-top-color: var(--fill-color);\n",
              "      border-right-color: var(--fill-color);\n",
              "    }\n",
              "    40% {\n",
              "      border-color: transparent;\n",
              "      border-right-color: var(--fill-color);\n",
              "      border-top-color: var(--fill-color);\n",
              "    }\n",
              "    60% {\n",
              "      border-color: transparent;\n",
              "      border-right-color: var(--fill-color);\n",
              "    }\n",
              "    80% {\n",
              "      border-color: transparent;\n",
              "      border-right-color: var(--fill-color);\n",
              "      border-bottom-color: var(--fill-color);\n",
              "    }\n",
              "    90% {\n",
              "      border-color: transparent;\n",
              "      border-bottom-color: var(--fill-color);\n",
              "    }\n",
              "  }\n",
              "</style>\n",
              "\n",
              "  <script>\n",
              "    async function quickchart(key) {\n",
              "      const quickchartButtonEl =\n",
              "        document.querySelector('#' + key + ' button');\n",
              "      quickchartButtonEl.disabled = true;  // To prevent multiple clicks.\n",
              "      quickchartButtonEl.classList.add('colab-df-spinner');\n",
              "      try {\n",
              "        const charts = await google.colab.kernel.invokeFunction(\n",
              "            'suggestCharts', [key], {});\n",
              "      } catch (error) {\n",
              "        console.error('Error during call to suggestCharts:', error);\n",
              "      }\n",
              "      quickchartButtonEl.classList.remove('colab-df-spinner');\n",
              "      quickchartButtonEl.classList.add('colab-df-quickchart-complete');\n",
              "    }\n",
              "    (() => {\n",
              "      let quickchartButtonEl =\n",
              "        document.querySelector('#df-ece4dcd7-dc75-4cd2-bed7-39a24e3efc16 button');\n",
              "      quickchartButtonEl.style.display =\n",
              "        google.colab.kernel.accessAllowed ? 'block' : 'none';\n",
              "    })();\n",
              "  </script>\n",
              "</div>\n",
              "\n",
              "    </div>\n",
              "  </div>\n"
            ],
            "application/vnd.google.colaboratory.intrinsic+json": {
              "type": "dataframe",
              "variable_name": "dataset",
              "summary": "{\n  \"name\": \"dataset\",\n  \"rows\": 14999,\n  \"fields\": [\n    {\n      \"column\": \"satisfaction_level\",\n      \"properties\": {\n        \"dtype\": \"number\",\n        \"std\": 0.24863065106114257,\n        \"min\": 0.09,\n        \"max\": 1.0,\n        \"num_unique_values\": 92,\n        \"samples\": [\n          0.83,\n          0.13,\n          0.55\n        ],\n        \"semantic_type\": \"\",\n        \"description\": \"\"\n      }\n    },\n    {\n      \"column\": \"last_evaluation\",\n      \"properties\": {\n        \"dtype\": \"number\",\n        \"std\": 0.17116911062327533,\n        \"min\": 0.36,\n        \"max\": 1.0,\n        \"num_unique_values\": 65,\n        \"samples\": [\n          0.66,\n          0.44,\n          0.53\n        ],\n        \"semantic_type\": \"\",\n        \"description\": \"\"\n      }\n    },\n    {\n      \"column\": \"number_project\",\n      \"properties\": {\n        \"dtype\": \"number\",\n        \"std\": 1,\n        \"min\": 2,\n        \"max\": 7,\n        \"num_unique_values\": 6,\n        \"samples\": [\n          2,\n          5,\n          3\n        ],\n        \"semantic_type\": \"\",\n        \"description\": \"\"\n      }\n    },\n    {\n      \"column\": \"average_montly_hours\",\n      \"properties\": {\n        \"dtype\": \"number\",\n        \"std\": 49,\n        \"min\": 96,\n        \"max\": 310,\n        \"num_unique_values\": 215,\n        \"samples\": [\n          118,\n          112,\n          222\n        ],\n        \"semantic_type\": \"\",\n        \"description\": \"\"\n      }\n    },\n    {\n      \"column\": \"time_spend_company\",\n      \"properties\": {\n        \"dtype\": \"number\",\n        \"std\": 1,\n        \"min\": 2,\n        \"max\": 10,\n        \"num_unique_values\": 8,\n        \"samples\": [\n          6,\n          8,\n          3\n        ],\n        \"semantic_type\": \"\",\n        \"description\": \"\"\n      }\n    },\n    {\n      \"column\": \"Work_accident\",\n      \"properties\": {\n        \"dtype\": \"number\",\n        \"std\": 0,\n        \"min\": 0,\n        \"max\": 1,\n        \"num_unique_values\": 2,\n        \"samples\": [\n          1,\n          0\n        ],\n        \"semantic_type\": \"\",\n        \"description\": \"\"\n      }\n    },\n    {\n      \"column\": \"promotion_last_5years\",\n      \"properties\": {\n        \"dtype\": \"number\",\n        \"std\": 0,\n        \"min\": 0,\n        \"max\": 1,\n        \"num_unique_values\": 2,\n        \"samples\": [\n          1,\n          0\n        ],\n        \"semantic_type\": \"\",\n        \"description\": \"\"\n      }\n    },\n    {\n      \"column\": \"department\",\n      \"properties\": {\n        \"dtype\": \"category\",\n        \"num_unique_values\": 10,\n        \"samples\": [\n          \"marketing\",\n          \"accounting\"\n        ],\n        \"semantic_type\": \"\",\n        \"description\": \"\"\n      }\n    },\n    {\n      \"column\": \"salary\",\n      \"properties\": {\n        \"dtype\": \"category\",\n        \"num_unique_values\": 3,\n        \"samples\": [\n          \"low\",\n          \"medium\"\n        ],\n        \"semantic_type\": \"\",\n        \"description\": \"\"\n      }\n    },\n    {\n      \"column\": \"left\",\n      \"properties\": {\n        \"dtype\": \"number\",\n        \"std\": 0,\n        \"min\": 0,\n        \"max\": 1,\n        \"num_unique_values\": 2,\n        \"samples\": [\n          0,\n          1\n        ],\n        \"semantic_type\": \"\",\n        \"description\": \"\"\n      }\n    }\n  ]\n}"
            }
          },
          "metadata": {},
          "execution_count": 5
        }
      ],
      "source": [
        "\n",
        "\n",
        "# Read the CSV file into a pandas DataFrame\n",
        "dataset = pd.read_csv(\"employee.csv\")\n",
        "\n",
        "# Now you can work with your DataFrame 'df'\n",
        "\n",
        "dataset.head()"
      ]
    },
    {
      "cell_type": "markdown",
      "metadata": {
        "id": "Xrt1yEtSWyT1"
      },
      "source": [
        "For a classification problem, it is always good to start to check if the target is balanced or not!"
      ]
    },
    {
      "cell_type": "code",
      "execution_count": 6,
      "metadata": {
        "colab": {
          "base_uri": "https://localhost:8080/"
        },
        "id": "Jr7CZ2ifWyT2",
        "outputId": "239e32d0-1c1f-4ad6-c6f7-9392b9ae792e"
      },
      "outputs": [
        {
          "output_type": "execute_result",
          "data": {
            "text/plain": [
              "0    0.761917\n",
              "1    0.238083\n",
              "Name: left, dtype: float64"
            ]
          },
          "metadata": {},
          "execution_count": 6
        }
      ],
      "source": [
        "dataset['left'].value_counts()/len(dataset)"
      ]
    },
    {
      "cell_type": "markdown",
      "metadata": {
        "id": "U1HWHRW_WyT3"
      },
      "source": [
        "This data set is not that bad! (not very unbalanced). If anything, accuracy must be greater that 76%. bc the naive model is 76%"
      ]
    },
    {
      "cell_type": "code",
      "execution_count": 7,
      "metadata": {
        "colab": {
          "base_uri": "https://localhost:8080/"
        },
        "id": "nxYkQ3JfWyT3",
        "outputId": "873e4433-3496-4ae3-f6df-52a76a914913"
      },
      "outputs": [
        {
          "output_type": "execute_result",
          "data": {
            "text/plain": [
              "satisfaction_level        92\n",
              "last_evaluation           65\n",
              "number_project             6\n",
              "average_montly_hours     215\n",
              "time_spend_company         8\n",
              "Work_accident              2\n",
              "promotion_last_5years      2\n",
              "department                10\n",
              "salary                     3\n",
              "left                       2\n",
              "dtype: int64"
            ]
          },
          "metadata": {},
          "execution_count": 7
        }
      ],
      "source": [
        "dataset.nunique()"
      ]
    },
    {
      "cell_type": "code",
      "execution_count": 8,
      "metadata": {
        "colab": {
          "base_uri": "https://localhost:8080/"
        },
        "id": "3lqeUx9oWyT4",
        "outputId": "3b8574d1-fdf4-406f-f47f-ca0f67c68c19"
      },
      "outputs": [
        {
          "output_type": "execute_result",
          "data": {
            "text/plain": [
              "Index(['satisfaction_level', 'last_evaluation', 'number_project',\n",
              "       'average_montly_hours', 'time_spend_company', 'Work_accident',\n",
              "       'promotion_last_5years', 'department', 'salary', 'left'],\n",
              "      dtype='object')"
            ]
          },
          "metadata": {},
          "execution_count": 8
        }
      ],
      "source": [
        "dataset.columns"
      ]
    },
    {
      "cell_type": "code",
      "execution_count": 9,
      "metadata": {
        "id": "S44V1N0cWyT5"
      },
      "outputs": [],
      "source": [
        "categoricals = ['Work_accident','promotion_last_5years', 'department', 'salary'] #making a list"
      ]
    },
    {
      "cell_type": "code",
      "execution_count": 10,
      "metadata": {
        "colab": {
          "base_uri": "https://localhost:8080/"
        },
        "id": "a2FuUoFAWyT6",
        "outputId": "71ff0e7a-d74d-42ad-bc92-02bccbfaa5f6"
      },
      "outputs": [
        {
          "output_type": "stream",
          "name": "stdout",
          "text": [
            "<class 'pandas.core.frame.DataFrame'>\n",
            "RangeIndex: 14999 entries, 0 to 14998\n",
            "Data columns (total 10 columns):\n",
            " #   Column                 Non-Null Count  Dtype   \n",
            "---  ------                 --------------  -----   \n",
            " 0   satisfaction_level     14999 non-null  float64 \n",
            " 1   last_evaluation        14999 non-null  float64 \n",
            " 2   number_project         14999 non-null  int64   \n",
            " 3   average_montly_hours   14999 non-null  int64   \n",
            " 4   time_spend_company     14999 non-null  int64   \n",
            " 5   Work_accident          14999 non-null  category\n",
            " 6   promotion_last_5years  14999 non-null  category\n",
            " 7   department             14999 non-null  category\n",
            " 8   salary                 14999 non-null  category\n",
            " 9   left                   14999 non-null  int64   \n",
            "dtypes: category(4), float64(2), int64(4)\n",
            "memory usage: 762.5 KB\n"
          ]
        }
      ],
      "source": [
        "for col in categoricals:\n",
        "    dataset[col]= dataset[col].astype(\"category\")\n",
        "\n",
        "dataset.info()"
      ]
    },
    {
      "cell_type": "code",
      "execution_count": 11,
      "metadata": {
        "colab": {
          "base_uri": "https://localhost:8080/",
          "height": 300
        },
        "id": "EnoK04nCWyT7",
        "outputId": "b8430fb7-3f1c-4fb2-c12a-ed14208ba732"
      },
      "outputs": [
        {
          "output_type": "execute_result",
          "data": {
            "text/plain": [
              "       satisfaction_level  last_evaluation  number_project  \\\n",
              "count        14999.000000     14999.000000    14999.000000   \n",
              "mean             0.612834         0.716102        3.803054   \n",
              "std              0.248631         0.171169        1.232592   \n",
              "min              0.090000         0.360000        2.000000   \n",
              "25%              0.440000         0.560000        3.000000   \n",
              "50%              0.640000         0.720000        4.000000   \n",
              "75%              0.820000         0.870000        5.000000   \n",
              "max              1.000000         1.000000        7.000000   \n",
              "\n",
              "       average_montly_hours  time_spend_company          left  \n",
              "count          14999.000000        14999.000000  14999.000000  \n",
              "mean             201.050337            3.498233      0.238083  \n",
              "std               49.943099            1.460136      0.425924  \n",
              "min               96.000000            2.000000      0.000000  \n",
              "25%              156.000000            3.000000      0.000000  \n",
              "50%              200.000000            3.000000      0.000000  \n",
              "75%              245.000000            4.000000      0.000000  \n",
              "max              310.000000           10.000000      1.000000  "
            ],
            "text/html": [
              "\n",
              "  <div id=\"df-9c873ddc-30b3-41ba-aeba-e37c02c8ed80\" class=\"colab-df-container\">\n",
              "    <div>\n",
              "<style scoped>\n",
              "    .dataframe tbody tr th:only-of-type {\n",
              "        vertical-align: middle;\n",
              "    }\n",
              "\n",
              "    .dataframe tbody tr th {\n",
              "        vertical-align: top;\n",
              "    }\n",
              "\n",
              "    .dataframe thead th {\n",
              "        text-align: right;\n",
              "    }\n",
              "</style>\n",
              "<table border=\"1\" class=\"dataframe\">\n",
              "  <thead>\n",
              "    <tr style=\"text-align: right;\">\n",
              "      <th></th>\n",
              "      <th>satisfaction_level</th>\n",
              "      <th>last_evaluation</th>\n",
              "      <th>number_project</th>\n",
              "      <th>average_montly_hours</th>\n",
              "      <th>time_spend_company</th>\n",
              "      <th>left</th>\n",
              "    </tr>\n",
              "  </thead>\n",
              "  <tbody>\n",
              "    <tr>\n",
              "      <th>count</th>\n",
              "      <td>14999.000000</td>\n",
              "      <td>14999.000000</td>\n",
              "      <td>14999.000000</td>\n",
              "      <td>14999.000000</td>\n",
              "      <td>14999.000000</td>\n",
              "      <td>14999.000000</td>\n",
              "    </tr>\n",
              "    <tr>\n",
              "      <th>mean</th>\n",
              "      <td>0.612834</td>\n",
              "      <td>0.716102</td>\n",
              "      <td>3.803054</td>\n",
              "      <td>201.050337</td>\n",
              "      <td>3.498233</td>\n",
              "      <td>0.238083</td>\n",
              "    </tr>\n",
              "    <tr>\n",
              "      <th>std</th>\n",
              "      <td>0.248631</td>\n",
              "      <td>0.171169</td>\n",
              "      <td>1.232592</td>\n",
              "      <td>49.943099</td>\n",
              "      <td>1.460136</td>\n",
              "      <td>0.425924</td>\n",
              "    </tr>\n",
              "    <tr>\n",
              "      <th>min</th>\n",
              "      <td>0.090000</td>\n",
              "      <td>0.360000</td>\n",
              "      <td>2.000000</td>\n",
              "      <td>96.000000</td>\n",
              "      <td>2.000000</td>\n",
              "      <td>0.000000</td>\n",
              "    </tr>\n",
              "    <tr>\n",
              "      <th>25%</th>\n",
              "      <td>0.440000</td>\n",
              "      <td>0.560000</td>\n",
              "      <td>3.000000</td>\n",
              "      <td>156.000000</td>\n",
              "      <td>3.000000</td>\n",
              "      <td>0.000000</td>\n",
              "    </tr>\n",
              "    <tr>\n",
              "      <th>50%</th>\n",
              "      <td>0.640000</td>\n",
              "      <td>0.720000</td>\n",
              "      <td>4.000000</td>\n",
              "      <td>200.000000</td>\n",
              "      <td>3.000000</td>\n",
              "      <td>0.000000</td>\n",
              "    </tr>\n",
              "    <tr>\n",
              "      <th>75%</th>\n",
              "      <td>0.820000</td>\n",
              "      <td>0.870000</td>\n",
              "      <td>5.000000</td>\n",
              "      <td>245.000000</td>\n",
              "      <td>4.000000</td>\n",
              "      <td>0.000000</td>\n",
              "    </tr>\n",
              "    <tr>\n",
              "      <th>max</th>\n",
              "      <td>1.000000</td>\n",
              "      <td>1.000000</td>\n",
              "      <td>7.000000</td>\n",
              "      <td>310.000000</td>\n",
              "      <td>10.000000</td>\n",
              "      <td>1.000000</td>\n",
              "    </tr>\n",
              "  </tbody>\n",
              "</table>\n",
              "</div>\n",
              "    <div class=\"colab-df-buttons\">\n",
              "\n",
              "  <div class=\"colab-df-container\">\n",
              "    <button class=\"colab-df-convert\" onclick=\"convertToInteractive('df-9c873ddc-30b3-41ba-aeba-e37c02c8ed80')\"\n",
              "            title=\"Convert this dataframe to an interactive table.\"\n",
              "            style=\"display:none;\">\n",
              "\n",
              "  <svg xmlns=\"http://www.w3.org/2000/svg\" height=\"24px\" viewBox=\"0 -960 960 960\">\n",
              "    <path d=\"M120-120v-720h720v720H120Zm60-500h600v-160H180v160Zm220 220h160v-160H400v160Zm0 220h160v-160H400v160ZM180-400h160v-160H180v160Zm440 0h160v-160H620v160ZM180-180h160v-160H180v160Zm440 0h160v-160H620v160Z\"/>\n",
              "  </svg>\n",
              "    </button>\n",
              "\n",
              "  <style>\n",
              "    .colab-df-container {\n",
              "      display:flex;\n",
              "      gap: 12px;\n",
              "    }\n",
              "\n",
              "    .colab-df-convert {\n",
              "      background-color: #E8F0FE;\n",
              "      border: none;\n",
              "      border-radius: 50%;\n",
              "      cursor: pointer;\n",
              "      display: none;\n",
              "      fill: #1967D2;\n",
              "      height: 32px;\n",
              "      padding: 0 0 0 0;\n",
              "      width: 32px;\n",
              "    }\n",
              "\n",
              "    .colab-df-convert:hover {\n",
              "      background-color: #E2EBFA;\n",
              "      box-shadow: 0px 1px 2px rgba(60, 64, 67, 0.3), 0px 1px 3px 1px rgba(60, 64, 67, 0.15);\n",
              "      fill: #174EA6;\n",
              "    }\n",
              "\n",
              "    .colab-df-buttons div {\n",
              "      margin-bottom: 4px;\n",
              "    }\n",
              "\n",
              "    [theme=dark] .colab-df-convert {\n",
              "      background-color: #3B4455;\n",
              "      fill: #D2E3FC;\n",
              "    }\n",
              "\n",
              "    [theme=dark] .colab-df-convert:hover {\n",
              "      background-color: #434B5C;\n",
              "      box-shadow: 0px 1px 3px 1px rgba(0, 0, 0, 0.15);\n",
              "      filter: drop-shadow(0px 1px 2px rgba(0, 0, 0, 0.3));\n",
              "      fill: #FFFFFF;\n",
              "    }\n",
              "  </style>\n",
              "\n",
              "    <script>\n",
              "      const buttonEl =\n",
              "        document.querySelector('#df-9c873ddc-30b3-41ba-aeba-e37c02c8ed80 button.colab-df-convert');\n",
              "      buttonEl.style.display =\n",
              "        google.colab.kernel.accessAllowed ? 'block' : 'none';\n",
              "\n",
              "      async function convertToInteractive(key) {\n",
              "        const element = document.querySelector('#df-9c873ddc-30b3-41ba-aeba-e37c02c8ed80');\n",
              "        const dataTable =\n",
              "          await google.colab.kernel.invokeFunction('convertToInteractive',\n",
              "                                                    [key], {});\n",
              "        if (!dataTable) return;\n",
              "\n",
              "        const docLinkHtml = 'Like what you see? Visit the ' +\n",
              "          '<a target=\"_blank\" href=https://colab.research.google.com/notebooks/data_table.ipynb>data table notebook</a>'\n",
              "          + ' to learn more about interactive tables.';\n",
              "        element.innerHTML = '';\n",
              "        dataTable['output_type'] = 'display_data';\n",
              "        await google.colab.output.renderOutput(dataTable, element);\n",
              "        const docLink = document.createElement('div');\n",
              "        docLink.innerHTML = docLinkHtml;\n",
              "        element.appendChild(docLink);\n",
              "      }\n",
              "    </script>\n",
              "  </div>\n",
              "\n",
              "\n",
              "<div id=\"df-d8fe8d54-f8ec-4062-b691-3ce3ad40af05\">\n",
              "  <button class=\"colab-df-quickchart\" onclick=\"quickchart('df-d8fe8d54-f8ec-4062-b691-3ce3ad40af05')\"\n",
              "            title=\"Suggest charts\"\n",
              "            style=\"display:none;\">\n",
              "\n",
              "<svg xmlns=\"http://www.w3.org/2000/svg\" height=\"24px\"viewBox=\"0 0 24 24\"\n",
              "     width=\"24px\">\n",
              "    <g>\n",
              "        <path d=\"M19 3H5c-1.1 0-2 .9-2 2v14c0 1.1.9 2 2 2h14c1.1 0 2-.9 2-2V5c0-1.1-.9-2-2-2zM9 17H7v-7h2v7zm4 0h-2V7h2v10zm4 0h-2v-4h2v4z\"/>\n",
              "    </g>\n",
              "</svg>\n",
              "  </button>\n",
              "\n",
              "<style>\n",
              "  .colab-df-quickchart {\n",
              "      --bg-color: #E8F0FE;\n",
              "      --fill-color: #1967D2;\n",
              "      --hover-bg-color: #E2EBFA;\n",
              "      --hover-fill-color: #174EA6;\n",
              "      --disabled-fill-color: #AAA;\n",
              "      --disabled-bg-color: #DDD;\n",
              "  }\n",
              "\n",
              "  [theme=dark] .colab-df-quickchart {\n",
              "      --bg-color: #3B4455;\n",
              "      --fill-color: #D2E3FC;\n",
              "      --hover-bg-color: #434B5C;\n",
              "      --hover-fill-color: #FFFFFF;\n",
              "      --disabled-bg-color: #3B4455;\n",
              "      --disabled-fill-color: #666;\n",
              "  }\n",
              "\n",
              "  .colab-df-quickchart {\n",
              "    background-color: var(--bg-color);\n",
              "    border: none;\n",
              "    border-radius: 50%;\n",
              "    cursor: pointer;\n",
              "    display: none;\n",
              "    fill: var(--fill-color);\n",
              "    height: 32px;\n",
              "    padding: 0;\n",
              "    width: 32px;\n",
              "  }\n",
              "\n",
              "  .colab-df-quickchart:hover {\n",
              "    background-color: var(--hover-bg-color);\n",
              "    box-shadow: 0 1px 2px rgba(60, 64, 67, 0.3), 0 1px 3px 1px rgba(60, 64, 67, 0.15);\n",
              "    fill: var(--button-hover-fill-color);\n",
              "  }\n",
              "\n",
              "  .colab-df-quickchart-complete:disabled,\n",
              "  .colab-df-quickchart-complete:disabled:hover {\n",
              "    background-color: var(--disabled-bg-color);\n",
              "    fill: var(--disabled-fill-color);\n",
              "    box-shadow: none;\n",
              "  }\n",
              "\n",
              "  .colab-df-spinner {\n",
              "    border: 2px solid var(--fill-color);\n",
              "    border-color: transparent;\n",
              "    border-bottom-color: var(--fill-color);\n",
              "    animation:\n",
              "      spin 1s steps(1) infinite;\n",
              "  }\n",
              "\n",
              "  @keyframes spin {\n",
              "    0% {\n",
              "      border-color: transparent;\n",
              "      border-bottom-color: var(--fill-color);\n",
              "      border-left-color: var(--fill-color);\n",
              "    }\n",
              "    20% {\n",
              "      border-color: transparent;\n",
              "      border-left-color: var(--fill-color);\n",
              "      border-top-color: var(--fill-color);\n",
              "    }\n",
              "    30% {\n",
              "      border-color: transparent;\n",
              "      border-left-color: var(--fill-color);\n",
              "      border-top-color: var(--fill-color);\n",
              "      border-right-color: var(--fill-color);\n",
              "    }\n",
              "    40% {\n",
              "      border-color: transparent;\n",
              "      border-right-color: var(--fill-color);\n",
              "      border-top-color: var(--fill-color);\n",
              "    }\n",
              "    60% {\n",
              "      border-color: transparent;\n",
              "      border-right-color: var(--fill-color);\n",
              "    }\n",
              "    80% {\n",
              "      border-color: transparent;\n",
              "      border-right-color: var(--fill-color);\n",
              "      border-bottom-color: var(--fill-color);\n",
              "    }\n",
              "    90% {\n",
              "      border-color: transparent;\n",
              "      border-bottom-color: var(--fill-color);\n",
              "    }\n",
              "  }\n",
              "</style>\n",
              "\n",
              "  <script>\n",
              "    async function quickchart(key) {\n",
              "      const quickchartButtonEl =\n",
              "        document.querySelector('#' + key + ' button');\n",
              "      quickchartButtonEl.disabled = true;  // To prevent multiple clicks.\n",
              "      quickchartButtonEl.classList.add('colab-df-spinner');\n",
              "      try {\n",
              "        const charts = await google.colab.kernel.invokeFunction(\n",
              "            'suggestCharts', [key], {});\n",
              "      } catch (error) {\n",
              "        console.error('Error during call to suggestCharts:', error);\n",
              "      }\n",
              "      quickchartButtonEl.classList.remove('colab-df-spinner');\n",
              "      quickchartButtonEl.classList.add('colab-df-quickchart-complete');\n",
              "    }\n",
              "    (() => {\n",
              "      let quickchartButtonEl =\n",
              "        document.querySelector('#df-d8fe8d54-f8ec-4062-b691-3ce3ad40af05 button');\n",
              "      quickchartButtonEl.style.display =\n",
              "        google.colab.kernel.accessAllowed ? 'block' : 'none';\n",
              "    })();\n",
              "  </script>\n",
              "</div>\n",
              "\n",
              "    </div>\n",
              "  </div>\n"
            ],
            "application/vnd.google.colaboratory.intrinsic+json": {
              "type": "dataframe",
              "summary": "{\n  \"name\": \"dataset\",\n  \"rows\": 8,\n  \"fields\": [\n    {\n      \"column\": \"satisfaction_level\",\n      \"properties\": {\n        \"dtype\": \"number\",\n        \"std\": 5302.752785300377,\n        \"min\": 0.09,\n        \"max\": 14999.0,\n        \"num_unique_values\": 8,\n        \"samples\": [\n          0.6128335222348156,\n          0.64,\n          14999.0\n        ],\n        \"semantic_type\": \"\",\n        \"description\": \"\"\n      }\n    },\n    {\n      \"column\": \"last_evaluation\",\n      \"properties\": {\n        \"dtype\": \"number\",\n        \"std\": 5302.725216503965,\n        \"min\": 0.17116911062327533,\n        \"max\": 14999.0,\n        \"num_unique_values\": 8,\n        \"samples\": [\n          0.7161017401160078,\n          0.72,\n          14999.0\n        ],\n        \"semantic_type\": \"\",\n        \"description\": \"\"\n      }\n    },\n    {\n      \"column\": \"number_project\",\n      \"properties\": {\n        \"dtype\": \"number\",\n        \"std\": 5301.632605184108,\n        \"min\": 1.2325923553183522,\n        \"max\": 14999.0,\n        \"num_unique_values\": 8,\n        \"samples\": [\n          3.80305353690246,\n          4.0,\n          14999.0\n        ],\n        \"semantic_type\": \"\",\n        \"description\": \"\"\n      }\n    },\n    {\n      \"column\": \"average_montly_hours\",\n      \"properties\": {\n        \"dtype\": \"number\",\n        \"std\": 5240.043131004932,\n        \"min\": 49.94309937128408,\n        \"max\": 14999.0,\n        \"num_unique_values\": 8,\n        \"samples\": [\n          201.0503366891126,\n          200.0,\n          14999.0\n        ],\n        \"semantic_type\": \"\",\n        \"description\": \"\"\n      }\n    },\n    {\n      \"column\": \"time_spend_company\",\n      \"properties\": {\n        \"dtype\": \"number\",\n        \"std\": 5301.586356319515,\n        \"min\": 1.4601362305354812,\n        \"max\": 14999.0,\n        \"num_unique_values\": 7,\n        \"samples\": [\n          14999.0,\n          3.498233215547703,\n          4.0\n        ],\n        \"semantic_type\": \"\",\n        \"description\": \"\"\n      }\n    },\n    {\n      \"column\": \"left\",\n      \"properties\": {\n        \"dtype\": \"number\",\n        \"std\": 5302.863271830312,\n        \"min\": 0.0,\n        \"max\": 14999.0,\n        \"num_unique_values\": 5,\n        \"samples\": [\n          0.2380825388359224,\n          1.0,\n          0.4259240993802994\n        ],\n        \"semantic_type\": \"\",\n        \"description\": \"\"\n      }\n    }\n  ]\n}"
            }
          },
          "metadata": {},
          "execution_count": 11
        }
      ],
      "source": [
        "dataset.describe()"
      ]
    },
    {
      "cell_type": "code",
      "execution_count": 12,
      "metadata": {
        "id": "hIOlojmXWyT8"
      },
      "outputs": [],
      "source": [
        "# We need to one-hot encode all the categorical variables.\n",
        "dataset = pd.get_dummies(dataset, drop_first=True)"
      ]
    },
    {
      "cell_type": "code",
      "execution_count": 13,
      "metadata": {
        "id": "q5heYBLQWyT8"
      },
      "outputs": [],
      "source": [
        "df = dataset.copy() #making a copy of teh copy"
      ]
    },
    {
      "cell_type": "code",
      "execution_count": 14,
      "metadata": {
        "colab": {
          "base_uri": "https://localhost:8080/",
          "height": 226
        },
        "id": "84FyUJm8WyT9",
        "outputId": "70a17881-db6c-4271-97ef-de5fc67f0fee"
      },
      "outputs": [
        {
          "output_type": "execute_result",
          "data": {
            "text/plain": [
              "   satisfaction_level  last_evaluation  number_project  average_montly_hours  \\\n",
              "0                0.38             0.53               2                   157   \n",
              "1                0.80             0.86               5                   262   \n",
              "2                0.11             0.88               7                   272   \n",
              "3                0.72             0.87               5                   223   \n",
              "4                0.37             0.52               2                   159   \n",
              "\n",
              "   time_spend_company  left  Work_accident_1  promotion_last_5years_1  \\\n",
              "0                   3     1                0                        0   \n",
              "1                   6     1                0                        0   \n",
              "2                   4     1                0                        0   \n",
              "3                   5     1                0                        0   \n",
              "4                   3     1                0                        0   \n",
              "\n",
              "   department_RandD  department_accounting  department_hr  \\\n",
              "0                 0                      0              0   \n",
              "1                 0                      0              0   \n",
              "2                 0                      0              0   \n",
              "3                 0                      0              0   \n",
              "4                 0                      0              0   \n",
              "\n",
              "   department_management  department_marketing  department_product_mng  \\\n",
              "0                      0                     0                       0   \n",
              "1                      0                     0                       0   \n",
              "2                      0                     0                       0   \n",
              "3                      0                     0                       0   \n",
              "4                      0                     0                       0   \n",
              "\n",
              "   department_sales  department_support  department_technical  salary_low  \\\n",
              "0                 1                   0                     0           1   \n",
              "1                 1                   0                     0           0   \n",
              "2                 1                   0                     0           0   \n",
              "3                 1                   0                     0           1   \n",
              "4                 1                   0                     0           1   \n",
              "\n",
              "   salary_medium  \n",
              "0              0  \n",
              "1              1  \n",
              "2              1  \n",
              "3              0  \n",
              "4              0  "
            ],
            "text/html": [
              "\n",
              "  <div id=\"df-11561ded-0969-4728-b92d-c4869ab68b38\" class=\"colab-df-container\">\n",
              "    <div>\n",
              "<style scoped>\n",
              "    .dataframe tbody tr th:only-of-type {\n",
              "        vertical-align: middle;\n",
              "    }\n",
              "\n",
              "    .dataframe tbody tr th {\n",
              "        vertical-align: top;\n",
              "    }\n",
              "\n",
              "    .dataframe thead th {\n",
              "        text-align: right;\n",
              "    }\n",
              "</style>\n",
              "<table border=\"1\" class=\"dataframe\">\n",
              "  <thead>\n",
              "    <tr style=\"text-align: right;\">\n",
              "      <th></th>\n",
              "      <th>satisfaction_level</th>\n",
              "      <th>last_evaluation</th>\n",
              "      <th>number_project</th>\n",
              "      <th>average_montly_hours</th>\n",
              "      <th>time_spend_company</th>\n",
              "      <th>left</th>\n",
              "      <th>Work_accident_1</th>\n",
              "      <th>promotion_last_5years_1</th>\n",
              "      <th>department_RandD</th>\n",
              "      <th>department_accounting</th>\n",
              "      <th>department_hr</th>\n",
              "      <th>department_management</th>\n",
              "      <th>department_marketing</th>\n",
              "      <th>department_product_mng</th>\n",
              "      <th>department_sales</th>\n",
              "      <th>department_support</th>\n",
              "      <th>department_technical</th>\n",
              "      <th>salary_low</th>\n",
              "      <th>salary_medium</th>\n",
              "    </tr>\n",
              "  </thead>\n",
              "  <tbody>\n",
              "    <tr>\n",
              "      <th>0</th>\n",
              "      <td>0.38</td>\n",
              "      <td>0.53</td>\n",
              "      <td>2</td>\n",
              "      <td>157</td>\n",
              "      <td>3</td>\n",
              "      <td>1</td>\n",
              "      <td>0</td>\n",
              "      <td>0</td>\n",
              "      <td>0</td>\n",
              "      <td>0</td>\n",
              "      <td>0</td>\n",
              "      <td>0</td>\n",
              "      <td>0</td>\n",
              "      <td>0</td>\n",
              "      <td>1</td>\n",
              "      <td>0</td>\n",
              "      <td>0</td>\n",
              "      <td>1</td>\n",
              "      <td>0</td>\n",
              "    </tr>\n",
              "    <tr>\n",
              "      <th>1</th>\n",
              "      <td>0.80</td>\n",
              "      <td>0.86</td>\n",
              "      <td>5</td>\n",
              "      <td>262</td>\n",
              "      <td>6</td>\n",
              "      <td>1</td>\n",
              "      <td>0</td>\n",
              "      <td>0</td>\n",
              "      <td>0</td>\n",
              "      <td>0</td>\n",
              "      <td>0</td>\n",
              "      <td>0</td>\n",
              "      <td>0</td>\n",
              "      <td>0</td>\n",
              "      <td>1</td>\n",
              "      <td>0</td>\n",
              "      <td>0</td>\n",
              "      <td>0</td>\n",
              "      <td>1</td>\n",
              "    </tr>\n",
              "    <tr>\n",
              "      <th>2</th>\n",
              "      <td>0.11</td>\n",
              "      <td>0.88</td>\n",
              "      <td>7</td>\n",
              "      <td>272</td>\n",
              "      <td>4</td>\n",
              "      <td>1</td>\n",
              "      <td>0</td>\n",
              "      <td>0</td>\n",
              "      <td>0</td>\n",
              "      <td>0</td>\n",
              "      <td>0</td>\n",
              "      <td>0</td>\n",
              "      <td>0</td>\n",
              "      <td>0</td>\n",
              "      <td>1</td>\n",
              "      <td>0</td>\n",
              "      <td>0</td>\n",
              "      <td>0</td>\n",
              "      <td>1</td>\n",
              "    </tr>\n",
              "    <tr>\n",
              "      <th>3</th>\n",
              "      <td>0.72</td>\n",
              "      <td>0.87</td>\n",
              "      <td>5</td>\n",
              "      <td>223</td>\n",
              "      <td>5</td>\n",
              "      <td>1</td>\n",
              "      <td>0</td>\n",
              "      <td>0</td>\n",
              "      <td>0</td>\n",
              "      <td>0</td>\n",
              "      <td>0</td>\n",
              "      <td>0</td>\n",
              "      <td>0</td>\n",
              "      <td>0</td>\n",
              "      <td>1</td>\n",
              "      <td>0</td>\n",
              "      <td>0</td>\n",
              "      <td>1</td>\n",
              "      <td>0</td>\n",
              "    </tr>\n",
              "    <tr>\n",
              "      <th>4</th>\n",
              "      <td>0.37</td>\n",
              "      <td>0.52</td>\n",
              "      <td>2</td>\n",
              "      <td>159</td>\n",
              "      <td>3</td>\n",
              "      <td>1</td>\n",
              "      <td>0</td>\n",
              "      <td>0</td>\n",
              "      <td>0</td>\n",
              "      <td>0</td>\n",
              "      <td>0</td>\n",
              "      <td>0</td>\n",
              "      <td>0</td>\n",
              "      <td>0</td>\n",
              "      <td>1</td>\n",
              "      <td>0</td>\n",
              "      <td>0</td>\n",
              "      <td>1</td>\n",
              "      <td>0</td>\n",
              "    </tr>\n",
              "  </tbody>\n",
              "</table>\n",
              "</div>\n",
              "    <div class=\"colab-df-buttons\">\n",
              "\n",
              "  <div class=\"colab-df-container\">\n",
              "    <button class=\"colab-df-convert\" onclick=\"convertToInteractive('df-11561ded-0969-4728-b92d-c4869ab68b38')\"\n",
              "            title=\"Convert this dataframe to an interactive table.\"\n",
              "            style=\"display:none;\">\n",
              "\n",
              "  <svg xmlns=\"http://www.w3.org/2000/svg\" height=\"24px\" viewBox=\"0 -960 960 960\">\n",
              "    <path d=\"M120-120v-720h720v720H120Zm60-500h600v-160H180v160Zm220 220h160v-160H400v160Zm0 220h160v-160H400v160ZM180-400h160v-160H180v160Zm440 0h160v-160H620v160ZM180-180h160v-160H180v160Zm440 0h160v-160H620v160Z\"/>\n",
              "  </svg>\n",
              "    </button>\n",
              "\n",
              "  <style>\n",
              "    .colab-df-container {\n",
              "      display:flex;\n",
              "      gap: 12px;\n",
              "    }\n",
              "\n",
              "    .colab-df-convert {\n",
              "      background-color: #E8F0FE;\n",
              "      border: none;\n",
              "      border-radius: 50%;\n",
              "      cursor: pointer;\n",
              "      display: none;\n",
              "      fill: #1967D2;\n",
              "      height: 32px;\n",
              "      padding: 0 0 0 0;\n",
              "      width: 32px;\n",
              "    }\n",
              "\n",
              "    .colab-df-convert:hover {\n",
              "      background-color: #E2EBFA;\n",
              "      box-shadow: 0px 1px 2px rgba(60, 64, 67, 0.3), 0px 1px 3px 1px rgba(60, 64, 67, 0.15);\n",
              "      fill: #174EA6;\n",
              "    }\n",
              "\n",
              "    .colab-df-buttons div {\n",
              "      margin-bottom: 4px;\n",
              "    }\n",
              "\n",
              "    [theme=dark] .colab-df-convert {\n",
              "      background-color: #3B4455;\n",
              "      fill: #D2E3FC;\n",
              "    }\n",
              "\n",
              "    [theme=dark] .colab-df-convert:hover {\n",
              "      background-color: #434B5C;\n",
              "      box-shadow: 0px 1px 3px 1px rgba(0, 0, 0, 0.15);\n",
              "      filter: drop-shadow(0px 1px 2px rgba(0, 0, 0, 0.3));\n",
              "      fill: #FFFFFF;\n",
              "    }\n",
              "  </style>\n",
              "\n",
              "    <script>\n",
              "      const buttonEl =\n",
              "        document.querySelector('#df-11561ded-0969-4728-b92d-c4869ab68b38 button.colab-df-convert');\n",
              "      buttonEl.style.display =\n",
              "        google.colab.kernel.accessAllowed ? 'block' : 'none';\n",
              "\n",
              "      async function convertToInteractive(key) {\n",
              "        const element = document.querySelector('#df-11561ded-0969-4728-b92d-c4869ab68b38');\n",
              "        const dataTable =\n",
              "          await google.colab.kernel.invokeFunction('convertToInteractive',\n",
              "                                                    [key], {});\n",
              "        if (!dataTable) return;\n",
              "\n",
              "        const docLinkHtml = 'Like what you see? Visit the ' +\n",
              "          '<a target=\"_blank\" href=https://colab.research.google.com/notebooks/data_table.ipynb>data table notebook</a>'\n",
              "          + ' to learn more about interactive tables.';\n",
              "        element.innerHTML = '';\n",
              "        dataTable['output_type'] = 'display_data';\n",
              "        await google.colab.output.renderOutput(dataTable, element);\n",
              "        const docLink = document.createElement('div');\n",
              "        docLink.innerHTML = docLinkHtml;\n",
              "        element.appendChild(docLink);\n",
              "      }\n",
              "    </script>\n",
              "  </div>\n",
              "\n",
              "\n",
              "<div id=\"df-fe825937-d3d2-48c7-a1f1-a71a7661700e\">\n",
              "  <button class=\"colab-df-quickchart\" onclick=\"quickchart('df-fe825937-d3d2-48c7-a1f1-a71a7661700e')\"\n",
              "            title=\"Suggest charts\"\n",
              "            style=\"display:none;\">\n",
              "\n",
              "<svg xmlns=\"http://www.w3.org/2000/svg\" height=\"24px\"viewBox=\"0 0 24 24\"\n",
              "     width=\"24px\">\n",
              "    <g>\n",
              "        <path d=\"M19 3H5c-1.1 0-2 .9-2 2v14c0 1.1.9 2 2 2h14c1.1 0 2-.9 2-2V5c0-1.1-.9-2-2-2zM9 17H7v-7h2v7zm4 0h-2V7h2v10zm4 0h-2v-4h2v4z\"/>\n",
              "    </g>\n",
              "</svg>\n",
              "  </button>\n",
              "\n",
              "<style>\n",
              "  .colab-df-quickchart {\n",
              "      --bg-color: #E8F0FE;\n",
              "      --fill-color: #1967D2;\n",
              "      --hover-bg-color: #E2EBFA;\n",
              "      --hover-fill-color: #174EA6;\n",
              "      --disabled-fill-color: #AAA;\n",
              "      --disabled-bg-color: #DDD;\n",
              "  }\n",
              "\n",
              "  [theme=dark] .colab-df-quickchart {\n",
              "      --bg-color: #3B4455;\n",
              "      --fill-color: #D2E3FC;\n",
              "      --hover-bg-color: #434B5C;\n",
              "      --hover-fill-color: #FFFFFF;\n",
              "      --disabled-bg-color: #3B4455;\n",
              "      --disabled-fill-color: #666;\n",
              "  }\n",
              "\n",
              "  .colab-df-quickchart {\n",
              "    background-color: var(--bg-color);\n",
              "    border: none;\n",
              "    border-radius: 50%;\n",
              "    cursor: pointer;\n",
              "    display: none;\n",
              "    fill: var(--fill-color);\n",
              "    height: 32px;\n",
              "    padding: 0;\n",
              "    width: 32px;\n",
              "  }\n",
              "\n",
              "  .colab-df-quickchart:hover {\n",
              "    background-color: var(--hover-bg-color);\n",
              "    box-shadow: 0 1px 2px rgba(60, 64, 67, 0.3), 0 1px 3px 1px rgba(60, 64, 67, 0.15);\n",
              "    fill: var(--button-hover-fill-color);\n",
              "  }\n",
              "\n",
              "  .colab-df-quickchart-complete:disabled,\n",
              "  .colab-df-quickchart-complete:disabled:hover {\n",
              "    background-color: var(--disabled-bg-color);\n",
              "    fill: var(--disabled-fill-color);\n",
              "    box-shadow: none;\n",
              "  }\n",
              "\n",
              "  .colab-df-spinner {\n",
              "    border: 2px solid var(--fill-color);\n",
              "    border-color: transparent;\n",
              "    border-bottom-color: var(--fill-color);\n",
              "    animation:\n",
              "      spin 1s steps(1) infinite;\n",
              "  }\n",
              "\n",
              "  @keyframes spin {\n",
              "    0% {\n",
              "      border-color: transparent;\n",
              "      border-bottom-color: var(--fill-color);\n",
              "      border-left-color: var(--fill-color);\n",
              "    }\n",
              "    20% {\n",
              "      border-color: transparent;\n",
              "      border-left-color: var(--fill-color);\n",
              "      border-top-color: var(--fill-color);\n",
              "    }\n",
              "    30% {\n",
              "      border-color: transparent;\n",
              "      border-left-color: var(--fill-color);\n",
              "      border-top-color: var(--fill-color);\n",
              "      border-right-color: var(--fill-color);\n",
              "    }\n",
              "    40% {\n",
              "      border-color: transparent;\n",
              "      border-right-color: var(--fill-color);\n",
              "      border-top-color: var(--fill-color);\n",
              "    }\n",
              "    60% {\n",
              "      border-color: transparent;\n",
              "      border-right-color: var(--fill-color);\n",
              "    }\n",
              "    80% {\n",
              "      border-color: transparent;\n",
              "      border-right-color: var(--fill-color);\n",
              "      border-bottom-color: var(--fill-color);\n",
              "    }\n",
              "    90% {\n",
              "      border-color: transparent;\n",
              "      border-bottom-color: var(--fill-color);\n",
              "    }\n",
              "  }\n",
              "</style>\n",
              "\n",
              "  <script>\n",
              "    async function quickchart(key) {\n",
              "      const quickchartButtonEl =\n",
              "        document.querySelector('#' + key + ' button');\n",
              "      quickchartButtonEl.disabled = true;  // To prevent multiple clicks.\n",
              "      quickchartButtonEl.classList.add('colab-df-spinner');\n",
              "      try {\n",
              "        const charts = await google.colab.kernel.invokeFunction(\n",
              "            'suggestCharts', [key], {});\n",
              "      } catch (error) {\n",
              "        console.error('Error during call to suggestCharts:', error);\n",
              "      }\n",
              "      quickchartButtonEl.classList.remove('colab-df-spinner');\n",
              "      quickchartButtonEl.classList.add('colab-df-quickchart-complete');\n",
              "    }\n",
              "    (() => {\n",
              "      let quickchartButtonEl =\n",
              "        document.querySelector('#df-fe825937-d3d2-48c7-a1f1-a71a7661700e button');\n",
              "      quickchartButtonEl.style.display =\n",
              "        google.colab.kernel.accessAllowed ? 'block' : 'none';\n",
              "    })();\n",
              "  </script>\n",
              "</div>\n",
              "\n",
              "    </div>\n",
              "  </div>\n"
            ],
            "application/vnd.google.colaboratory.intrinsic+json": {
              "type": "dataframe",
              "variable_name": "df",
              "summary": "{\n  \"name\": \"df\",\n  \"rows\": 14999,\n  \"fields\": [\n    {\n      \"column\": \"satisfaction_level\",\n      \"properties\": {\n        \"dtype\": \"number\",\n        \"std\": 0.24863065106114257,\n        \"min\": 0.09,\n        \"max\": 1.0,\n        \"num_unique_values\": 92,\n        \"samples\": [\n          0.83,\n          0.13,\n          0.55\n        ],\n        \"semantic_type\": \"\",\n        \"description\": \"\"\n      }\n    },\n    {\n      \"column\": \"last_evaluation\",\n      \"properties\": {\n        \"dtype\": \"number\",\n        \"std\": 0.17116911062327533,\n        \"min\": 0.36,\n        \"max\": 1.0,\n        \"num_unique_values\": 65,\n        \"samples\": [\n          0.66,\n          0.44,\n          0.53\n        ],\n        \"semantic_type\": \"\",\n        \"description\": \"\"\n      }\n    },\n    {\n      \"column\": \"number_project\",\n      \"properties\": {\n        \"dtype\": \"number\",\n        \"std\": 1,\n        \"min\": 2,\n        \"max\": 7,\n        \"num_unique_values\": 6,\n        \"samples\": [\n          2,\n          5,\n          3\n        ],\n        \"semantic_type\": \"\",\n        \"description\": \"\"\n      }\n    },\n    {\n      \"column\": \"average_montly_hours\",\n      \"properties\": {\n        \"dtype\": \"number\",\n        \"std\": 49,\n        \"min\": 96,\n        \"max\": 310,\n        \"num_unique_values\": 215,\n        \"samples\": [\n          118,\n          112,\n          222\n        ],\n        \"semantic_type\": \"\",\n        \"description\": \"\"\n      }\n    },\n    {\n      \"column\": \"time_spend_company\",\n      \"properties\": {\n        \"dtype\": \"number\",\n        \"std\": 1,\n        \"min\": 2,\n        \"max\": 10,\n        \"num_unique_values\": 8,\n        \"samples\": [\n          6,\n          8,\n          3\n        ],\n        \"semantic_type\": \"\",\n        \"description\": \"\"\n      }\n    },\n    {\n      \"column\": \"left\",\n      \"properties\": {\n        \"dtype\": \"number\",\n        \"std\": 0,\n        \"min\": 0,\n        \"max\": 1,\n        \"num_unique_values\": 2,\n        \"samples\": [\n          0,\n          1\n        ],\n        \"semantic_type\": \"\",\n        \"description\": \"\"\n      }\n    },\n    {\n      \"column\": \"Work_accident_1\",\n      \"properties\": {\n        \"dtype\": \"uint8\",\n        \"num_unique_values\": 2,\n        \"samples\": [\n          1,\n          0\n        ],\n        \"semantic_type\": \"\",\n        \"description\": \"\"\n      }\n    },\n    {\n      \"column\": \"promotion_last_5years_1\",\n      \"properties\": {\n        \"dtype\": \"uint8\",\n        \"num_unique_values\": 2,\n        \"samples\": [\n          1,\n          0\n        ],\n        \"semantic_type\": \"\",\n        \"description\": \"\"\n      }\n    },\n    {\n      \"column\": \"department_RandD\",\n      \"properties\": {\n        \"dtype\": \"uint8\",\n        \"num_unique_values\": 2,\n        \"samples\": [\n          1,\n          0\n        ],\n        \"semantic_type\": \"\",\n        \"description\": \"\"\n      }\n    },\n    {\n      \"column\": \"department_accounting\",\n      \"properties\": {\n        \"dtype\": \"uint8\",\n        \"num_unique_values\": 2,\n        \"samples\": [\n          1,\n          0\n        ],\n        \"semantic_type\": \"\",\n        \"description\": \"\"\n      }\n    },\n    {\n      \"column\": \"department_hr\",\n      \"properties\": {\n        \"dtype\": \"uint8\",\n        \"num_unique_values\": 2,\n        \"samples\": [\n          1,\n          0\n        ],\n        \"semantic_type\": \"\",\n        \"description\": \"\"\n      }\n    },\n    {\n      \"column\": \"department_management\",\n      \"properties\": {\n        \"dtype\": \"uint8\",\n        \"num_unique_values\": 2,\n        \"samples\": [\n          1,\n          0\n        ],\n        \"semantic_type\": \"\",\n        \"description\": \"\"\n      }\n    },\n    {\n      \"column\": \"department_marketing\",\n      \"properties\": {\n        \"dtype\": \"uint8\",\n        \"num_unique_values\": 2,\n        \"samples\": [\n          1,\n          0\n        ],\n        \"semantic_type\": \"\",\n        \"description\": \"\"\n      }\n    },\n    {\n      \"column\": \"department_product_mng\",\n      \"properties\": {\n        \"dtype\": \"uint8\",\n        \"num_unique_values\": 2,\n        \"samples\": [\n          1,\n          0\n        ],\n        \"semantic_type\": \"\",\n        \"description\": \"\"\n      }\n    },\n    {\n      \"column\": \"department_sales\",\n      \"properties\": {\n        \"dtype\": \"uint8\",\n        \"num_unique_values\": 2,\n        \"samples\": [\n          0,\n          1\n        ],\n        \"semantic_type\": \"\",\n        \"description\": \"\"\n      }\n    },\n    {\n      \"column\": \"department_support\",\n      \"properties\": {\n        \"dtype\": \"uint8\",\n        \"num_unique_values\": 2,\n        \"samples\": [\n          1,\n          0\n        ],\n        \"semantic_type\": \"\",\n        \"description\": \"\"\n      }\n    },\n    {\n      \"column\": \"department_technical\",\n      \"properties\": {\n        \"dtype\": \"uint8\",\n        \"num_unique_values\": 2,\n        \"samples\": [\n          1,\n          0\n        ],\n        \"semantic_type\": \"\",\n        \"description\": \"\"\n      }\n    },\n    {\n      \"column\": \"salary_low\",\n      \"properties\": {\n        \"dtype\": \"uint8\",\n        \"num_unique_values\": 2,\n        \"samples\": [\n          0,\n          1\n        ],\n        \"semantic_type\": \"\",\n        \"description\": \"\"\n      }\n    },\n    {\n      \"column\": \"salary_medium\",\n      \"properties\": {\n        \"dtype\": \"uint8\",\n        \"num_unique_values\": 2,\n        \"samples\": [\n          1,\n          0\n        ],\n        \"semantic_type\": \"\",\n        \"description\": \"\"\n      }\n    }\n  ]\n}"
            }
          },
          "metadata": {},
          "execution_count": 14
        }
      ],
      "source": [
        "df.head()"
      ]
    },
    {
      "cell_type": "code",
      "execution_count": 15,
      "metadata": {
        "colab": {
          "base_uri": "https://localhost:8080/"
        },
        "id": "hRkE6jKVWyT-",
        "outputId": "afb70bff-b4b9-42ca-b8bd-29bf35364a5d"
      },
      "outputs": [
        {
          "output_type": "execute_result",
          "data": {
            "text/plain": [
              "Index(['satisfaction_level', 'last_evaluation', 'number_project',\n",
              "       'average_montly_hours', 'time_spend_company', 'left', 'Work_accident_1',\n",
              "       'promotion_last_5years_1', 'department_RandD', 'department_accounting',\n",
              "       'department_hr', 'department_management', 'department_marketing',\n",
              "       'department_product_mng', 'department_sales', 'department_support',\n",
              "       'department_technical', 'salary_low', 'salary_medium'],\n",
              "      dtype='object')"
            ]
          },
          "metadata": {},
          "execution_count": 15
        }
      ],
      "source": [
        "df.columns"
      ]
    },
    {
      "cell_type": "code",
      "execution_count": 16,
      "metadata": {
        "colab": {
          "base_uri": "https://localhost:8080/"
        },
        "id": "HulBZ38bWyT_",
        "outputId": "aaedfb34-3ee1-4951-bfad-3f32b93d3397"
      },
      "outputs": [
        {
          "output_type": "execute_result",
          "data": {
            "text/plain": [
              "(14999, 19)"
            ]
          },
          "metadata": {},
          "execution_count": 16
        }
      ],
      "source": [
        "df.shape #look at the dimesnion of the data --here 18 inputs/features thus atleast the first hidden layer 18 neurons/nodes"
      ]
    },
    {
      "cell_type": "markdown",
      "metadata": {
        "id": "U58ze-PBWyT_"
      },
      "source": [
        "## Train-Test split\n",
        "Using sklearn train_test_split function which is really easy to work with."
      ]
    },
    {
      "cell_type": "code",
      "execution_count": 17,
      "metadata": {
        "id": "92z1-WPMWyUA"
      },
      "outputs": [],
      "source": [
        "from sklearn.model_selection import train_test_split"
      ]
    },
    {
      "cell_type": "code",
      "execution_count": 18,
      "metadata": {
        "colab": {
          "base_uri": "https://localhost:8080/"
        },
        "id": "6O6SCK3wWyUA",
        "outputId": "6c351ff6-12e5-42c4-9abd-2ffc6627530e"
      },
      "outputs": [
        {
          "output_type": "execute_result",
          "data": {
            "text/plain": [
              "array([[0.38, 0.53, 2.  , ..., 0.  , 1.  , 0.  ],\n",
              "       [0.8 , 0.86, 5.  , ..., 0.  , 0.  , 1.  ],\n",
              "       [0.11, 0.88, 7.  , ..., 0.  , 0.  , 1.  ],\n",
              "       ...,\n",
              "       [0.37, 0.53, 2.  , ..., 0.  , 1.  , 0.  ],\n",
              "       [0.11, 0.96, 6.  , ..., 0.  , 1.  , 0.  ],\n",
              "       [0.37, 0.52, 2.  , ..., 0.  , 1.  , 0.  ]])"
            ]
          },
          "metadata": {},
          "execution_count": 18
        }
      ],
      "source": [
        "X = df.drop(\"left\", axis=1, inplace=False).values # tensorflow works with np.array instead of pandas series or dataframe. So we had to add the .value to the end.\n",
        "X"
      ]
    },
    {
      "cell_type": "code",
      "execution_count": 19,
      "metadata": {
        "colab": {
          "base_uri": "https://localhost:8080/"
        },
        "id": "tJmh8UnlWyUB",
        "outputId": "a6135c73-1f16-4dd7-f80b-012932b2382a"
      },
      "outputs": [
        {
          "output_type": "execute_result",
          "data": {
            "text/plain": [
              "(14999, 18)"
            ]
          },
          "metadata": {},
          "execution_count": 19
        }
      ],
      "source": [
        "X.shape"
      ]
    },
    {
      "cell_type": "code",
      "execution_count": 20,
      "metadata": {
        "colab": {
          "base_uri": "https://localhost:8080/"
        },
        "id": "xdvi8EoaWyUC",
        "outputId": "2f2f29d1-5717-4e52-9c1f-e015e41ffe3c"
      },
      "outputs": [
        {
          "output_type": "execute_result",
          "data": {
            "text/plain": [
              "array([1, 1, 1, ..., 1, 1, 1])"
            ]
          },
          "metadata": {},
          "execution_count": 20
        }
      ],
      "source": [
        "y = df['left'].values\n",
        "y"
      ]
    },
    {
      "cell_type": "code",
      "execution_count": 21,
      "metadata": {
        "id": "RohYtp9GWyUE"
      },
      "outputs": [],
      "source": [
        "X_train, X_test, y_train, y_test = train_test_split(X,y,test_size=0.2,random_state=500)"
      ]
    },
    {
      "cell_type": "code",
      "execution_count": 22,
      "metadata": {
        "colab": {
          "base_uri": "https://localhost:8080/"
        },
        "id": "d5oc3PtqWyUF",
        "outputId": "95403904-8250-459d-fabf-de04f7aded24"
      },
      "outputs": [
        {
          "output_type": "execute_result",
          "data": {
            "text/plain": [
              "(11999, 18)"
            ]
          },
          "metadata": {},
          "execution_count": 22
        }
      ],
      "source": [
        "X_train.shape"
      ]
    },
    {
      "cell_type": "code",
      "execution_count": 23,
      "metadata": {
        "colab": {
          "base_uri": "https://localhost:8080/"
        },
        "id": "YXj6UJI6WyUG",
        "outputId": "cac0f0c8-c507-4360-afe1-22b9c4cd3229"
      },
      "outputs": [
        {
          "output_type": "execute_result",
          "data": {
            "text/plain": [
              "(3000,)"
            ]
          },
          "metadata": {},
          "execution_count": 23
        }
      ],
      "source": [
        "y_test.shape"
      ]
    },
    {
      "cell_type": "markdown",
      "metadata": {
        "id": "w91wM-IaWyUI"
      },
      "source": [
        "## Scaling features\n",
        "To avoid gradient vanishing or exploding, we should normalize the features:\n",
        "\n",
        "It depends on the problem and the data. Both MinMaxScaler and StandardScaler are techniques used to normalize data in a preprocessing step, but they have different objectives.\n",
        "MinMaxScaler scales the data between a specified minimum and maximum value (usually 0 and 1). It is often used for problems that have a defined range for the input features, such as image data.\n",
        "StandardScaler, on the other hand, scales the data to have a mean of 0 and a standard deviation of 1. This makes it useful for Gaussian-distributed data, where the mean and standard deviation are meaningful statistics.\n",
        "In deep learning, the choice of normalization technique often depends on the distribution of the input data. If the data is Gaussian-distributed, StandardScaler may be a better choice. If the data has a well-defined range, MinMaxScaler may be more appropriate. Ultimately, it is important to experiment with different normalization techniques and see which one works best for a specific problem."
      ]
    },
    {
      "cell_type": "code",
      "execution_count": 24,
      "metadata": {
        "id": "MvNI87iuWyUJ"
      },
      "outputs": [],
      "source": [
        "from sklearn.preprocessing import MinMaxScaler , StandardScaler"
      ]
    },
    {
      "cell_type": "code",
      "execution_count": 25,
      "metadata": {
        "id": "o0ZBoctBWyUJ"
      },
      "outputs": [],
      "source": [
        "scaler = StandardScaler()"
      ]
    },
    {
      "cell_type": "code",
      "execution_count": 26,
      "metadata": {
        "id": "HSEq_aI6WyUK"
      },
      "outputs": [],
      "source": [
        "# remember we scale the features using the train set to avoid data leakage to the test set.\n",
        "X_train= scaler.fit_transform(X_train)\n",
        "\n",
        "X_test  = scaler.transform(X_test )"
      ]
    },
    {
      "cell_type": "code",
      "execution_count": 27,
      "metadata": {
        "colab": {
          "base_uri": "https://localhost:8080/"
        },
        "id": "_5Vh-bIxWyUL",
        "outputId": "87dc0043-ac20-4335-ec5b-03a9e6e7004d"
      },
      "outputs": [
        {
          "output_type": "execute_result",
          "data": {
            "text/plain": [
              "array([[ 0.42457559, -0.79730715,  0.16300478, ..., -0.47277248,\n",
              "         1.01672455, -0.86434249],\n",
              "       [-2.06204425,  0.60345986,  1.78817666, ..., -0.47277248,\n",
              "         1.01672455, -0.86434249],\n",
              "       [-0.13691922,  0.72019044,  0.16300478, ..., -0.47277248,\n",
              "         1.01672455, -0.86434249],\n",
              "       ...,\n",
              "       [ 0.90585684, -1.38096007, -0.64958116, ..., -0.47277248,\n",
              "        -0.98355056,  1.15694879],\n",
              "       [-2.06204425,  0.72019044,  1.78817666, ..., -0.47277248,\n",
              "         1.01672455, -0.86434249],\n",
              "       [-1.01926819, -1.1474989 , -1.4621671 , ...,  2.11518234,\n",
              "         1.01672455, -0.86434249]])"
            ]
          },
          "metadata": {},
          "execution_count": 27
        }
      ],
      "source": [
        "X_train"
      ]
    },
    {
      "cell_type": "markdown",
      "metadata": {
        "id": "QUwmwxERWyUM"
      },
      "source": [
        "# Tensorflow imports"
      ]
    },
    {
      "cell_type": "code",
      "execution_count": 28,
      "metadata": {
        "id": "1OJa_ozxWyUM"
      },
      "outputs": [],
      "source": [
        "import tensorflow as tf\n",
        "from tensorflow import keras"
      ]
    },
    {
      "cell_type": "code",
      "execution_count": null,
      "metadata": {
        "id": "Gn8-VehkWyUN"
      },
      "outputs": [],
      "source": [
        "# help(keras.Sequential)"
      ]
    },
    {
      "cell_type": "markdown",
      "metadata": {
        "id": "77gh4LIEWyUO"
      },
      "source": [
        "# Creating a NN model:\n",
        "\n",
        "There are 3 ways of creating a model with Keras:\n",
        "1. Sequential class (easiest and least flexible)\n",
        "2. Functional API (LEGO style and more flexible)\n",
        "3. Subclassing API (Fully customized and most advance)\n",
        "\n"
      ]
    },
    {
      "cell_type": "markdown",
      "metadata": {
        "id": "TfU0u6J_WyUO"
      },
      "source": [
        "## 1. Sequential class\n",
        "\n",
        "We can do either create a model as a **list of layers** or as **adding layers one by one**. The second approach is more preferred as it is a little more flexible."
      ]
    },
    {
      "cell_type": "code",
      "execution_count": 29,
      "metadata": {
        "id": "7L9XeafEWyUY"
      },
      "outputs": [],
      "source": [
        "from tensorflow.keras import layers\n",
        "from tensorflow import keras"
      ]
    },
    {
      "cell_type": "code",
      "execution_count": 30,
      "metadata": {
        "colab": {
          "base_uri": "https://localhost:8080/"
        },
        "id": "G1dOSfStWyUZ",
        "outputId": "784b1a15-61ed-4cce-a0e6-5dc93835461a"
      },
      "outputs": [
        {
          "output_type": "execute_result",
          "data": {
            "text/plain": [
              "(11999, 18)"
            ]
          },
          "metadata": {},
          "execution_count": 30
        }
      ],
      "source": [
        "X_train.shape"
      ]
    },
    {
      "cell_type": "code",
      "execution_count": 31,
      "metadata": {
        "id": "oQllpXd3WyUa"
      },
      "outputs": [],
      "source": [
        "# List of layers\n",
        "model_ll = keras.Sequential([\n",
        "    layers.Dense(units = 20, activation = 'relu'),\n",
        "    layers.Dense(units = 8, activation = 'relu'),\n",
        "\n",
        "    # output layer\n",
        "    layers.Dense(units = 1 , activation = 'sigmoid')\n",
        "])"
      ]
    },
    {
      "cell_type": "markdown",
      "metadata": {
        "id": "SwqS2GQvWyUb"
      },
      "source": [
        "Models that are not built have no weights or summary. So we need to build the model first"
      ]
    },
    {
      "cell_type": "code",
      "execution_count": 32,
      "metadata": {
        "id": "skETEu7JWyUb"
      },
      "outputs": [],
      "source": [
        "model_ll.build(input_shape=(None, X_train.shape[1])) # This is the shape of data and we are using 'None' because we can have a model to have as many data as we want"
      ]
    },
    {
      "cell_type": "code",
      "execution_count": 33,
      "metadata": {
        "colab": {
          "base_uri": "https://localhost:8080/"
        },
        "id": "3wHvTdayWyUc",
        "outputId": "2c499bbd-cc78-428b-dcbd-666eb666fd47"
      },
      "outputs": [
        {
          "output_type": "stream",
          "name": "stdout",
          "text": [
            "Model: \"sequential\"\n",
            "_________________________________________________________________\n",
            " Layer (type)                Output Shape              Param #   \n",
            "=================================================================\n",
            " dense (Dense)               (None, 20)                380       \n",
            "                                                                 \n",
            " dense_1 (Dense)             (None, 8)                 168       \n",
            "                                                                 \n",
            " dense_2 (Dense)             (None, 1)                 9         \n",
            "                                                                 \n",
            "=================================================================\n",
            "Total params: 557 (2.18 KB)\n",
            "Trainable params: 557 (2.18 KB)\n",
            "Non-trainable params: 0 (0.00 Byte)\n",
            "_________________________________________________________________\n"
          ]
        }
      ],
      "source": [
        "model_ll.summary()"
      ]
    },
    {
      "cell_type": "code",
      "execution_count": 35,
      "metadata": {
        "colab": {
          "base_uri": "https://localhost:8080/"
        },
        "id": "jtjSSFLBWyUc",
        "outputId": "7ee49af0-c17a-4e41-b018-53184240f86d"
      },
      "outputs": [
        {
          "output_type": "execute_result",
          "data": {
            "text/plain": [
              "380"
            ]
          },
          "metadata": {},
          "execution_count": 35
        }
      ],
      "source": [
        "18 * 20 + 20 # which is the input multiplied by the fist hidden layer nodes and an addition of the bias terms of the nodes"
      ]
    },
    {
      "cell_type": "code",
      "execution_count": 36,
      "metadata": {
        "colab": {
          "base_uri": "https://localhost:8080/"
        },
        "id": "AjB_4bhQWyUd",
        "outputId": "3a64e10d-d23e-4a29-b0b3-068e1027461e"
      },
      "outputs": [
        {
          "output_type": "execute_result",
          "data": {
            "text/plain": [
              "168"
            ]
          },
          "metadata": {},
          "execution_count": 36
        }
      ],
      "source": [
        "20 * 8 + 8"
      ]
    },
    {
      "cell_type": "code",
      "execution_count": null,
      "metadata": {
        "colab": {
          "base_uri": "https://localhost:8080/"
        },
        "id": "m68FUShZWyUe",
        "outputId": "84938ec0-5cd5-4e84-f9a9-0053c92eb758"
      },
      "outputs": [
        {
          "data": {
            "text/plain": [
              "9"
            ]
          },
          "execution_count": 43,
          "metadata": {},
          "output_type": "execute_result"
        }
      ],
      "source": [
        "8 *1 + 1"
      ]
    },
    {
      "cell_type": "markdown",
      "metadata": {
        "id": "IXVnk7IBWyUf"
      },
      "source": [
        "Now let's add layers one by one and built the model on the fly. We also rename the layers and the model itself."
      ]
    },
    {
      "cell_type": "code",
      "execution_count": 37,
      "metadata": {
        "id": "tetVI1OmWyUf"
      },
      "outputs": [],
      "source": [
        "# adding layers one by one\n",
        "model = keras.Sequential(name=\"my_classification_model\")\n",
        "model.add(layers.Input(shape=(X_train.shape[1], ))) # this is the shape of each sample!\n",
        "model.add(layers.Dense(units = 20, activation = 'relu', name=\"first_layer\"))\n",
        "model.add(layers.Dense(units = 8, activation = 'relu', name=\"second_layer\"))\n",
        "\n",
        "#output layer\n",
        "model.add(layers.Dense(units = 1, activation = 'sigmoid', name=\"output_layer\"))\n"
      ]
    },
    {
      "cell_type": "code",
      "execution_count": 38,
      "metadata": {
        "colab": {
          "base_uri": "https://localhost:8080/"
        },
        "id": "3AQ7whXcWyUg",
        "outputId": "ff5f9a13-c37d-4195-bc9d-bba9565af691"
      },
      "outputs": [
        {
          "output_type": "stream",
          "name": "stdout",
          "text": [
            "Model: \"my_classification_model\"\n",
            "_________________________________________________________________\n",
            " Layer (type)                Output Shape              Param #   \n",
            "=================================================================\n",
            " first_layer (Dense)         (None, 20)                380       \n",
            "                                                                 \n",
            " second_layer (Dense)        (None, 8)                 168       \n",
            "                                                                 \n",
            " output_layer (Dense)        (None, 1)                 9         \n",
            "                                                                 \n",
            "=================================================================\n",
            "Total params: 557 (2.18 KB)\n",
            "Trainable params: 557 (2.18 KB)\n",
            "Non-trainable params: 0 (0.00 Byte)\n",
            "_________________________________________________________________\n"
          ]
        }
      ],
      "source": [
        "model.summary()"
      ]
    },
    {
      "cell_type": "code",
      "execution_count": 40,
      "metadata": {
        "id": "5iMUMqx4WyUi",
        "outputId": "0012ec3a-4715-4e73-82ab-72f7f6ba4ebe",
        "colab": {
          "base_uri": "https://localhost:8080/"
        }
      },
      "outputs": [
        {
          "output_type": "execute_result",
          "data": {
            "text/plain": [
              "[<tf.Variable 'first_layer/kernel:0' shape=(18, 20) dtype=float32, numpy=\n",
              " array([[-2.05552876e-02,  1.11173183e-01,  4.41489220e-02,\n",
              "         -1.27719909e-01,  1.86877519e-01, -2.66828179e-01,\n",
              "          3.48008245e-01, -1.27360076e-01, -6.58887327e-02,\n",
              "         -2.10007280e-01, -4.02567983e-02, -1.98112845e-01,\n",
              "          3.06493253e-01,  5.25995493e-02,  2.07332283e-01,\n",
              "         -3.36557925e-01, -3.35337043e-01,  2.00108021e-01,\n",
              "          1.05651945e-01, -1.42865092e-01],\n",
              "        [-1.27248287e-01, -3.46395075e-02, -1.57715827e-01,\n",
              "         -1.51756525e-01,  3.40670049e-02, -7.45861232e-02,\n",
              "         -1.48019776e-01,  3.46414655e-01,  5.65699041e-02,\n",
              "         -3.13170552e-01, -3.25357646e-01, -1.46045268e-01,\n",
              "          3.86920542e-01,  3.64983410e-01,  1.59947485e-01,\n",
              "          1.90131336e-01,  2.40306288e-01,  2.05736190e-01,\n",
              "          2.67565876e-01, -1.47918031e-01],\n",
              "        [ 2.36949116e-01,  9.52022374e-02,  2.61336595e-01,\n",
              "          2.98762828e-01, -9.21558440e-02,  2.68136948e-01,\n",
              "          5.73663712e-02, -8.08247328e-02,  3.24201256e-01,\n",
              "         -1.53025165e-01,  2.07371384e-01, -2.85075903e-02,\n",
              "          2.21379697e-02,  5.59427440e-02, -3.10721397e-01,\n",
              "          3.13866466e-01, -1.28141493e-01,  3.95572633e-01,\n",
              "          1.91788524e-01,  1.49282843e-01],\n",
              "        [ 2.74647743e-01,  1.49351329e-01,  3.32893580e-01,\n",
              "         -2.61697054e-01, -3.31021845e-02, -2.08356947e-01,\n",
              "         -3.02051634e-01,  3.18512172e-01,  3.18797797e-01,\n",
              "         -3.01000983e-01, -1.76065147e-01, -1.83726251e-02,\n",
              "          4.95157242e-02, -1.85224026e-01,  1.55827910e-01,\n",
              "         -3.14272642e-01,  1.71423554e-02,  3.05883288e-02,\n",
              "         -5.76819479e-02, -2.94713974e-01],\n",
              "        [ 1.52741522e-01,  1.96063668e-01,  2.40415961e-01,\n",
              "          7.19637871e-02,  2.36696273e-01,  3.55726451e-01,\n",
              "          3.11138242e-01, -2.63324380e-03, -3.85160118e-01,\n",
              "         -2.23665848e-01,  6.38706982e-02,  2.65528470e-01,\n",
              "         -2.50969708e-01, -2.31551826e-01, -1.52594954e-01,\n",
              "         -1.05937392e-01, -1.74475729e-01, -2.25403816e-01,\n",
              "          2.68019408e-01,  1.15618378e-01],\n",
              "        [-5.58220446e-02, -9.57649946e-02,  8.06322694e-03,\n",
              "          1.15414411e-01, -1.99106544e-01,  1.14744097e-01,\n",
              "         -3.96683663e-01, -3.27392519e-01,  2.37023979e-01,\n",
              "         -1.23140186e-01, -2.46363729e-01,  2.98053890e-01,\n",
              "          8.32145810e-02, -4.89798784e-02,  1.23506457e-01,\n",
              "          3.75842601e-01, -3.35516751e-01,  2.28625566e-01,\n",
              "         -1.02388412e-01,  2.99114257e-01],\n",
              "        [-3.49319130e-01, -1.73546538e-01, -1.61329225e-01,\n",
              "          1.84632987e-01,  9.39054787e-02,  1.80814862e-02,\n",
              "         -2.84031808e-01, -3.30342829e-01,  8.58226120e-02,\n",
              "          1.80687100e-01, -2.35761508e-01,  1.82691485e-01,\n",
              "         -2.55155116e-01,  3.21555585e-01,  1.88814193e-01,\n",
              "         -1.66086495e-01,  1.28291249e-02,  3.55265647e-01,\n",
              "         -3.87900591e-01,  7.51435757e-02],\n",
              "        [ 1.07059926e-01, -3.02766234e-01,  2.13496596e-01,\n",
              "         -1.63697198e-01,  5.31387031e-02,  1.40479475e-01,\n",
              "          1.36675030e-01, -2.44832575e-01,  3.19850892e-01,\n",
              "          2.09087282e-01,  8.69230032e-02, -5.38880825e-02,\n",
              "         -2.35620260e-01, -5.45881987e-02, -1.50253519e-01,\n",
              "         -1.53089970e-01,  3.34122688e-01,  2.33924180e-01,\n",
              "         -2.57218122e-01, -1.99905291e-01],\n",
              "        [-2.77424783e-01, -2.27260202e-01, -9.23916698e-02,\n",
              "          3.69460970e-01, -6.58132136e-02,  2.34519690e-01,\n",
              "          1.70815438e-01, -2.74132371e-01,  1.22536331e-01,\n",
              "          5.48331738e-02, -5.48330843e-02, -3.79165858e-01,\n",
              "          3.22837800e-01,  3.06643844e-02,  3.65690321e-01,\n",
              "         -1.44447982e-02, -3.13462138e-01,  1.26542002e-01,\n",
              "          9.22564566e-02,  2.71294206e-01],\n",
              "        [-9.63824987e-02, -2.02608258e-01, -5.12361526e-03,\n",
              "         -2.94284075e-01, -1.13979489e-01, -3.58069688e-01,\n",
              "         -7.89451599e-03, -7.62165785e-02, -4.60148752e-02,\n",
              "          2.23289341e-01, -1.22653991e-01,  3.48067284e-02,\n",
              "          3.72371823e-01, -3.51969987e-01, -3.02861452e-01,\n",
              "          2.30195552e-01,  9.04265046e-02, -2.83063769e-01,\n",
              "          1.39360517e-01, -2.82336950e-01],\n",
              "        [ 2.13408023e-01,  2.36482948e-01, -3.46748620e-01,\n",
              "          3.41243148e-02,  2.92312294e-01, -1.02662861e-01,\n",
              "          1.28776878e-01,  1.34364814e-01, -5.85444570e-02,\n",
              "          2.26146489e-01,  3.27264994e-01, -1.48093492e-01,\n",
              "          3.51429135e-01,  1.52159661e-01,  2.12961107e-01,\n",
              "         -1.60473645e-01, -5.99434376e-02,  3.12396735e-01,\n",
              "         -2.89298862e-01, -3.22429478e-01],\n",
              "        [ 3.55200678e-01, -2.33590588e-01,  3.12379211e-01,\n",
              "         -1.43486261e-02,  6.58167303e-02, -2.47831687e-01,\n",
              "          3.66701156e-01,  3.87624413e-01, -9.07088220e-02,\n",
              "         -4.88659739e-03, -1.78779572e-01,  2.66379029e-01,\n",
              "         -3.26229423e-01, -9.31487083e-02, -2.60553390e-01,\n",
              "          3.53409737e-01, -2.78292477e-01, -3.43709052e-01,\n",
              "         -2.30939910e-01, -2.17901602e-01],\n",
              "        [-2.38497823e-01,  3.29983205e-01,  2.55877703e-01,\n",
              "          2.52764612e-01, -2.01262593e-01, -3.08007002e-04,\n",
              "         -1.52993619e-01,  2.05503374e-01, -3.14603180e-01,\n",
              "         -2.45536953e-01, -6.41053915e-03, -2.57482082e-01,\n",
              "         -6.53283298e-02, -2.12879553e-01, -7.05704093e-03,\n",
              "         -1.64694324e-01,  3.95032912e-01,  2.61927456e-01,\n",
              "          1.92357510e-01, -5.59417903e-02],\n",
              "        [ 1.24920994e-01,  3.85509998e-01, -3.55527580e-01,\n",
              "         -2.78916717e-01,  2.91797549e-01,  3.13411742e-01,\n",
              "         -3.24915051e-02, -3.31732184e-01,  4.76142466e-02,\n",
              "          2.78956920e-01, -3.81311744e-01,  1.32638961e-01,\n",
              "         -1.11348063e-01,  1.23999566e-01,  3.55868965e-01,\n",
              "          5.45893312e-02, -5.25487661e-02,  2.03140706e-01,\n",
              "         -1.33103281e-01, -1.33383542e-01],\n",
              "        [ 1.11345023e-01, -1.65193215e-01, -9.16828215e-02,\n",
              "         -1.35166019e-01, -9.66488123e-02, -2.26839274e-01,\n",
              "         -3.28437954e-01, -2.54159421e-01, -3.65554273e-01,\n",
              "          1.28980786e-01, -3.37307781e-01,  2.05055803e-01,\n",
              "          1.74188465e-01, -2.70054162e-01,  2.40505606e-01,\n",
              "          6.81116581e-02,  2.00055450e-01,  1.48174673e-01,\n",
              "         -5.48797846e-03,  3.30057293e-01],\n",
              "        [ 1.30395204e-01,  4.16529477e-02,  2.58090943e-01,\n",
              "          1.90364420e-02, -2.61119246e-01, -7.54403770e-02,\n",
              "          2.94316381e-01, -3.47918063e-01,  1.95462197e-01,\n",
              "          3.32403213e-01,  2.01415718e-02, -1.64641544e-01,\n",
              "          1.20152920e-01,  1.47290379e-01, -2.31468379e-02,\n",
              "          3.12805921e-01, -3.69583488e-01, -3.48923415e-01,\n",
              "          2.60276109e-01,  1.68495804e-01],\n",
              "        [ 1.41120404e-01,  2.46096462e-01, -7.74348974e-02,\n",
              "          1.86883479e-01,  3.33718747e-01,  1.80001408e-01,\n",
              "          2.62968630e-01, -2.19873205e-01, -3.29373389e-01,\n",
              "         -1.92544147e-01, -1.16408467e-01,  1.69661611e-01,\n",
              "          1.89354390e-01,  3.16362470e-01,  2.01419592e-02,\n",
              "          1.30189449e-01,  1.05432361e-01, -2.78486222e-01,\n",
              "          3.98286879e-02, -2.48223245e-01],\n",
              "        [-8.11492801e-02,  2.61059076e-01, -2.02024952e-01,\n",
              "         -1.25381023e-01,  3.36940020e-01,  1.10682875e-01,\n",
              "          1.76746219e-01, -1.53520733e-01,  1.30199403e-01,\n",
              "         -2.39869252e-01,  3.67245466e-01, -2.43900344e-01,\n",
              "         -1.23452812e-01, -1.99339420e-01, -3.90380919e-02,\n",
              "          1.43866241e-02,  6.95112050e-02,  1.84121460e-01,\n",
              "          6.98900223e-03,  1.46824270e-01]], dtype=float32)>,\n",
              " <tf.Variable 'first_layer/bias:0' shape=(20,) dtype=float32, numpy=\n",
              " array([0., 0., 0., 0., 0., 0., 0., 0., 0., 0., 0., 0., 0., 0., 0., 0., 0.,\n",
              "        0., 0., 0.], dtype=float32)>,\n",
              " <tf.Variable 'second_layer/kernel:0' shape=(20, 8) dtype=float32, numpy=\n",
              " array([[-0.06998464,  0.2820592 , -0.16405815,  0.07599473,  0.28041953,\n",
              "         -0.41782892, -0.01855114, -0.18678105],\n",
              "        [ 0.24999887, -0.20712918, -0.35431188,  0.435094  , -0.03536126,\n",
              "         -0.09521106, -0.14779115,  0.3859737 ],\n",
              "        [-0.17628321, -0.02153799,  0.16205227,  0.28076583,  0.20112538,\n",
              "         -0.43494332,  0.03570417,  0.25819403],\n",
              "        [ 0.34612113, -0.45047122, -0.2542907 ,  0.10438526, -0.36478332,\n",
              "          0.2574091 , -0.31069234,  0.14862818],\n",
              "        [-0.287592  ,  0.2586193 , -0.33303523,  0.14617074, -0.45168614,\n",
              "         -0.35951674, -0.16423252, -0.39026847],\n",
              "        [ 0.29761326, -0.09887412, -0.0734179 ,  0.31471044, -0.2577784 ,\n",
              "          0.26163483,  0.1788413 ,  0.41600996],\n",
              "        [-0.39413428,  0.02960446, -0.41895324,  0.09328443,  0.42590898,\n",
              "          0.40462285, -0.3889432 ,  0.3676439 ],\n",
              "        [ 0.17523354,  0.24387789,  0.03631705,  0.22637743, -0.03124648,\n",
              "          0.24837947, -0.24096364,  0.04450214],\n",
              "        [ 0.44190073, -0.07036605, -0.0585168 ,  0.06763989, -0.349223  ,\n",
              "         -0.1628075 , -0.16575503,  0.15136093],\n",
              "        [ 0.30541152,  0.38335282, -0.08075362,  0.27275068,  0.41080767,\n",
              "          0.15338254,  0.23908919, -0.30756247],\n",
              "        [ 0.39340806, -0.2536006 ,  0.06077468,  0.3140061 , -0.43264726,\n",
              "         -0.14593169,  0.3386221 , -0.040326  ],\n",
              "        [-0.28088218,  0.09462249, -0.36410898, -0.4522649 ,  0.16862369,\n",
              "          0.36529136, -0.11581293,  0.39083296],\n",
              "        [ 0.37127703, -0.35507098,  0.22259825,  0.0966922 , -0.10649073,\n",
              "          0.05470628,  0.1040343 ,  0.4125818 ],\n",
              "        [ 0.1133725 ,  0.24882346, -0.09384373, -0.3404013 , -0.13262075,\n",
              "          0.18199402, -0.28160462,  0.26434654],\n",
              "        [ 0.18272716, -0.38783455, -0.25287384,  0.14579892,  0.39990467,\n",
              "          0.19147843, -0.28053296, -0.3288092 ],\n",
              "        [ 0.45000184, -0.11264586, -0.3193102 ,  0.35605645,  0.24480188,\n",
              "          0.44171983,  0.45096326,  0.07592124],\n",
              "        [-0.13212255, -0.30195642, -0.17057651, -0.34104154, -0.44818753,\n",
              "         -0.17332551, -0.36107314,  0.23583406],\n",
              "        [-0.18945578, -0.2815758 ,  0.05103117, -0.33211422, -0.02787688,\n",
              "         -0.4374513 ,  0.20730036,  0.28831345],\n",
              "        [ 0.25184876,  0.20904005,  0.45867586,  0.03148344, -0.12949407,\n",
              "          0.34715217,  0.37717968, -0.16573715],\n",
              "        [ 0.16879255,  0.26776564,  0.10984224,  0.11507148, -0.1855861 ,\n",
              "         -0.43815377,  0.17727673,  0.1137926 ]], dtype=float32)>,\n",
              " <tf.Variable 'second_layer/bias:0' shape=(8,) dtype=float32, numpy=array([0., 0., 0., 0., 0., 0., 0., 0.], dtype=float32)>,\n",
              " <tf.Variable 'output_layer/kernel:0' shape=(8, 1) dtype=float32, numpy=\n",
              " array([[ 0.00159222],\n",
              "        [-0.4617857 ],\n",
              "        [ 0.23733628],\n",
              "        [ 0.76617026],\n",
              "        [ 0.4022293 ],\n",
              "        [ 0.2795173 ],\n",
              "        [ 0.7368039 ],\n",
              "        [-0.78060216]], dtype=float32)>,\n",
              " <tf.Variable 'output_layer/bias:0' shape=(1,) dtype=float32, numpy=array([0.], dtype=float32)>]"
            ]
          },
          "metadata": {},
          "execution_count": 40
        }
      ],
      "source": [
        "model.weights #random initialization of the weights (it hasnt been trained yet)"
      ]
    },
    {
      "cell_type": "markdown",
      "metadata": {
        "id": "7twgtfPFWyUl"
      },
      "source": [
        "## 2. Functional API\n",
        "The sequential model is easy to use, but its applicability is extremely limited. It can only express models with a single input and a single output. In practice, we will deal with models with multiple input (image with its meta data) and multiple output. This is like LEGO"
      ]
    },
    {
      "cell_type": "code",
      "execution_count": 41,
      "metadata": {
        "id": "Qwx2PIm3WyUm"
      },
      "outputs": [],
      "source": [
        "inputs   = keras.Input(shape=(X_train.shape[1]), name= \"my_input\")\n",
        "features = layers.Dense(20, activation='relu',   name='first_layer')(inputs)\n",
        "features = layers.Dense(8, activation='relu',   name='second_layer')(features)\n",
        "outputs   = layers.Dense(1,  activation='sigmoid',name='output_layer')(features)\n",
        "model_functional = keras.Model(inputs=inputs, outputs=outputs)\n",
        "\n"
      ]
    },
    {
      "cell_type": "code",
      "execution_count": 42,
      "metadata": {
        "id": "4WHKWTGVWyUn",
        "outputId": "82519d9b-d425-404a-aee8-8e6d27a465c3",
        "colab": {
          "base_uri": "https://localhost:8080/"
        }
      },
      "outputs": [
        {
          "output_type": "stream",
          "name": "stdout",
          "text": [
            "Model: \"model\"\n",
            "_________________________________________________________________\n",
            " Layer (type)                Output Shape              Param #   \n",
            "=================================================================\n",
            " my_input (InputLayer)       [(None, 18)]              0         \n",
            "                                                                 \n",
            " first_layer (Dense)         (None, 20)                380       \n",
            "                                                                 \n",
            " second_layer (Dense)        (None, 8)                 168       \n",
            "                                                                 \n",
            " output_layer (Dense)        (None, 1)                 9         \n",
            "                                                                 \n",
            "=================================================================\n",
            "Total params: 557 (2.18 KB)\n",
            "Trainable params: 557 (2.18 KB)\n",
            "Non-trainable params: 0 (0.00 Byte)\n",
            "_________________________________________________________________\n"
          ]
        }
      ],
      "source": [
        "model_functional.summary()"
      ]
    },
    {
      "cell_type": "code",
      "execution_count": 43,
      "metadata": {
        "id": "PKQeeJWOWyUo",
        "outputId": "080810b6-2c06-4f74-dbd9-aa5e6e022cdf",
        "colab": {
          "base_uri": "https://localhost:8080/",
          "height": 545
        }
      },
      "outputs": [
        {
          "output_type": "execute_result",
          "data": {
            "image/png": "[encoded data removed]",
            "text/plain": [
              "<IPython.core.display.Image object>"
            ]
          },
          "metadata": {},
          "execution_count": 43
        }
      ],
      "source": [
        "keras.utils.plot_model(model_functional, \"ticket_classifier.png\" ,\n",
        "                       show_dtype=True, show_layer_activations=True, show_layer_names=True, show_shapes=True)"
      ]
    },
    {
      "cell_type": "markdown",
      "metadata": {
        "id": "yJLU93ifWyUp"
      },
      "source": [
        "One of the power of functional api is access to the inputs and outputs of different layers. For example, let's add another output layer without re-creating the entire model"
      ]
    },
    {
      "cell_type": "code",
      "execution_count": 44,
      "metadata": {
        "id": "1tg3IhqlWyUq",
        "outputId": "e31ad751-9673-49d5-9c69-f59c1601b5a3",
        "colab": {
          "base_uri": "https://localhost:8080/"
        }
      },
      "outputs": [
        {
          "output_type": "execute_result",
          "data": {
            "text/plain": [
              "[<keras.src.engine.input_layer.InputLayer at 0x7ea765415720>,\n",
              " <keras.src.layers.core.dense.Dense at 0x7ea7654145e0>,\n",
              " <keras.src.layers.core.dense.Dense at 0x7ea765415db0>,\n",
              " <keras.src.layers.core.dense.Dense at 0x7ea765415ea0>]"
            ]
          },
          "metadata": {},
          "execution_count": 44
        }
      ],
      "source": [
        "model_functional.layers"
      ]
    },
    {
      "cell_type": "code",
      "execution_count": 45,
      "metadata": {
        "id": "a1tWV9QcWyUq"
      },
      "outputs": [],
      "source": [
        "features = model_functional.layers[2].output\n",
        "new_output = layers.Dense(3, activation='softmax',   name='new_output_layer')(features)\n",
        "\n",
        "new_model_functional = keras.Model(inputs=inputs, outputs=[outputs, new_output])"
      ]
    },
    {
      "cell_type": "code",
      "execution_count": 46,
      "metadata": {
        "id": "ITtK2YxpWyUr",
        "outputId": "c076439f-1cc7-4816-d2e7-0590c80522b1",
        "colab": {
          "base_uri": "https://localhost:8080/"
        }
      },
      "outputs": [
        {
          "output_type": "stream",
          "name": "stdout",
          "text": [
            "Model: \"model_1\"\n",
            "__________________________________________________________________________________________________\n",
            " Layer (type)                Output Shape                 Param #   Connected to                  \n",
            "==================================================================================================\n",
            " my_input (InputLayer)       [(None, 18)]                 0         []                            \n",
            "                                                                                                  \n",
            " first_layer (Dense)         (None, 20)                   380       ['my_input[0][0]']            \n",
            "                                                                                                  \n",
            " second_layer (Dense)        (None, 8)                    168       ['first_layer[0][0]']         \n",
            "                                                                                                  \n",
            " output_layer (Dense)        (None, 1)                    9         ['second_layer[0][0]']        \n",
            "                                                                                                  \n",
            " new_output_layer (Dense)    (None, 3)                    27        ['second_layer[0][0]']        \n",
            "                                                                                                  \n",
            "==================================================================================================\n",
            "Total params: 584 (2.28 KB)\n",
            "Trainable params: 584 (2.28 KB)\n",
            "Non-trainable params: 0 (0.00 Byte)\n",
            "__________________________________________________________________________________________________\n"
          ]
        }
      ],
      "source": [
        "new_model_functional.summary()"
      ]
    },
    {
      "cell_type": "code",
      "execution_count": 48,
      "metadata": {
        "id": "aSO6Le3RWyUs",
        "outputId": "5af89ebf-6bb8-4352-a66c-eaea42853eea",
        "colab": {
          "base_uri": "https://localhost:8080/"
        }
      },
      "outputs": [
        {
          "output_type": "execute_result",
          "data": {
            "text/plain": [
              "27"
            ]
          },
          "metadata": {},
          "execution_count": 48
        }
      ],
      "source": [
        "8 * 3 + 3"
      ]
    },
    {
      "cell_type": "markdown",
      "metadata": {
        "id": "ZJ8tj3HPWyUs"
      },
      "source": [
        "For the rest of this notebook, we will work with the \"model\" model. The sequential one with adding one layer at a time."
      ]
    },
    {
      "cell_type": "code",
      "execution_count": 47,
      "metadata": {
        "id": "y9WKWEayWyUt",
        "outputId": "9494a7ab-d4cb-4053-e898-e5ecfcb22b62",
        "colab": {
          "base_uri": "https://localhost:8080/"
        }
      },
      "outputs": [
        {
          "output_type": "stream",
          "name": "stdout",
          "text": [
            "Model: \"my_classification_model\"\n",
            "_________________________________________________________________\n",
            " Layer (type)                Output Shape              Param #   \n",
            "=================================================================\n",
            " first_layer (Dense)         (None, 20)                380       \n",
            "                                                                 \n",
            " second_layer (Dense)        (None, 8)                 168       \n",
            "                                                                 \n",
            " output_layer (Dense)        (None, 1)                 9         \n",
            "                                                                 \n",
            "=================================================================\n",
            "Total params: 557 (2.18 KB)\n",
            "Trainable params: 557 (2.18 KB)\n",
            "Non-trainable params: 0 (0.00 Byte)\n",
            "_________________________________________________________________\n"
          ]
        }
      ],
      "source": [
        "model.summary()"
      ]
    },
    {
      "cell_type": "markdown",
      "metadata": {
        "id": "n9THImXTWyUu"
      },
      "source": [
        "# Model Compile\n",
        "\n",
        "Now it is time to choose the optimizer and the loss function. We will also pick our performance metric as well.\n",
        "\n",
        "keras optimizers: https://keras.io/api/optimizers/\n",
        "\n",
        "keras loss functions: https://keras.io/api/losses/\n",
        "\n",
        "keras metrics: https://keras.io/api/metrics/\n",
        "\n",
        "    # For a multi-class classification problem (one-hot encoded output)\n",
        "    model.compile(optimizer='rmsprop',\n",
        "                  loss='categorical_crossentropy',\n",
        "                  metrics=[tf.keras.metrics.Accuracy()])\n",
        "\n",
        "    # For a multi-class classification problem (integer output)\n",
        "    model.compile(optimizer='rmsprop',\n",
        "                  loss='sparse_categorical_crossentropy',\n",
        "                  metrics=['accuracy'])\n",
        "\n",
        "    # For a binary classification problem\n",
        "    model.compile(optimizer='rmsprop',\n",
        "                  loss='binary_crossentropy',\n",
        "                  metrics=['accuracy'])\n",
        "\n",
        "    # For a mean squared error regression problem\n",
        "    model.compile(optimizer='rmsprop',\n",
        "                  loss='mse',\n",
        "                  metrics=['mean_squared_error']) # we don't need to pass the metrics for regression."
      ]
    },
    {
      "cell_type": "code",
      "execution_count": 49,
      "metadata": {
        "id": "IUdsW8OrWyUu"
      },
      "outputs": [],
      "source": [
        "model.compile(optimizer='rmsprop', loss='binary_crossentropy', metrics=['accuracy'])"
      ]
    },
    {
      "cell_type": "code",
      "execution_count": 50,
      "metadata": {
        "id": "6ogZgeXmWyUv"
      },
      "outputs": [],
      "source": [
        "# let's make a function to create the model. This is an important step, because\n",
        "# every time you want to fit (train) a new model, you don't want to retrain it on the existing one!\n",
        "def build_model():\n",
        "    model = keras.Sequential(name=\"my_classification_model\")\n",
        "    model.add(layers.Input(shape=(X_train.shape[1],))) # this is the shape of each sample!\n",
        "    model.add(layers.Dense(units = 20, activation = 'relu', name=\"first_layer\"))\n",
        "    model.add(layers.Dense(units = 8, activation = 'relu', name=\"second_layer\"))\n",
        "\n",
        "    #output layer\n",
        "    model.add(layers.Dense(units = 1, activation = 'sigmoid', name=\"output_layer\"))\n",
        "    model.compile(optimizer='rmsprop', loss='binary_crossentropy', metrics=['accuracy'])\n",
        "    return model"
      ]
    },
    {
      "cell_type": "code",
      "execution_count": 51,
      "metadata": {
        "id": "s_LcTSdUWyUw",
        "outputId": "e52b463a-b558-48e8-8a8c-7d1987356a24",
        "colab": {
          "base_uri": "https://localhost:8080/"
        }
      },
      "outputs": [
        {
          "output_type": "stream",
          "name": "stdout",
          "text": [
            "Model: \"my_classification_model\"\n",
            "_________________________________________________________________\n",
            " Layer (type)                Output Shape              Param #   \n",
            "=================================================================\n",
            " first_layer (Dense)         (None, 20)                380       \n",
            "                                                                 \n",
            " second_layer (Dense)        (None, 8)                 168       \n",
            "                                                                 \n",
            " output_layer (Dense)        (None, 1)                 9         \n",
            "                                                                 \n",
            "=================================================================\n",
            "Total params: 557 (2.18 KB)\n",
            "Trainable params: 557 (2.18 KB)\n",
            "Non-trainable params: 0 (0.00 Byte)\n",
            "_________________________________________________________________\n"
          ]
        }
      ],
      "source": [
        "model = build_model()\n",
        "build_model().summary()"
      ]
    },
    {
      "cell_type": "markdown",
      "metadata": {
        "id": "81mqlA-IWyUw"
      },
      "source": [
        "# Model fit\n",
        "This is the training part!\n"
      ]
    },
    {
      "cell_type": "code",
      "execution_count": 52,
      "metadata": {
        "id": "POVkdZCqWyUx",
        "outputId": "9b23a9e0-9cd3-4fba-924a-36536ac35569",
        "colab": {
          "base_uri": "https://localhost:8080/"
        }
      },
      "outputs": [
        {
          "output_type": "stream",
          "name": "stdout",
          "text": [
            "Epoch 1/400\n",
            "94/94 [==============================] - 1s 5ms/step - loss: 0.5991 - accuracy: 0.6741 - val_loss: 0.5029 - val_accuracy: 0.7613\n",
            "Epoch 2/400\n",
            "94/94 [==============================] - 0s 2ms/step - loss: 0.4501 - accuracy: 0.7891 - val_loss: 0.4291 - val_accuracy: 0.7867\n",
            "Epoch 3/400\n",
            "94/94 [==============================] - 0s 3ms/step - loss: 0.3794 - accuracy: 0.8148 - val_loss: 0.3548 - val_accuracy: 0.8430\n",
            "Epoch 4/400\n",
            "94/94 [==============================] - 0s 2ms/step - loss: 0.3108 - accuracy: 0.8697 - val_loss: 0.2858 - val_accuracy: 0.8897\n",
            "Epoch 5/400\n",
            "94/94 [==============================] - 0s 2ms/step - loss: 0.2553 - accuracy: 0.9035 - val_loss: 0.2358 - val_accuracy: 0.9220\n",
            "Epoch 6/400\n",
            "94/94 [==============================] - 0s 2ms/step - loss: 0.2167 - accuracy: 0.9258 - val_loss: 0.2016 - val_accuracy: 0.9363\n",
            "Epoch 7/400\n",
            "94/94 [==============================] - 0s 3ms/step - loss: 0.1942 - accuracy: 0.9362 - val_loss: 0.1847 - val_accuracy: 0.9403\n",
            "Epoch 8/400\n",
            "94/94 [==============================] - 0s 2ms/step - loss: 0.1820 - accuracy: 0.9419 - val_loss: 0.1750 - val_accuracy: 0.9437\n",
            "Epoch 9/400\n",
            "94/94 [==============================] - 0s 3ms/step - loss: 0.1744 - accuracy: 0.9452 - val_loss: 0.1680 - val_accuracy: 0.9473\n",
            "Epoch 10/400\n",
            "94/94 [==============================] - 0s 2ms/step - loss: 0.1691 - accuracy: 0.9479 - val_loss: 0.1640 - val_accuracy: 0.9503\n",
            "Epoch 11/400\n",
            "94/94 [==============================] - 0s 3ms/step - loss: 0.1650 - accuracy: 0.9495 - val_loss: 0.1597 - val_accuracy: 0.9500\n",
            "Epoch 12/400\n",
            "94/94 [==============================] - 0s 3ms/step - loss: 0.1619 - accuracy: 0.9507 - val_loss: 0.1583 - val_accuracy: 0.9497\n",
            "Epoch 13/400\n",
            "94/94 [==============================] - 0s 2ms/step - loss: 0.1593 - accuracy: 0.9517 - val_loss: 0.1542 - val_accuracy: 0.9543\n",
            "Epoch 14/400\n",
            "94/94 [==============================] - 0s 3ms/step - loss: 0.1569 - accuracy: 0.9527 - val_loss: 0.1514 - val_accuracy: 0.9523\n",
            "Epoch 15/400\n",
            "94/94 [==============================] - 0s 2ms/step - loss: 0.1548 - accuracy: 0.9537 - val_loss: 0.1517 - val_accuracy: 0.9533\n",
            "Epoch 16/400\n",
            "94/94 [==============================] - 0s 3ms/step - loss: 0.1527 - accuracy: 0.9537 - val_loss: 0.1484 - val_accuracy: 0.9557\n",
            "Epoch 17/400\n",
            "94/94 [==============================] - 0s 2ms/step - loss: 0.1505 - accuracy: 0.9543 - val_loss: 0.1462 - val_accuracy: 0.9550\n",
            "Epoch 18/400\n",
            "94/94 [==============================] - 0s 2ms/step - loss: 0.1493 - accuracy: 0.9558 - val_loss: 0.1456 - val_accuracy: 0.9577\n",
            "Epoch 19/400\n",
            "94/94 [==============================] - 0s 3ms/step - loss: 0.1475 - accuracy: 0.9565 - val_loss: 0.1433 - val_accuracy: 0.9570\n",
            "Epoch 20/400\n",
            "94/94 [==============================] - 0s 3ms/step - loss: 0.1458 - accuracy: 0.9563 - val_loss: 0.1425 - val_accuracy: 0.9573\n",
            "Epoch 21/400\n",
            "94/94 [==============================] - 0s 2ms/step - loss: 0.1441 - accuracy: 0.9567 - val_loss: 0.1421 - val_accuracy: 0.9573\n",
            "Epoch 22/400\n",
            "94/94 [==============================] - 0s 3ms/step - loss: 0.1428 - accuracy: 0.9563 - val_loss: 0.1402 - val_accuracy: 0.9577\n",
            "Epoch 23/400\n",
            "94/94 [==============================] - 0s 2ms/step - loss: 0.1413 - accuracy: 0.9576 - val_loss: 0.1405 - val_accuracy: 0.9573\n",
            "Epoch 24/400\n",
            "94/94 [==============================] - 0s 3ms/step - loss: 0.1400 - accuracy: 0.9582 - val_loss: 0.1392 - val_accuracy: 0.9593\n",
            "Epoch 25/400\n",
            "94/94 [==============================] - 0s 3ms/step - loss: 0.1387 - accuracy: 0.9586 - val_loss: 0.1375 - val_accuracy: 0.9590\n",
            "Epoch 26/400\n",
            "94/94 [==============================] - 0s 2ms/step - loss: 0.1375 - accuracy: 0.9596 - val_loss: 0.1367 - val_accuracy: 0.9600\n",
            "Epoch 27/400\n",
            "94/94 [==============================] - 0s 2ms/step - loss: 0.1364 - accuracy: 0.9601 - val_loss: 0.1359 - val_accuracy: 0.9573\n",
            "Epoch 28/400\n",
            "94/94 [==============================] - 0s 2ms/step - loss: 0.1351 - accuracy: 0.9596 - val_loss: 0.1351 - val_accuracy: 0.9603\n",
            "Epoch 29/400\n",
            "94/94 [==============================] - 0s 2ms/step - loss: 0.1343 - accuracy: 0.9602 - val_loss: 0.1344 - val_accuracy: 0.9600\n",
            "Epoch 30/400\n",
            "94/94 [==============================] - 0s 3ms/step - loss: 0.1328 - accuracy: 0.9605 - val_loss: 0.1330 - val_accuracy: 0.9587\n",
            "Epoch 31/400\n",
            "94/94 [==============================] - 0s 3ms/step - loss: 0.1319 - accuracy: 0.9608 - val_loss: 0.1325 - val_accuracy: 0.9580\n",
            "Epoch 32/400\n",
            "94/94 [==============================] - 0s 4ms/step - loss: 0.1309 - accuracy: 0.9607 - val_loss: 0.1335 - val_accuracy: 0.9590\n",
            "Epoch 33/400\n",
            "94/94 [==============================] - 0s 4ms/step - loss: 0.1299 - accuracy: 0.9622 - val_loss: 0.1311 - val_accuracy: 0.9590\n",
            "Epoch 34/400\n",
            "94/94 [==============================] - 0s 3ms/step - loss: 0.1291 - accuracy: 0.9619 - val_loss: 0.1312 - val_accuracy: 0.9590\n",
            "Epoch 35/400\n",
            "94/94 [==============================] - 0s 4ms/step - loss: 0.1280 - accuracy: 0.9612 - val_loss: 0.1309 - val_accuracy: 0.9587\n",
            "Epoch 36/400\n",
            "94/94 [==============================] - 0s 4ms/step - loss: 0.1273 - accuracy: 0.9615 - val_loss: 0.1297 - val_accuracy: 0.9590\n",
            "Epoch 37/400\n",
            "94/94 [==============================] - 0s 4ms/step - loss: 0.1263 - accuracy: 0.9621 - val_loss: 0.1300 - val_accuracy: 0.9593\n",
            "Epoch 38/400\n",
            "94/94 [==============================] - 0s 3ms/step - loss: 0.1257 - accuracy: 0.9625 - val_loss: 0.1279 - val_accuracy: 0.9593\n",
            "Epoch 39/400\n",
            "94/94 [==============================] - 0s 3ms/step - loss: 0.1247 - accuracy: 0.9627 - val_loss: 0.1282 - val_accuracy: 0.9603\n",
            "Epoch 40/400\n",
            "94/94 [==============================] - 0s 3ms/step - loss: 0.1238 - accuracy: 0.9630 - val_loss: 0.1275 - val_accuracy: 0.9613\n",
            "Epoch 41/400\n",
            "94/94 [==============================] - 0s 3ms/step - loss: 0.1231 - accuracy: 0.9632 - val_loss: 0.1269 - val_accuracy: 0.9613\n",
            "Epoch 42/400\n",
            "94/94 [==============================] - 0s 3ms/step - loss: 0.1220 - accuracy: 0.9638 - val_loss: 0.1269 - val_accuracy: 0.9613\n",
            "Epoch 43/400\n",
            "94/94 [==============================] - 0s 2ms/step - loss: 0.1212 - accuracy: 0.9637 - val_loss: 0.1277 - val_accuracy: 0.9597\n",
            "Epoch 44/400\n",
            "94/94 [==============================] - 0s 3ms/step - loss: 0.1199 - accuracy: 0.9637 - val_loss: 0.1256 - val_accuracy: 0.9623\n",
            "Epoch 45/400\n",
            "94/94 [==============================] - 0s 2ms/step - loss: 0.1190 - accuracy: 0.9649 - val_loss: 0.1270 - val_accuracy: 0.9583\n",
            "Epoch 46/400\n",
            "94/94 [==============================] - 0s 2ms/step - loss: 0.1182 - accuracy: 0.9638 - val_loss: 0.1252 - val_accuracy: 0.9623\n",
            "Epoch 47/400\n",
            "94/94 [==============================] - 0s 2ms/step - loss: 0.1173 - accuracy: 0.9657 - val_loss: 0.1244 - val_accuracy: 0.9620\n",
            "Epoch 48/400\n",
            "94/94 [==============================] - 0s 2ms/step - loss: 0.1164 - accuracy: 0.9644 - val_loss: 0.1248 - val_accuracy: 0.9633\n",
            "Epoch 49/400\n",
            "94/94 [==============================] - 0s 3ms/step - loss: 0.1156 - accuracy: 0.9649 - val_loss: 0.1243 - val_accuracy: 0.9620\n",
            "Epoch 50/400\n",
            "94/94 [==============================] - 0s 2ms/step - loss: 0.1148 - accuracy: 0.9653 - val_loss: 0.1250 - val_accuracy: 0.9620\n",
            "Epoch 51/400\n",
            "94/94 [==============================] - 0s 3ms/step - loss: 0.1142 - accuracy: 0.9662 - val_loss: 0.1231 - val_accuracy: 0.9620\n",
            "Epoch 52/400\n",
            "94/94 [==============================] - 0s 3ms/step - loss: 0.1134 - accuracy: 0.9660 - val_loss: 0.1228 - val_accuracy: 0.9643\n",
            "Epoch 53/400\n",
            "94/94 [==============================] - 0s 2ms/step - loss: 0.1127 - accuracy: 0.9661 - val_loss: 0.1209 - val_accuracy: 0.9640\n",
            "Epoch 54/400\n",
            "94/94 [==============================] - 0s 2ms/step - loss: 0.1120 - accuracy: 0.9656 - val_loss: 0.1218 - val_accuracy: 0.9617\n",
            "Epoch 55/400\n",
            "94/94 [==============================] - 0s 3ms/step - loss: 0.1118 - accuracy: 0.9667 - val_loss: 0.1217 - val_accuracy: 0.9610\n",
            "Epoch 56/400\n",
            "94/94 [==============================] - 0s 2ms/step - loss: 0.1110 - accuracy: 0.9660 - val_loss: 0.1217 - val_accuracy: 0.9650\n",
            "Epoch 57/400\n",
            "94/94 [==============================] - 0s 3ms/step - loss: 0.1106 - accuracy: 0.9669 - val_loss: 0.1204 - val_accuracy: 0.9633\n",
            "Epoch 58/400\n",
            "94/94 [==============================] - 0s 3ms/step - loss: 0.1098 - accuracy: 0.9662 - val_loss: 0.1194 - val_accuracy: 0.9647\n",
            "Epoch 59/400\n",
            "94/94 [==============================] - 0s 3ms/step - loss: 0.1094 - accuracy: 0.9666 - val_loss: 0.1197 - val_accuracy: 0.9637\n",
            "Epoch 60/400\n",
            "94/94 [==============================] - 0s 2ms/step - loss: 0.1086 - accuracy: 0.9667 - val_loss: 0.1192 - val_accuracy: 0.9647\n",
            "Epoch 61/400\n",
            "94/94 [==============================] - 0s 2ms/step - loss: 0.1084 - accuracy: 0.9672 - val_loss: 0.1184 - val_accuracy: 0.9643\n",
            "Epoch 62/400\n",
            "94/94 [==============================] - 0s 2ms/step - loss: 0.1075 - accuracy: 0.9672 - val_loss: 0.1192 - val_accuracy: 0.9653\n",
            "Epoch 63/400\n",
            "94/94 [==============================] - 0s 3ms/step - loss: 0.1075 - accuracy: 0.9671 - val_loss: 0.1181 - val_accuracy: 0.9663\n",
            "Epoch 64/400\n",
            "94/94 [==============================] - 0s 3ms/step - loss: 0.1068 - accuracy: 0.9670 - val_loss: 0.1172 - val_accuracy: 0.9650\n",
            "Epoch 65/400\n",
            "94/94 [==============================] - 0s 3ms/step - loss: 0.1066 - accuracy: 0.9672 - val_loss: 0.1181 - val_accuracy: 0.9653\n",
            "Epoch 66/400\n",
            "94/94 [==============================] - 0s 3ms/step - loss: 0.1061 - accuracy: 0.9676 - val_loss: 0.1166 - val_accuracy: 0.9650\n",
            "Epoch 67/400\n",
            "94/94 [==============================] - 0s 2ms/step - loss: 0.1055 - accuracy: 0.9674 - val_loss: 0.1160 - val_accuracy: 0.9650\n",
            "Epoch 68/400\n",
            "94/94 [==============================] - 0s 2ms/step - loss: 0.1051 - accuracy: 0.9675 - val_loss: 0.1174 - val_accuracy: 0.9663\n",
            "Epoch 69/400\n",
            "94/94 [==============================] - 0s 2ms/step - loss: 0.1049 - accuracy: 0.9683 - val_loss: 0.1172 - val_accuracy: 0.9647\n",
            "Epoch 70/400\n",
            "94/94 [==============================] - 0s 3ms/step - loss: 0.1044 - accuracy: 0.9682 - val_loss: 0.1170 - val_accuracy: 0.9650\n",
            "Epoch 71/400\n",
            "94/94 [==============================] - 0s 2ms/step - loss: 0.1041 - accuracy: 0.9677 - val_loss: 0.1179 - val_accuracy: 0.9660\n",
            "Epoch 72/400\n",
            "94/94 [==============================] - 0s 3ms/step - loss: 0.1035 - accuracy: 0.9684 - val_loss: 0.1171 - val_accuracy: 0.9657\n",
            "Epoch 73/400\n",
            "94/94 [==============================] - 0s 2ms/step - loss: 0.1032 - accuracy: 0.9680 - val_loss: 0.1159 - val_accuracy: 0.9677\n",
            "Epoch 74/400\n",
            "94/94 [==============================] - 0s 2ms/step - loss: 0.1026 - accuracy: 0.9686 - val_loss: 0.1170 - val_accuracy: 0.9663\n",
            "Epoch 75/400\n",
            "94/94 [==============================] - 0s 3ms/step - loss: 0.1025 - accuracy: 0.9686 - val_loss: 0.1160 - val_accuracy: 0.9670\n",
            "Epoch 76/400\n",
            "94/94 [==============================] - 0s 3ms/step - loss: 0.1018 - accuracy: 0.9691 - val_loss: 0.1174 - val_accuracy: 0.9653\n",
            "Epoch 77/400\n",
            "94/94 [==============================] - 0s 3ms/step - loss: 0.1020 - accuracy: 0.9682 - val_loss: 0.1160 - val_accuracy: 0.9663\n",
            "Epoch 78/400\n",
            "94/94 [==============================] - 0s 3ms/step - loss: 0.1014 - accuracy: 0.9693 - val_loss: 0.1160 - val_accuracy: 0.9663\n",
            "Epoch 79/400\n",
            "94/94 [==============================] - 0s 2ms/step - loss: 0.1009 - accuracy: 0.9699 - val_loss: 0.1150 - val_accuracy: 0.9663\n",
            "Epoch 80/400\n",
            "94/94 [==============================] - 0s 3ms/step - loss: 0.1007 - accuracy: 0.9696 - val_loss: 0.1151 - val_accuracy: 0.9670\n",
            "Epoch 81/400\n",
            "94/94 [==============================] - 0s 3ms/step - loss: 0.0999 - accuracy: 0.9693 - val_loss: 0.1155 - val_accuracy: 0.9680\n",
            "Epoch 82/400\n",
            "94/94 [==============================] - 0s 4ms/step - loss: 0.0997 - accuracy: 0.9700 - val_loss: 0.1130 - val_accuracy: 0.9683\n",
            "Epoch 83/400\n",
            "94/94 [==============================] - 0s 3ms/step - loss: 0.0995 - accuracy: 0.9691 - val_loss: 0.1129 - val_accuracy: 0.9697\n",
            "Epoch 84/400\n",
            "94/94 [==============================] - 0s 3ms/step - loss: 0.0994 - accuracy: 0.9693 - val_loss: 0.1141 - val_accuracy: 0.9683\n",
            "Epoch 85/400\n",
            "94/94 [==============================] - 0s 4ms/step - loss: 0.0988 - accuracy: 0.9701 - val_loss: 0.1137 - val_accuracy: 0.9670\n",
            "Epoch 86/400\n",
            "94/94 [==============================] - 0s 3ms/step - loss: 0.0985 - accuracy: 0.9699 - val_loss: 0.1131 - val_accuracy: 0.9670\n",
            "Epoch 87/400\n",
            "94/94 [==============================] - 0s 4ms/step - loss: 0.0984 - accuracy: 0.9697 - val_loss: 0.1124 - val_accuracy: 0.9683\n",
            "Epoch 88/400\n",
            "94/94 [==============================] - 0s 3ms/step - loss: 0.0980 - accuracy: 0.9699 - val_loss: 0.1120 - val_accuracy: 0.9677\n",
            "Epoch 89/400\n",
            "94/94 [==============================] - 0s 2ms/step - loss: 0.0975 - accuracy: 0.9699 - val_loss: 0.1130 - val_accuracy: 0.9677\n",
            "Epoch 90/400\n",
            "94/94 [==============================] - 0s 3ms/step - loss: 0.0974 - accuracy: 0.9697 - val_loss: 0.1126 - val_accuracy: 0.9677\n",
            "Epoch 91/400\n",
            "94/94 [==============================] - 0s 2ms/step - loss: 0.0971 - accuracy: 0.9707 - val_loss: 0.1116 - val_accuracy: 0.9687\n",
            "Epoch 92/400\n",
            "94/94 [==============================] - 0s 2ms/step - loss: 0.0970 - accuracy: 0.9706 - val_loss: 0.1127 - val_accuracy: 0.9673\n",
            "Epoch 93/400\n",
            "94/94 [==============================] - 0s 2ms/step - loss: 0.0963 - accuracy: 0.9711 - val_loss: 0.1104 - val_accuracy: 0.9677\n",
            "Epoch 94/400\n",
            "94/94 [==============================] - 0s 3ms/step - loss: 0.0961 - accuracy: 0.9707 - val_loss: 0.1108 - val_accuracy: 0.9677\n",
            "Epoch 95/400\n",
            "94/94 [==============================] - 0s 3ms/step - loss: 0.0961 - accuracy: 0.9702 - val_loss: 0.1127 - val_accuracy: 0.9690\n",
            "Epoch 96/400\n",
            "94/94 [==============================] - 0s 2ms/step - loss: 0.0955 - accuracy: 0.9713 - val_loss: 0.1099 - val_accuracy: 0.9683\n",
            "Epoch 97/400\n",
            "94/94 [==============================] - 0s 3ms/step - loss: 0.0953 - accuracy: 0.9700 - val_loss: 0.1139 - val_accuracy: 0.9663\n",
            "Epoch 98/400\n",
            "94/94 [==============================] - 0s 3ms/step - loss: 0.0953 - accuracy: 0.9717 - val_loss: 0.1101 - val_accuracy: 0.9683\n",
            "Epoch 99/400\n",
            "94/94 [==============================] - 0s 3ms/step - loss: 0.0947 - accuracy: 0.9714 - val_loss: 0.1109 - val_accuracy: 0.9683\n",
            "Epoch 100/400\n",
            "94/94 [==============================] - 0s 3ms/step - loss: 0.0948 - accuracy: 0.9713 - val_loss: 0.1106 - val_accuracy: 0.9680\n",
            "Epoch 101/400\n",
            "94/94 [==============================] - 0s 3ms/step - loss: 0.0944 - accuracy: 0.9717 - val_loss: 0.1105 - val_accuracy: 0.9677\n",
            "Epoch 102/400\n",
            "94/94 [==============================] - 0s 2ms/step - loss: 0.0941 - accuracy: 0.9715 - val_loss: 0.1118 - val_accuracy: 0.9687\n",
            "Epoch 103/400\n",
            "94/94 [==============================] - 0s 2ms/step - loss: 0.0940 - accuracy: 0.9718 - val_loss: 0.1108 - val_accuracy: 0.9687\n",
            "Epoch 104/400\n",
            "94/94 [==============================] - 0s 3ms/step - loss: 0.0939 - accuracy: 0.9714 - val_loss: 0.1108 - val_accuracy: 0.9683\n",
            "Epoch 105/400\n",
            "94/94 [==============================] - 0s 2ms/step - loss: 0.0934 - accuracy: 0.9716 - val_loss: 0.1092 - val_accuracy: 0.9687\n",
            "Epoch 106/400\n",
            "94/94 [==============================] - 0s 2ms/step - loss: 0.0936 - accuracy: 0.9720 - val_loss: 0.1092 - val_accuracy: 0.9687\n",
            "Epoch 107/400\n",
            "94/94 [==============================] - 0s 2ms/step - loss: 0.0932 - accuracy: 0.9714 - val_loss: 0.1087 - val_accuracy: 0.9687\n",
            "Epoch 108/400\n",
            "94/94 [==============================] - 0s 2ms/step - loss: 0.0929 - accuracy: 0.9723 - val_loss: 0.1090 - val_accuracy: 0.9683\n",
            "Epoch 109/400\n",
            "94/94 [==============================] - 0s 3ms/step - loss: 0.0926 - accuracy: 0.9723 - val_loss: 0.1096 - val_accuracy: 0.9693\n",
            "Epoch 110/400\n",
            "94/94 [==============================] - 0s 3ms/step - loss: 0.0923 - accuracy: 0.9720 - val_loss: 0.1100 - val_accuracy: 0.9697\n",
            "Epoch 111/400\n",
            "94/94 [==============================] - 0s 3ms/step - loss: 0.0922 - accuracy: 0.9724 - val_loss: 0.1089 - val_accuracy: 0.9680\n",
            "Epoch 112/400\n",
            "94/94 [==============================] - 0s 3ms/step - loss: 0.0921 - accuracy: 0.9720 - val_loss: 0.1099 - val_accuracy: 0.9683\n",
            "Epoch 113/400\n",
            "94/94 [==============================] - 0s 3ms/step - loss: 0.0917 - accuracy: 0.9729 - val_loss: 0.1098 - val_accuracy: 0.9690\n",
            "Epoch 114/400\n",
            "94/94 [==============================] - 0s 3ms/step - loss: 0.0918 - accuracy: 0.9720 - val_loss: 0.1095 - val_accuracy: 0.9687\n",
            "Epoch 115/400\n",
            "94/94 [==============================] - 0s 3ms/step - loss: 0.0916 - accuracy: 0.9737 - val_loss: 0.1093 - val_accuracy: 0.9680\n",
            "Epoch 116/400\n",
            "94/94 [==============================] - 0s 2ms/step - loss: 0.0914 - accuracy: 0.9728 - val_loss: 0.1093 - val_accuracy: 0.9687\n",
            "Epoch 117/400\n",
            "94/94 [==============================] - 0s 3ms/step - loss: 0.0909 - accuracy: 0.9725 - val_loss: 0.1073 - val_accuracy: 0.9690\n",
            "Epoch 118/400\n",
            "94/94 [==============================] - 0s 2ms/step - loss: 0.0910 - accuracy: 0.9725 - val_loss: 0.1081 - val_accuracy: 0.9687\n",
            "Epoch 119/400\n",
            "94/94 [==============================] - 0s 3ms/step - loss: 0.0910 - accuracy: 0.9725 - val_loss: 0.1092 - val_accuracy: 0.9677\n",
            "Epoch 120/400\n",
            "94/94 [==============================] - 0s 3ms/step - loss: 0.0908 - accuracy: 0.9730 - val_loss: 0.1092 - val_accuracy: 0.9693\n",
            "Epoch 121/400\n",
            "94/94 [==============================] - 0s 2ms/step - loss: 0.0903 - accuracy: 0.9734 - val_loss: 0.1080 - val_accuracy: 0.9700\n",
            "Epoch 122/400\n",
            "94/94 [==============================] - 0s 2ms/step - loss: 0.0905 - accuracy: 0.9729 - val_loss: 0.1090 - val_accuracy: 0.9690\n",
            "Epoch 123/400\n",
            "94/94 [==============================] - 0s 2ms/step - loss: 0.0900 - accuracy: 0.9733 - val_loss: 0.1090 - val_accuracy: 0.9687\n",
            "Epoch 124/400\n",
            "94/94 [==============================] - 0s 3ms/step - loss: 0.0899 - accuracy: 0.9729 - val_loss: 0.1089 - val_accuracy: 0.9690\n",
            "Epoch 125/400\n",
            "94/94 [==============================] - 0s 2ms/step - loss: 0.0897 - accuracy: 0.9727 - val_loss: 0.1103 - val_accuracy: 0.9683\n",
            "Epoch 126/400\n",
            "94/94 [==============================] - 0s 2ms/step - loss: 0.0895 - accuracy: 0.9728 - val_loss: 0.1077 - val_accuracy: 0.9680\n",
            "Epoch 127/400\n",
            "94/94 [==============================] - 0s 3ms/step - loss: 0.0898 - accuracy: 0.9729 - val_loss: 0.1078 - val_accuracy: 0.9700\n",
            "Epoch 128/400\n",
            "94/94 [==============================] - 0s 2ms/step - loss: 0.0892 - accuracy: 0.9734 - val_loss: 0.1098 - val_accuracy: 0.9690\n",
            "Epoch 129/400\n",
            "94/94 [==============================] - 0s 3ms/step - loss: 0.0892 - accuracy: 0.9736 - val_loss: 0.1087 - val_accuracy: 0.9703\n",
            "Epoch 130/400\n",
            "94/94 [==============================] - 0s 4ms/step - loss: 0.0894 - accuracy: 0.9724 - val_loss: 0.1087 - val_accuracy: 0.9703\n",
            "Epoch 131/400\n",
            "94/94 [==============================] - 0s 4ms/step - loss: 0.0891 - accuracy: 0.9732 - val_loss: 0.1083 - val_accuracy: 0.9690\n",
            "Epoch 132/400\n",
            "94/94 [==============================] - 0s 3ms/step - loss: 0.0889 - accuracy: 0.9736 - val_loss: 0.1081 - val_accuracy: 0.9700\n",
            "Epoch 133/400\n",
            "94/94 [==============================] - 0s 3ms/step - loss: 0.0885 - accuracy: 0.9731 - val_loss: 0.1100 - val_accuracy: 0.9687\n",
            "Epoch 134/400\n",
            "94/94 [==============================] - 0s 3ms/step - loss: 0.0884 - accuracy: 0.9732 - val_loss: 0.1090 - val_accuracy: 0.9697\n",
            "Epoch 135/400\n",
            "94/94 [==============================] - 0s 4ms/step - loss: 0.0885 - accuracy: 0.9734 - val_loss: 0.1085 - val_accuracy: 0.9697\n",
            "Epoch 136/400\n",
            "94/94 [==============================] - 0s 4ms/step - loss: 0.0882 - accuracy: 0.9732 - val_loss: 0.1090 - val_accuracy: 0.9687\n",
            "Epoch 137/400\n",
            "94/94 [==============================] - 0s 4ms/step - loss: 0.0882 - accuracy: 0.9737 - val_loss: 0.1088 - val_accuracy: 0.9690\n",
            "Epoch 138/400\n",
            "94/94 [==============================] - 0s 3ms/step - loss: 0.0878 - accuracy: 0.9739 - val_loss: 0.1101 - val_accuracy: 0.9670\n",
            "Epoch 139/400\n",
            "94/94 [==============================] - 0s 3ms/step - loss: 0.0876 - accuracy: 0.9731 - val_loss: 0.1085 - val_accuracy: 0.9687\n",
            "Epoch 140/400\n",
            "94/94 [==============================] - 0s 2ms/step - loss: 0.0878 - accuracy: 0.9732 - val_loss: 0.1089 - val_accuracy: 0.9690\n",
            "Epoch 141/400\n",
            "94/94 [==============================] - 0s 3ms/step - loss: 0.0875 - accuracy: 0.9739 - val_loss: 0.1099 - val_accuracy: 0.9697\n",
            "Epoch 142/400\n",
            "94/94 [==============================] - 0s 3ms/step - loss: 0.0872 - accuracy: 0.9736 - val_loss: 0.1091 - val_accuracy: 0.9710\n",
            "Epoch 143/400\n",
            "94/94 [==============================] - 0s 3ms/step - loss: 0.0871 - accuracy: 0.9737 - val_loss: 0.1097 - val_accuracy: 0.9683\n",
            "Epoch 144/400\n",
            "94/94 [==============================] - 0s 2ms/step - loss: 0.0871 - accuracy: 0.9738 - val_loss: 0.1097 - val_accuracy: 0.9690\n",
            "Epoch 145/400\n",
            "94/94 [==============================] - 0s 2ms/step - loss: 0.0868 - accuracy: 0.9737 - val_loss: 0.1086 - val_accuracy: 0.9690\n",
            "Epoch 146/400\n",
            "94/94 [==============================] - 0s 2ms/step - loss: 0.0869 - accuracy: 0.9747 - val_loss: 0.1104 - val_accuracy: 0.9690\n",
            "Epoch 147/400\n",
            "94/94 [==============================] - 0s 3ms/step - loss: 0.0869 - accuracy: 0.9734 - val_loss: 0.1093 - val_accuracy: 0.9690\n",
            "Epoch 148/400\n",
            "94/94 [==============================] - 0s 2ms/step - loss: 0.0866 - accuracy: 0.9740 - val_loss: 0.1095 - val_accuracy: 0.9697\n",
            "Epoch 149/400\n",
            "94/94 [==============================] - 0s 3ms/step - loss: 0.0862 - accuracy: 0.9741 - val_loss: 0.1103 - val_accuracy: 0.9693\n",
            "Epoch 150/400\n",
            "94/94 [==============================] - 0s 2ms/step - loss: 0.0863 - accuracy: 0.9744 - val_loss: 0.1095 - val_accuracy: 0.9703\n",
            "Epoch 151/400\n",
            "94/94 [==============================] - 0s 2ms/step - loss: 0.0865 - accuracy: 0.9734 - val_loss: 0.1100 - val_accuracy: 0.9697\n",
            "Epoch 152/400\n",
            "94/94 [==============================] - 0s 2ms/step - loss: 0.0858 - accuracy: 0.9738 - val_loss: 0.1102 - val_accuracy: 0.9693\n",
            "Epoch 153/400\n",
            "94/94 [==============================] - 0s 3ms/step - loss: 0.0863 - accuracy: 0.9736 - val_loss: 0.1097 - val_accuracy: 0.9700\n",
            "Epoch 154/400\n",
            "94/94 [==============================] - 0s 3ms/step - loss: 0.0860 - accuracy: 0.9737 - val_loss: 0.1099 - val_accuracy: 0.9703\n",
            "Epoch 155/400\n",
            "94/94 [==============================] - 0s 2ms/step - loss: 0.0858 - accuracy: 0.9742 - val_loss: 0.1107 - val_accuracy: 0.9713\n",
            "Epoch 156/400\n",
            "94/94 [==============================] - 0s 3ms/step - loss: 0.0858 - accuracy: 0.9743 - val_loss: 0.1105 - val_accuracy: 0.9693\n",
            "Epoch 157/400\n",
            "94/94 [==============================] - 0s 3ms/step - loss: 0.0856 - accuracy: 0.9742 - val_loss: 0.1100 - val_accuracy: 0.9707\n",
            "Epoch 158/400\n",
            "94/94 [==============================] - 0s 2ms/step - loss: 0.0855 - accuracy: 0.9742 - val_loss: 0.1100 - val_accuracy: 0.9710\n",
            "Epoch 159/400\n",
            "94/94 [==============================] - 0s 2ms/step - loss: 0.0856 - accuracy: 0.9747 - val_loss: 0.1104 - val_accuracy: 0.9693\n",
            "Epoch 160/400\n",
            "94/94 [==============================] - 0s 2ms/step - loss: 0.0851 - accuracy: 0.9740 - val_loss: 0.1102 - val_accuracy: 0.9690\n",
            "Epoch 161/400\n",
            "94/94 [==============================] - 0s 3ms/step - loss: 0.0850 - accuracy: 0.9743 - val_loss: 0.1106 - val_accuracy: 0.9697\n",
            "Epoch 162/400\n",
            "94/94 [==============================] - 0s 2ms/step - loss: 0.0852 - accuracy: 0.9739 - val_loss: 0.1085 - val_accuracy: 0.9700\n",
            "Epoch 163/400\n",
            "94/94 [==============================] - 0s 2ms/step - loss: 0.0854 - accuracy: 0.9742 - val_loss: 0.1092 - val_accuracy: 0.9710\n",
            "Epoch 164/400\n",
            "94/94 [==============================] - 0s 3ms/step - loss: 0.0846 - accuracy: 0.9742 - val_loss: 0.1114 - val_accuracy: 0.9687\n",
            "Epoch 165/400\n",
            "94/94 [==============================] - 0s 2ms/step - loss: 0.0852 - accuracy: 0.9737 - val_loss: 0.1100 - val_accuracy: 0.9693\n",
            "Epoch 166/400\n",
            "94/94 [==============================] - 0s 2ms/step - loss: 0.0846 - accuracy: 0.9741 - val_loss: 0.1106 - val_accuracy: 0.9690\n",
            "Epoch 167/400\n",
            "94/94 [==============================] - 0s 2ms/step - loss: 0.0848 - accuracy: 0.9742 - val_loss: 0.1093 - val_accuracy: 0.9703\n",
            "Epoch 168/400\n",
            "94/94 [==============================] - 0s 3ms/step - loss: 0.0844 - accuracy: 0.9742 - val_loss: 0.1098 - val_accuracy: 0.9700\n",
            "Epoch 169/400\n",
            "94/94 [==============================] - 0s 3ms/step - loss: 0.0847 - accuracy: 0.9748 - val_loss: 0.1112 - val_accuracy: 0.9697\n",
            "Epoch 170/400\n",
            "94/94 [==============================] - 0s 2ms/step - loss: 0.0841 - accuracy: 0.9743 - val_loss: 0.1101 - val_accuracy: 0.9690\n",
            "Epoch 171/400\n",
            "94/94 [==============================] - 0s 3ms/step - loss: 0.0841 - accuracy: 0.9744 - val_loss: 0.1098 - val_accuracy: 0.9693\n",
            "Epoch 172/400\n",
            "94/94 [==============================] - 0s 3ms/step - loss: 0.0837 - accuracy: 0.9744 - val_loss: 0.1109 - val_accuracy: 0.9707\n",
            "Epoch 173/400\n",
            "94/94 [==============================] - 0s 3ms/step - loss: 0.0841 - accuracy: 0.9740 - val_loss: 0.1113 - val_accuracy: 0.9690\n",
            "Epoch 174/400\n",
            "94/94 [==============================] - 0s 3ms/step - loss: 0.0837 - accuracy: 0.9744 - val_loss: 0.1113 - val_accuracy: 0.9710\n",
            "Epoch 175/400\n",
            "94/94 [==============================] - 0s 3ms/step - loss: 0.0836 - accuracy: 0.9747 - val_loss: 0.1118 - val_accuracy: 0.9697\n",
            "Epoch 176/400\n",
            "94/94 [==============================] - 0s 2ms/step - loss: 0.0833 - accuracy: 0.9744 - val_loss: 0.1122 - val_accuracy: 0.9700\n",
            "Epoch 177/400\n",
            "94/94 [==============================] - 0s 3ms/step - loss: 0.0834 - accuracy: 0.9745 - val_loss: 0.1093 - val_accuracy: 0.9710\n",
            "Epoch 178/400\n",
            "94/94 [==============================] - 0s 3ms/step - loss: 0.0829 - accuracy: 0.9747 - val_loss: 0.1111 - val_accuracy: 0.9700\n",
            "Epoch 179/400\n",
            "94/94 [==============================] - 0s 4ms/step - loss: 0.0831 - accuracy: 0.9749 - val_loss: 0.1093 - val_accuracy: 0.9713\n",
            "Epoch 180/400\n",
            "94/94 [==============================] - 0s 3ms/step - loss: 0.0830 - accuracy: 0.9751 - val_loss: 0.1104 - val_accuracy: 0.9710\n",
            "Epoch 181/400\n",
            "94/94 [==============================] - 0s 3ms/step - loss: 0.0829 - accuracy: 0.9747 - val_loss: 0.1092 - val_accuracy: 0.9717\n",
            "Epoch 182/400\n",
            "94/94 [==============================] - 0s 3ms/step - loss: 0.0824 - accuracy: 0.9755 - val_loss: 0.1083 - val_accuracy: 0.9710\n",
            "Epoch 183/400\n",
            "94/94 [==============================] - 0s 3ms/step - loss: 0.0827 - accuracy: 0.9746 - val_loss: 0.1105 - val_accuracy: 0.9707\n",
            "Epoch 184/400\n",
            "94/94 [==============================] - 0s 4ms/step - loss: 0.0825 - accuracy: 0.9739 - val_loss: 0.1105 - val_accuracy: 0.9707\n",
            "Epoch 185/400\n",
            "94/94 [==============================] - 0s 4ms/step - loss: 0.0824 - accuracy: 0.9745 - val_loss: 0.1100 - val_accuracy: 0.9713\n",
            "Epoch 186/400\n",
            "94/94 [==============================] - 0s 4ms/step - loss: 0.0825 - accuracy: 0.9753 - val_loss: 0.1107 - val_accuracy: 0.9717\n",
            "Epoch 187/400\n",
            "94/94 [==============================] - 0s 3ms/step - loss: 0.0819 - accuracy: 0.9757 - val_loss: 0.1106 - val_accuracy: 0.9707\n",
            "Epoch 188/400\n",
            "94/94 [==============================] - 0s 3ms/step - loss: 0.0817 - accuracy: 0.9750 - val_loss: 0.1112 - val_accuracy: 0.9710\n",
            "Epoch 189/400\n",
            "94/94 [==============================] - 0s 2ms/step - loss: 0.0821 - accuracy: 0.9752 - val_loss: 0.1106 - val_accuracy: 0.9707\n",
            "Epoch 190/400\n",
            "94/94 [==============================] - 0s 2ms/step - loss: 0.0816 - accuracy: 0.9745 - val_loss: 0.1109 - val_accuracy: 0.9707\n",
            "Epoch 191/400\n",
            "94/94 [==============================] - 0s 3ms/step - loss: 0.0815 - accuracy: 0.9750 - val_loss: 0.1130 - val_accuracy: 0.9687\n",
            "Epoch 192/400\n",
            "94/94 [==============================] - 0s 3ms/step - loss: 0.0813 - accuracy: 0.9745 - val_loss: 0.1095 - val_accuracy: 0.9707\n",
            "Epoch 193/400\n",
            "94/94 [==============================] - 0s 3ms/step - loss: 0.0813 - accuracy: 0.9752 - val_loss: 0.1103 - val_accuracy: 0.9713\n",
            "Epoch 194/400\n",
            "94/94 [==============================] - 0s 2ms/step - loss: 0.0813 - accuracy: 0.9752 - val_loss: 0.1105 - val_accuracy: 0.9713\n",
            "Epoch 195/400\n",
            "94/94 [==============================] - 0s 3ms/step - loss: 0.0813 - accuracy: 0.9752 - val_loss: 0.1103 - val_accuracy: 0.9703\n",
            "Epoch 196/400\n",
            "94/94 [==============================] - 0s 3ms/step - loss: 0.0812 - accuracy: 0.9757 - val_loss: 0.1105 - val_accuracy: 0.9707\n",
            "Epoch 197/400\n",
            "94/94 [==============================] - 0s 3ms/step - loss: 0.0809 - accuracy: 0.9756 - val_loss: 0.1113 - val_accuracy: 0.9710\n",
            "Epoch 198/400\n",
            "94/94 [==============================] - 0s 3ms/step - loss: 0.0813 - accuracy: 0.9754 - val_loss: 0.1100 - val_accuracy: 0.9713\n",
            "Epoch 199/400\n",
            "94/94 [==============================] - 0s 2ms/step - loss: 0.0808 - accuracy: 0.9753 - val_loss: 0.1109 - val_accuracy: 0.9707\n",
            "Epoch 200/400\n",
            "94/94 [==============================] - 0s 2ms/step - loss: 0.0808 - accuracy: 0.9758 - val_loss: 0.1118 - val_accuracy: 0.9707\n",
            "Epoch 201/400\n",
            "94/94 [==============================] - 0s 3ms/step - loss: 0.0804 - accuracy: 0.9760 - val_loss: 0.1103 - val_accuracy: 0.9713\n",
            "Epoch 202/400\n",
            "94/94 [==============================] - 0s 3ms/step - loss: 0.0806 - accuracy: 0.9758 - val_loss: 0.1101 - val_accuracy: 0.9707\n",
            "Epoch 203/400\n",
            "94/94 [==============================] - 0s 2ms/step - loss: 0.0805 - accuracy: 0.9756 - val_loss: 0.1106 - val_accuracy: 0.9710\n",
            "Epoch 204/400\n",
            "94/94 [==============================] - 0s 2ms/step - loss: 0.0805 - accuracy: 0.9752 - val_loss: 0.1108 - val_accuracy: 0.9713\n",
            "Epoch 205/400\n",
            "94/94 [==============================] - 0s 2ms/step - loss: 0.0803 - accuracy: 0.9761 - val_loss: 0.1097 - val_accuracy: 0.9717\n",
            "Epoch 206/400\n",
            "94/94 [==============================] - 0s 3ms/step - loss: 0.0800 - accuracy: 0.9757 - val_loss: 0.1092 - val_accuracy: 0.9710\n",
            "Epoch 207/400\n",
            "94/94 [==============================] - 0s 3ms/step - loss: 0.0801 - accuracy: 0.9761 - val_loss: 0.1115 - val_accuracy: 0.9697\n",
            "Epoch 208/400\n",
            "94/94 [==============================] - 0s 2ms/step - loss: 0.0798 - accuracy: 0.9752 - val_loss: 0.1107 - val_accuracy: 0.9713\n",
            "Epoch 209/400\n",
            "94/94 [==============================] - 0s 2ms/step - loss: 0.0797 - accuracy: 0.9756 - val_loss: 0.1114 - val_accuracy: 0.9697\n",
            "Epoch 210/400\n",
            "94/94 [==============================] - 0s 2ms/step - loss: 0.0799 - accuracy: 0.9752 - val_loss: 0.1113 - val_accuracy: 0.9707\n",
            "Epoch 211/400\n",
            "94/94 [==============================] - 0s 3ms/step - loss: 0.0797 - accuracy: 0.9753 - val_loss: 0.1113 - val_accuracy: 0.9710\n",
            "Epoch 212/400\n",
            "94/94 [==============================] - 0s 2ms/step - loss: 0.0797 - accuracy: 0.9756 - val_loss: 0.1115 - val_accuracy: 0.9707\n",
            "Epoch 213/400\n",
            "94/94 [==============================] - 0s 2ms/step - loss: 0.0794 - accuracy: 0.9759 - val_loss: 0.1125 - val_accuracy: 0.9703\n",
            "Epoch 214/400\n",
            "94/94 [==============================] - 0s 2ms/step - loss: 0.0796 - accuracy: 0.9760 - val_loss: 0.1106 - val_accuracy: 0.9707\n",
            "Epoch 215/400\n",
            "94/94 [==============================] - 0s 2ms/step - loss: 0.0790 - accuracy: 0.9758 - val_loss: 0.1115 - val_accuracy: 0.9707\n",
            "Epoch 216/400\n",
            "94/94 [==============================] - 0s 3ms/step - loss: 0.0795 - accuracy: 0.9756 - val_loss: 0.1111 - val_accuracy: 0.9717\n",
            "Epoch 217/400\n",
            "94/94 [==============================] - 0s 3ms/step - loss: 0.0793 - accuracy: 0.9757 - val_loss: 0.1108 - val_accuracy: 0.9710\n",
            "Epoch 218/400\n",
            "94/94 [==============================] - 0s 3ms/step - loss: 0.0790 - accuracy: 0.9764 - val_loss: 0.1099 - val_accuracy: 0.9717\n",
            "Epoch 219/400\n",
            "94/94 [==============================] - 0s 3ms/step - loss: 0.0791 - accuracy: 0.9752 - val_loss: 0.1119 - val_accuracy: 0.9710\n",
            "Epoch 220/400\n",
            "94/94 [==============================] - 0s 2ms/step - loss: 0.0786 - accuracy: 0.9762 - val_loss: 0.1104 - val_accuracy: 0.9713\n",
            "Epoch 221/400\n",
            "94/94 [==============================] - 0s 3ms/step - loss: 0.0786 - accuracy: 0.9764 - val_loss: 0.1104 - val_accuracy: 0.9717\n",
            "Epoch 222/400\n",
            "94/94 [==============================] - 0s 3ms/step - loss: 0.0788 - accuracy: 0.9757 - val_loss: 0.1110 - val_accuracy: 0.9713\n",
            "Epoch 223/400\n",
            "94/94 [==============================] - 0s 3ms/step - loss: 0.0785 - accuracy: 0.9761 - val_loss: 0.1094 - val_accuracy: 0.9713\n",
            "Epoch 224/400\n",
            "94/94 [==============================] - 0s 2ms/step - loss: 0.0784 - accuracy: 0.9760 - val_loss: 0.1104 - val_accuracy: 0.9710\n",
            "Epoch 225/400\n",
            "94/94 [==============================] - 0s 2ms/step - loss: 0.0789 - accuracy: 0.9762 - val_loss: 0.1103 - val_accuracy: 0.9707\n",
            "Epoch 226/400\n",
            "94/94 [==============================] - 0s 3ms/step - loss: 0.0787 - accuracy: 0.9762 - val_loss: 0.1098 - val_accuracy: 0.9710\n",
            "Epoch 227/400\n",
            "94/94 [==============================] - 0s 3ms/step - loss: 0.0780 - accuracy: 0.9757 - val_loss: 0.1118 - val_accuracy: 0.9717\n",
            "Epoch 228/400\n",
            "94/94 [==============================] - 0s 4ms/step - loss: 0.0782 - accuracy: 0.9756 - val_loss: 0.1103 - val_accuracy: 0.9697\n",
            "Epoch 229/400\n",
            "94/94 [==============================] - 0s 3ms/step - loss: 0.0782 - accuracy: 0.9761 - val_loss: 0.1116 - val_accuracy: 0.9703\n",
            "Epoch 230/400\n",
            "94/94 [==============================] - 0s 4ms/step - loss: 0.0780 - accuracy: 0.9762 - val_loss: 0.1117 - val_accuracy: 0.9703\n",
            "Epoch 231/400\n",
            "94/94 [==============================] - 0s 3ms/step - loss: 0.0779 - accuracy: 0.9763 - val_loss: 0.1119 - val_accuracy: 0.9710\n",
            "Epoch 232/400\n",
            "94/94 [==============================] - 0s 3ms/step - loss: 0.0777 - accuracy: 0.9757 - val_loss: 0.1106 - val_accuracy: 0.9690\n",
            "Epoch 233/400\n",
            "94/94 [==============================] - 0s 4ms/step - loss: 0.0778 - accuracy: 0.9765 - val_loss: 0.1122 - val_accuracy: 0.9687\n",
            "Epoch 234/400\n",
            "94/94 [==============================] - 0s 4ms/step - loss: 0.0774 - accuracy: 0.9762 - val_loss: 0.1107 - val_accuracy: 0.9710\n",
            "Epoch 235/400\n",
            "94/94 [==============================] - 0s 4ms/step - loss: 0.0777 - accuracy: 0.9760 - val_loss: 0.1110 - val_accuracy: 0.9693\n",
            "Epoch 236/400\n",
            "94/94 [==============================] - 0s 2ms/step - loss: 0.0776 - accuracy: 0.9759 - val_loss: 0.1114 - val_accuracy: 0.9710\n",
            "Epoch 237/400\n",
            "94/94 [==============================] - 0s 3ms/step - loss: 0.0773 - accuracy: 0.9764 - val_loss: 0.1109 - val_accuracy: 0.9710\n",
            "Epoch 238/400\n",
            "94/94 [==============================] - 0s 3ms/step - loss: 0.0774 - accuracy: 0.9760 - val_loss: 0.1115 - val_accuracy: 0.9697\n",
            "Epoch 239/400\n",
            "94/94 [==============================] - 0s 3ms/step - loss: 0.0772 - accuracy: 0.9758 - val_loss: 0.1110 - val_accuracy: 0.9693\n",
            "Epoch 240/400\n",
            "94/94 [==============================] - 0s 3ms/step - loss: 0.0772 - accuracy: 0.9766 - val_loss: 0.1109 - val_accuracy: 0.9703\n",
            "Epoch 241/400\n",
            "94/94 [==============================] - 0s 3ms/step - loss: 0.0770 - accuracy: 0.9760 - val_loss: 0.1117 - val_accuracy: 0.9710\n",
            "Epoch 242/400\n",
            "94/94 [==============================] - 0s 2ms/step - loss: 0.0769 - accuracy: 0.9765 - val_loss: 0.1104 - val_accuracy: 0.9700\n",
            "Epoch 243/400\n",
            "94/94 [==============================] - 0s 3ms/step - loss: 0.0763 - accuracy: 0.9765 - val_loss: 0.1146 - val_accuracy: 0.9660\n",
            "Epoch 244/400\n",
            "94/94 [==============================] - 0s 2ms/step - loss: 0.0769 - accuracy: 0.9758 - val_loss: 0.1118 - val_accuracy: 0.9687\n",
            "Epoch 245/400\n",
            "94/94 [==============================] - 0s 3ms/step - loss: 0.0766 - accuracy: 0.9761 - val_loss: 0.1127 - val_accuracy: 0.9690\n",
            "Epoch 246/400\n",
            "94/94 [==============================] - 0s 2ms/step - loss: 0.0767 - accuracy: 0.9760 - val_loss: 0.1110 - val_accuracy: 0.9693\n",
            "Epoch 247/400\n",
            "94/94 [==============================] - 0s 2ms/step - loss: 0.0761 - accuracy: 0.9762 - val_loss: 0.1122 - val_accuracy: 0.9693\n",
            "Epoch 248/400\n",
            "94/94 [==============================] - 0s 2ms/step - loss: 0.0764 - accuracy: 0.9762 - val_loss: 0.1123 - val_accuracy: 0.9697\n",
            "Epoch 249/400\n",
            "94/94 [==============================] - 0s 3ms/step - loss: 0.0766 - accuracy: 0.9766 - val_loss: 0.1118 - val_accuracy: 0.9687\n",
            "Epoch 250/400\n",
            "94/94 [==============================] - 0s 3ms/step - loss: 0.0762 - accuracy: 0.9763 - val_loss: 0.1101 - val_accuracy: 0.9700\n",
            "Epoch 251/400\n",
            "94/94 [==============================] - 0s 2ms/step - loss: 0.0761 - accuracy: 0.9766 - val_loss: 0.1127 - val_accuracy: 0.9710\n",
            "Epoch 252/400\n",
            "94/94 [==============================] - 0s 3ms/step - loss: 0.0761 - accuracy: 0.9762 - val_loss: 0.1117 - val_accuracy: 0.9700\n",
            "Epoch 253/400\n",
            "94/94 [==============================] - 0s 3ms/step - loss: 0.0761 - accuracy: 0.9761 - val_loss: 0.1135 - val_accuracy: 0.9680\n",
            "Epoch 254/400\n",
            "94/94 [==============================] - 0s 3ms/step - loss: 0.0763 - accuracy: 0.9759 - val_loss: 0.1123 - val_accuracy: 0.9713\n",
            "Epoch 255/400\n",
            "94/94 [==============================] - 0s 2ms/step - loss: 0.0757 - accuracy: 0.9765 - val_loss: 0.1130 - val_accuracy: 0.9697\n",
            "Epoch 256/400\n",
            "94/94 [==============================] - 0s 2ms/step - loss: 0.0756 - accuracy: 0.9762 - val_loss: 0.1122 - val_accuracy: 0.9683\n",
            "Epoch 257/400\n",
            "94/94 [==============================] - 0s 2ms/step - loss: 0.0754 - accuracy: 0.9762 - val_loss: 0.1146 - val_accuracy: 0.9713\n",
            "Epoch 258/400\n",
            "94/94 [==============================] - 0s 2ms/step - loss: 0.0759 - accuracy: 0.9762 - val_loss: 0.1122 - val_accuracy: 0.9697\n",
            "Epoch 259/400\n",
            "94/94 [==============================] - 0s 3ms/step - loss: 0.0754 - accuracy: 0.9762 - val_loss: 0.1117 - val_accuracy: 0.9697\n",
            "Epoch 260/400\n",
            "94/94 [==============================] - 0s 2ms/step - loss: 0.0754 - accuracy: 0.9764 - val_loss: 0.1137 - val_accuracy: 0.9710\n",
            "Epoch 261/400\n",
            "94/94 [==============================] - 0s 2ms/step - loss: 0.0755 - accuracy: 0.9767 - val_loss: 0.1122 - val_accuracy: 0.9690\n",
            "Epoch 262/400\n",
            "94/94 [==============================] - 0s 3ms/step - loss: 0.0751 - accuracy: 0.9760 - val_loss: 0.1131 - val_accuracy: 0.9693\n",
            "Epoch 263/400\n",
            "94/94 [==============================] - 0s 3ms/step - loss: 0.0752 - accuracy: 0.9765 - val_loss: 0.1132 - val_accuracy: 0.9693\n",
            "Epoch 264/400\n",
            "94/94 [==============================] - 0s 2ms/step - loss: 0.0752 - accuracy: 0.9766 - val_loss: 0.1133 - val_accuracy: 0.9693\n",
            "Epoch 265/400\n",
            "94/94 [==============================] - 0s 3ms/step - loss: 0.0754 - accuracy: 0.9762 - val_loss: 0.1141 - val_accuracy: 0.9680\n",
            "Epoch 266/400\n",
            "94/94 [==============================] - 0s 3ms/step - loss: 0.0750 - accuracy: 0.9761 - val_loss: 0.1136 - val_accuracy: 0.9697\n",
            "Epoch 267/400\n",
            "94/94 [==============================] - 0s 2ms/step - loss: 0.0750 - accuracy: 0.9764 - val_loss: 0.1145 - val_accuracy: 0.9690\n",
            "Epoch 268/400\n",
            "94/94 [==============================] - 0s 2ms/step - loss: 0.0747 - accuracy: 0.9762 - val_loss: 0.1142 - val_accuracy: 0.9683\n",
            "Epoch 269/400\n",
            "94/94 [==============================] - 0s 2ms/step - loss: 0.0748 - accuracy: 0.9763 - val_loss: 0.1142 - val_accuracy: 0.9707\n",
            "Epoch 270/400\n",
            "94/94 [==============================] - 0s 3ms/step - loss: 0.0745 - accuracy: 0.9765 - val_loss: 0.1138 - val_accuracy: 0.9697\n",
            "Epoch 271/400\n",
            "94/94 [==============================] - 0s 3ms/step - loss: 0.0746 - accuracy: 0.9766 - val_loss: 0.1141 - val_accuracy: 0.9667\n",
            "Epoch 272/400\n",
            "94/94 [==============================] - 0s 2ms/step - loss: 0.0750 - accuracy: 0.9755 - val_loss: 0.1142 - val_accuracy: 0.9680\n",
            "Epoch 273/400\n",
            "94/94 [==============================] - 0s 2ms/step - loss: 0.0741 - accuracy: 0.9769 - val_loss: 0.1161 - val_accuracy: 0.9670\n",
            "Epoch 274/400\n",
            "94/94 [==============================] - 0s 3ms/step - loss: 0.0749 - accuracy: 0.9768 - val_loss: 0.1165 - val_accuracy: 0.9687\n",
            "Epoch 275/400\n",
            "94/94 [==============================] - 0s 3ms/step - loss: 0.0746 - accuracy: 0.9755 - val_loss: 0.1153 - val_accuracy: 0.9680\n",
            "Epoch 276/400\n",
            "94/94 [==============================] - 0s 3ms/step - loss: 0.0744 - accuracy: 0.9767 - val_loss: 0.1153 - val_accuracy: 0.9683\n",
            "Epoch 277/400\n",
            "94/94 [==============================] - 0s 3ms/step - loss: 0.0739 - accuracy: 0.9772 - val_loss: 0.1146 - val_accuracy: 0.9700\n",
            "Epoch 278/400\n",
            "94/94 [==============================] - 0s 3ms/step - loss: 0.0746 - accuracy: 0.9762 - val_loss: 0.1146 - val_accuracy: 0.9687\n",
            "Epoch 279/400\n",
            "94/94 [==============================] - 0s 3ms/step - loss: 0.0745 - accuracy: 0.9764 - val_loss: 0.1149 - val_accuracy: 0.9670\n",
            "Epoch 280/400\n",
            "94/94 [==============================] - 0s 3ms/step - loss: 0.0744 - accuracy: 0.9765 - val_loss: 0.1151 - val_accuracy: 0.9683\n",
            "Epoch 281/400\n",
            "94/94 [==============================] - 0s 3ms/step - loss: 0.0744 - accuracy: 0.9766 - val_loss: 0.1149 - val_accuracy: 0.9680\n",
            "Epoch 282/400\n",
            "94/94 [==============================] - 0s 4ms/step - loss: 0.0740 - accuracy: 0.9766 - val_loss: 0.1149 - val_accuracy: 0.9683\n",
            "Epoch 283/400\n",
            "94/94 [==============================] - 0s 4ms/step - loss: 0.0743 - accuracy: 0.9768 - val_loss: 0.1140 - val_accuracy: 0.9693\n",
            "Epoch 284/400\n",
            "94/94 [==============================] - 0s 4ms/step - loss: 0.0741 - accuracy: 0.9763 - val_loss: 0.1139 - val_accuracy: 0.9690\n",
            "Epoch 285/400\n",
            "94/94 [==============================] - 0s 4ms/step - loss: 0.0739 - accuracy: 0.9769 - val_loss: 0.1151 - val_accuracy: 0.9680\n",
            "Epoch 286/400\n",
            "94/94 [==============================] - 0s 3ms/step - loss: 0.0742 - accuracy: 0.9757 - val_loss: 0.1160 - val_accuracy: 0.9663\n",
            "Epoch 287/400\n",
            "94/94 [==============================] - 0s 3ms/step - loss: 0.0740 - accuracy: 0.9767 - val_loss: 0.1150 - val_accuracy: 0.9680\n",
            "Epoch 288/400\n",
            "94/94 [==============================] - 0s 3ms/step - loss: 0.0740 - accuracy: 0.9768 - val_loss: 0.1156 - val_accuracy: 0.9693\n",
            "Epoch 289/400\n",
            "94/94 [==============================] - 0s 3ms/step - loss: 0.0739 - accuracy: 0.9770 - val_loss: 0.1159 - val_accuracy: 0.9693\n",
            "Epoch 290/400\n",
            "94/94 [==============================] - 0s 2ms/step - loss: 0.0738 - accuracy: 0.9767 - val_loss: 0.1151 - val_accuracy: 0.9677\n",
            "Epoch 291/400\n",
            "94/94 [==============================] - 0s 2ms/step - loss: 0.0738 - accuracy: 0.9767 - val_loss: 0.1156 - val_accuracy: 0.9683\n",
            "Epoch 292/400\n",
            "94/94 [==============================] - 0s 2ms/step - loss: 0.0736 - accuracy: 0.9769 - val_loss: 0.1150 - val_accuracy: 0.9667\n",
            "Epoch 293/400\n",
            "94/94 [==============================] - 0s 3ms/step - loss: 0.0735 - accuracy: 0.9772 - val_loss: 0.1148 - val_accuracy: 0.9700\n",
            "Epoch 294/400\n",
            "94/94 [==============================] - 0s 3ms/step - loss: 0.0735 - accuracy: 0.9766 - val_loss: 0.1164 - val_accuracy: 0.9710\n",
            "Epoch 295/400\n",
            "94/94 [==============================] - 0s 2ms/step - loss: 0.0737 - accuracy: 0.9770 - val_loss: 0.1158 - val_accuracy: 0.9670\n",
            "Epoch 296/400\n",
            "94/94 [==============================] - 0s 2ms/step - loss: 0.0732 - accuracy: 0.9775 - val_loss: 0.1173 - val_accuracy: 0.9690\n",
            "Epoch 297/400\n",
            "94/94 [==============================] - 0s 2ms/step - loss: 0.0736 - accuracy: 0.9770 - val_loss: 0.1165 - val_accuracy: 0.9683\n",
            "Epoch 298/400\n",
            "94/94 [==============================] - 0s 3ms/step - loss: 0.0733 - accuracy: 0.9764 - val_loss: 0.1151 - val_accuracy: 0.9667\n",
            "Epoch 299/400\n",
            "94/94 [==============================] - 0s 2ms/step - loss: 0.0735 - accuracy: 0.9768 - val_loss: 0.1156 - val_accuracy: 0.9687\n",
            "Epoch 300/400\n",
            "94/94 [==============================] - 0s 3ms/step - loss: 0.0730 - accuracy: 0.9767 - val_loss: 0.1139 - val_accuracy: 0.9703\n",
            "Epoch 301/400\n",
            "94/94 [==============================] - 0s 3ms/step - loss: 0.0733 - accuracy: 0.9768 - val_loss: 0.1151 - val_accuracy: 0.9693\n",
            "Epoch 302/400\n",
            "94/94 [==============================] - 0s 2ms/step - loss: 0.0728 - accuracy: 0.9771 - val_loss: 0.1186 - val_accuracy: 0.9667\n",
            "Epoch 303/400\n",
            "94/94 [==============================] - 0s 2ms/step - loss: 0.0735 - accuracy: 0.9767 - val_loss: 0.1198 - val_accuracy: 0.9687\n",
            "Epoch 304/400\n",
            "94/94 [==============================] - 0s 3ms/step - loss: 0.0731 - accuracy: 0.9769 - val_loss: 0.1186 - val_accuracy: 0.9717\n",
            "Epoch 305/400\n",
            "94/94 [==============================] - 0s 2ms/step - loss: 0.0727 - accuracy: 0.9777 - val_loss: 0.1164 - val_accuracy: 0.9670\n",
            "Epoch 306/400\n",
            "94/94 [==============================] - 0s 2ms/step - loss: 0.0731 - accuracy: 0.9775 - val_loss: 0.1162 - val_accuracy: 0.9683\n",
            "Epoch 307/400\n",
            "94/94 [==============================] - 0s 3ms/step - loss: 0.0732 - accuracy: 0.9767 - val_loss: 0.1167 - val_accuracy: 0.9687\n",
            "Epoch 308/400\n",
            "94/94 [==============================] - 0s 3ms/step - loss: 0.0728 - accuracy: 0.9767 - val_loss: 0.1156 - val_accuracy: 0.9693\n",
            "Epoch 309/400\n",
            "94/94 [==============================] - 0s 2ms/step - loss: 0.0730 - accuracy: 0.9759 - val_loss: 0.1168 - val_accuracy: 0.9700\n",
            "Epoch 310/400\n",
            "94/94 [==============================] - 0s 2ms/step - loss: 0.0731 - accuracy: 0.9777 - val_loss: 0.1157 - val_accuracy: 0.9697\n",
            "Epoch 311/400\n",
            "94/94 [==============================] - 0s 3ms/step - loss: 0.0726 - accuracy: 0.9767 - val_loss: 0.1190 - val_accuracy: 0.9690\n",
            "Epoch 312/400\n",
            "94/94 [==============================] - 0s 2ms/step - loss: 0.0729 - accuracy: 0.9767 - val_loss: 0.1157 - val_accuracy: 0.9687\n",
            "Epoch 313/400\n",
            "94/94 [==============================] - 0s 2ms/step - loss: 0.0730 - accuracy: 0.9768 - val_loss: 0.1165 - val_accuracy: 0.9697\n",
            "Epoch 314/400\n",
            "94/94 [==============================] - 0s 3ms/step - loss: 0.0726 - accuracy: 0.9763 - val_loss: 0.1173 - val_accuracy: 0.9700\n",
            "Epoch 315/400\n",
            "94/94 [==============================] - 0s 2ms/step - loss: 0.0727 - accuracy: 0.9772 - val_loss: 0.1178 - val_accuracy: 0.9693\n",
            "Epoch 316/400\n",
            "94/94 [==============================] - 0s 3ms/step - loss: 0.0726 - accuracy: 0.9771 - val_loss: 0.1170 - val_accuracy: 0.9697\n",
            "Epoch 317/400\n",
            "94/94 [==============================] - 0s 3ms/step - loss: 0.0727 - accuracy: 0.9767 - val_loss: 0.1179 - val_accuracy: 0.9677\n",
            "Epoch 318/400\n",
            "94/94 [==============================] - 0s 3ms/step - loss: 0.0724 - accuracy: 0.9775 - val_loss: 0.1190 - val_accuracy: 0.9700\n",
            "Epoch 319/400\n",
            "94/94 [==============================] - 0s 2ms/step - loss: 0.0728 - accuracy: 0.9767 - val_loss: 0.1177 - val_accuracy: 0.9683\n",
            "Epoch 320/400\n",
            "94/94 [==============================] - 0s 2ms/step - loss: 0.0724 - accuracy: 0.9767 - val_loss: 0.1168 - val_accuracy: 0.9693\n",
            "Epoch 321/400\n",
            "94/94 [==============================] - 0s 3ms/step - loss: 0.0724 - accuracy: 0.9769 - val_loss: 0.1189 - val_accuracy: 0.9673\n",
            "Epoch 322/400\n",
            "94/94 [==============================] - 0s 3ms/step - loss: 0.0725 - accuracy: 0.9768 - val_loss: 0.1188 - val_accuracy: 0.9680\n",
            "Epoch 323/400\n",
            "94/94 [==============================] - 0s 3ms/step - loss: 0.0723 - accuracy: 0.9772 - val_loss: 0.1182 - val_accuracy: 0.9680\n",
            "Epoch 324/400\n",
            "94/94 [==============================] - 0s 2ms/step - loss: 0.0724 - accuracy: 0.9769 - val_loss: 0.1188 - val_accuracy: 0.9697\n",
            "Epoch 325/400\n",
            "94/94 [==============================] - 0s 2ms/step - loss: 0.0724 - accuracy: 0.9759 - val_loss: 0.1185 - val_accuracy: 0.9700\n",
            "Epoch 326/400\n",
            "94/94 [==============================] - 0s 3ms/step - loss: 0.0721 - accuracy: 0.9775 - val_loss: 0.1185 - val_accuracy: 0.9697\n",
            "Epoch 327/400\n",
            "94/94 [==============================] - 0s 3ms/step - loss: 0.0723 - accuracy: 0.9769 - val_loss: 0.1169 - val_accuracy: 0.9693\n",
            "Epoch 328/400\n",
            "94/94 [==============================] - 0s 3ms/step - loss: 0.0719 - accuracy: 0.9777 - val_loss: 0.1175 - val_accuracy: 0.9690\n",
            "Epoch 329/400\n",
            "94/94 [==============================] - 0s 3ms/step - loss: 0.0718 - accuracy: 0.9770 - val_loss: 0.1193 - val_accuracy: 0.9690\n",
            "Epoch 330/400\n",
            "94/94 [==============================] - 0s 3ms/step - loss: 0.0722 - accuracy: 0.9776 - val_loss: 0.1163 - val_accuracy: 0.9697\n",
            "Epoch 331/400\n",
            "94/94 [==============================] - 0s 3ms/step - loss: 0.0718 - accuracy: 0.9772 - val_loss: 0.1166 - val_accuracy: 0.9693\n",
            "Epoch 332/400\n",
            "94/94 [==============================] - 0s 3ms/step - loss: 0.0722 - accuracy: 0.9774 - val_loss: 0.1174 - val_accuracy: 0.9710\n",
            "Epoch 333/400\n",
            "94/94 [==============================] - 0s 4ms/step - loss: 0.0713 - accuracy: 0.9774 - val_loss: 0.1186 - val_accuracy: 0.9690\n",
            "Epoch 334/400\n",
            "94/94 [==============================] - 0s 4ms/step - loss: 0.0717 - accuracy: 0.9774 - val_loss: 0.1171 - val_accuracy: 0.9710\n",
            "Epoch 335/400\n",
            "94/94 [==============================] - 0s 3ms/step - loss: 0.0716 - accuracy: 0.9772 - val_loss: 0.1182 - val_accuracy: 0.9713\n",
            "Epoch 336/400\n",
            "94/94 [==============================] - 0s 3ms/step - loss: 0.0717 - accuracy: 0.9773 - val_loss: 0.1176 - val_accuracy: 0.9707\n",
            "Epoch 337/400\n",
            "94/94 [==============================] - 0s 3ms/step - loss: 0.0716 - accuracy: 0.9771 - val_loss: 0.1165 - val_accuracy: 0.9707\n",
            "Epoch 338/400\n",
            "94/94 [==============================] - 0s 2ms/step - loss: 0.0713 - accuracy: 0.9775 - val_loss: 0.1169 - val_accuracy: 0.9710\n",
            "Epoch 339/400\n",
            "94/94 [==============================] - 0s 3ms/step - loss: 0.0718 - accuracy: 0.9771 - val_loss: 0.1170 - val_accuracy: 0.9693\n",
            "Epoch 340/400\n",
            "94/94 [==============================] - 0s 3ms/step - loss: 0.0712 - accuracy: 0.9777 - val_loss: 0.1170 - val_accuracy: 0.9690\n",
            "Epoch 341/400\n",
            "94/94 [==============================] - 0s 3ms/step - loss: 0.0716 - accuracy: 0.9770 - val_loss: 0.1175 - val_accuracy: 0.9697\n",
            "Epoch 342/400\n",
            "94/94 [==============================] - 0s 2ms/step - loss: 0.0712 - accuracy: 0.9776 - val_loss: 0.1171 - val_accuracy: 0.9717\n",
            "Epoch 343/400\n",
            "94/94 [==============================] - 0s 3ms/step - loss: 0.0714 - accuracy: 0.9775 - val_loss: 0.1174 - val_accuracy: 0.9693\n",
            "Epoch 344/400\n",
            "94/94 [==============================] - 0s 2ms/step - loss: 0.0712 - accuracy: 0.9780 - val_loss: 0.1172 - val_accuracy: 0.9723\n",
            "Epoch 345/400\n",
            "94/94 [==============================] - 0s 3ms/step - loss: 0.0707 - accuracy: 0.9780 - val_loss: 0.1165 - val_accuracy: 0.9707\n",
            "Epoch 346/400\n",
            "94/94 [==============================] - 0s 3ms/step - loss: 0.0712 - accuracy: 0.9772 - val_loss: 0.1171 - val_accuracy: 0.9713\n",
            "Epoch 347/400\n",
            "94/94 [==============================] - 0s 3ms/step - loss: 0.0709 - accuracy: 0.9769 - val_loss: 0.1186 - val_accuracy: 0.9700\n",
            "Epoch 348/400\n",
            "94/94 [==============================] - 0s 3ms/step - loss: 0.0709 - accuracy: 0.9777 - val_loss: 0.1204 - val_accuracy: 0.9703\n",
            "Epoch 349/400\n",
            "94/94 [==============================] - 0s 3ms/step - loss: 0.0710 - accuracy: 0.9779 - val_loss: 0.1176 - val_accuracy: 0.9703\n",
            "Epoch 350/400\n",
            "94/94 [==============================] - 0s 2ms/step - loss: 0.0704 - accuracy: 0.9772 - val_loss: 0.1197 - val_accuracy: 0.9703\n",
            "Epoch 351/400\n",
            "94/94 [==============================] - 0s 3ms/step - loss: 0.0706 - accuracy: 0.9775 - val_loss: 0.1175 - val_accuracy: 0.9703\n",
            "Epoch 352/400\n",
            "94/94 [==============================] - 0s 2ms/step - loss: 0.0709 - accuracy: 0.9771 - val_loss: 0.1177 - val_accuracy: 0.9707\n",
            "Epoch 353/400\n",
            "94/94 [==============================] - 0s 2ms/step - loss: 0.0705 - accuracy: 0.9769 - val_loss: 0.1177 - val_accuracy: 0.9703\n",
            "Epoch 354/400\n",
            "94/94 [==============================] - 0s 3ms/step - loss: 0.0705 - accuracy: 0.9773 - val_loss: 0.1172 - val_accuracy: 0.9703\n",
            "Epoch 355/400\n",
            "94/94 [==============================] - 0s 3ms/step - loss: 0.0705 - accuracy: 0.9775 - val_loss: 0.1170 - val_accuracy: 0.9707\n",
            "Epoch 356/400\n",
            "94/94 [==============================] - 0s 3ms/step - loss: 0.0703 - accuracy: 0.9780 - val_loss: 0.1197 - val_accuracy: 0.9707\n",
            "Epoch 357/400\n",
            "94/94 [==============================] - 0s 3ms/step - loss: 0.0705 - accuracy: 0.9776 - val_loss: 0.1174 - val_accuracy: 0.9703\n",
            "Epoch 358/400\n",
            "94/94 [==============================] - 0s 3ms/step - loss: 0.0702 - accuracy: 0.9775 - val_loss: 0.1177 - val_accuracy: 0.9700\n",
            "Epoch 359/400\n",
            "94/94 [==============================] - 0s 2ms/step - loss: 0.0704 - accuracy: 0.9772 - val_loss: 0.1180 - val_accuracy: 0.9713\n",
            "Epoch 360/400\n",
            "94/94 [==============================] - 0s 2ms/step - loss: 0.0699 - accuracy: 0.9781 - val_loss: 0.1176 - val_accuracy: 0.9700\n",
            "Epoch 361/400\n",
            "94/94 [==============================] - 0s 3ms/step - loss: 0.0705 - accuracy: 0.9772 - val_loss: 0.1182 - val_accuracy: 0.9707\n",
            "Epoch 362/400\n",
            "94/94 [==============================] - 0s 3ms/step - loss: 0.0699 - accuracy: 0.9772 - val_loss: 0.1163 - val_accuracy: 0.9707\n",
            "Epoch 363/400\n",
            "94/94 [==============================] - 0s 3ms/step - loss: 0.0701 - accuracy: 0.9781 - val_loss: 0.1178 - val_accuracy: 0.9697\n",
            "Epoch 364/400\n",
            "94/94 [==============================] - 0s 2ms/step - loss: 0.0702 - accuracy: 0.9782 - val_loss: 0.1165 - val_accuracy: 0.9703\n",
            "Epoch 365/400\n",
            "94/94 [==============================] - 0s 3ms/step - loss: 0.0701 - accuracy: 0.9776 - val_loss: 0.1176 - val_accuracy: 0.9707\n",
            "Epoch 366/400\n",
            "94/94 [==============================] - 0s 3ms/step - loss: 0.0699 - accuracy: 0.9777 - val_loss: 0.1190 - val_accuracy: 0.9710\n",
            "Epoch 367/400\n",
            "94/94 [==============================] - 0s 3ms/step - loss: 0.0698 - accuracy: 0.9781 - val_loss: 0.1185 - val_accuracy: 0.9707\n",
            "Epoch 368/400\n",
            "94/94 [==============================] - 0s 3ms/step - loss: 0.0698 - accuracy: 0.9777 - val_loss: 0.1186 - val_accuracy: 0.9713\n",
            "Epoch 369/400\n",
            "94/94 [==============================] - 0s 2ms/step - loss: 0.0700 - accuracy: 0.9782 - val_loss: 0.1181 - val_accuracy: 0.9710\n",
            "Epoch 370/400\n",
            "94/94 [==============================] - 0s 2ms/step - loss: 0.0698 - accuracy: 0.9779 - val_loss: 0.1177 - val_accuracy: 0.9697\n",
            "Epoch 371/400\n",
            "94/94 [==============================] - 0s 3ms/step - loss: 0.0696 - accuracy: 0.9787 - val_loss: 0.1182 - val_accuracy: 0.9703\n",
            "Epoch 372/400\n",
            "94/94 [==============================] - 0s 3ms/step - loss: 0.0693 - accuracy: 0.9779 - val_loss: 0.1174 - val_accuracy: 0.9700\n",
            "Epoch 373/400\n",
            "94/94 [==============================] - 0s 3ms/step - loss: 0.0701 - accuracy: 0.9773 - val_loss: 0.1179 - val_accuracy: 0.9703\n",
            "Epoch 374/400\n",
            "94/94 [==============================] - 0s 3ms/step - loss: 0.0695 - accuracy: 0.9765 - val_loss: 0.1185 - val_accuracy: 0.9703\n",
            "Epoch 375/400\n",
            "94/94 [==============================] - 0s 4ms/step - loss: 0.0697 - accuracy: 0.9778 - val_loss: 0.1197 - val_accuracy: 0.9707\n",
            "Epoch 376/400\n",
            "94/94 [==============================] - 0s 4ms/step - loss: 0.0697 - accuracy: 0.9783 - val_loss: 0.1186 - val_accuracy: 0.9707\n",
            "Epoch 377/400\n",
            "94/94 [==============================] - 0s 3ms/step - loss: 0.0698 - accuracy: 0.9784 - val_loss: 0.1181 - val_accuracy: 0.9697\n",
            "Epoch 378/400\n",
            "94/94 [==============================] - 0s 3ms/step - loss: 0.0693 - accuracy: 0.9784 - val_loss: 0.1181 - val_accuracy: 0.9720\n",
            "Epoch 379/400\n",
            "94/94 [==============================] - 0s 3ms/step - loss: 0.0696 - accuracy: 0.9777 - val_loss: 0.1195 - val_accuracy: 0.9693\n",
            "Epoch 380/400\n",
            "94/94 [==============================] - 0s 3ms/step - loss: 0.0689 - accuracy: 0.9784 - val_loss: 0.1177 - val_accuracy: 0.9690\n",
            "Epoch 381/400\n",
            "94/94 [==============================] - 0s 3ms/step - loss: 0.0689 - accuracy: 0.9776 - val_loss: 0.1180 - val_accuracy: 0.9693\n",
            "Epoch 382/400\n",
            "94/94 [==============================] - 0s 4ms/step - loss: 0.0694 - accuracy: 0.9782 - val_loss: 0.1181 - val_accuracy: 0.9700\n",
            "Epoch 383/400\n",
            "94/94 [==============================] - 0s 3ms/step - loss: 0.0689 - accuracy: 0.9775 - val_loss: 0.1176 - val_accuracy: 0.9687\n",
            "Epoch 384/400\n",
            "94/94 [==============================] - 0s 2ms/step - loss: 0.0692 - accuracy: 0.9777 - val_loss: 0.1176 - val_accuracy: 0.9707\n",
            "Epoch 385/400\n",
            "94/94 [==============================] - 0s 3ms/step - loss: 0.0691 - accuracy: 0.9772 - val_loss: 0.1196 - val_accuracy: 0.9707\n",
            "Epoch 386/400\n",
            "94/94 [==============================] - 0s 3ms/step - loss: 0.0690 - accuracy: 0.9780 - val_loss: 0.1211 - val_accuracy: 0.9703\n",
            "Epoch 387/400\n",
            "94/94 [==============================] - 0s 3ms/step - loss: 0.0688 - accuracy: 0.9777 - val_loss: 0.1194 - val_accuracy: 0.9707\n",
            "Epoch 388/400\n",
            "94/94 [==============================] - 0s 2ms/step - loss: 0.0691 - accuracy: 0.9775 - val_loss: 0.1201 - val_accuracy: 0.9707\n",
            "Epoch 389/400\n",
            "94/94 [==============================] - 0s 3ms/step - loss: 0.0689 - accuracy: 0.9781 - val_loss: 0.1186 - val_accuracy: 0.9707\n",
            "Epoch 390/400\n",
            "94/94 [==============================] - 0s 2ms/step - loss: 0.0689 - accuracy: 0.9773 - val_loss: 0.1185 - val_accuracy: 0.9703\n",
            "Epoch 391/400\n",
            "94/94 [==============================] - 0s 3ms/step - loss: 0.0685 - accuracy: 0.9777 - val_loss: 0.1192 - val_accuracy: 0.9700\n",
            "Epoch 392/400\n",
            "94/94 [==============================] - 0s 2ms/step - loss: 0.0687 - accuracy: 0.9785 - val_loss: 0.1218 - val_accuracy: 0.9697\n",
            "Epoch 393/400\n",
            "94/94 [==============================] - 0s 2ms/step - loss: 0.0691 - accuracy: 0.9776 - val_loss: 0.1197 - val_accuracy: 0.9697\n",
            "Epoch 394/400\n",
            "94/94 [==============================] - 0s 2ms/step - loss: 0.0686 - accuracy: 0.9781 - val_loss: 0.1174 - val_accuracy: 0.9693\n",
            "Epoch 395/400\n",
            "94/94 [==============================] - 0s 3ms/step - loss: 0.0688 - accuracy: 0.9777 - val_loss: 0.1189 - val_accuracy: 0.9700\n",
            "Epoch 396/400\n",
            "94/94 [==============================] - 0s 2ms/step - loss: 0.0682 - accuracy: 0.9780 - val_loss: 0.1180 - val_accuracy: 0.9703\n",
            "Epoch 397/400\n",
            "94/94 [==============================] - 0s 2ms/step - loss: 0.0685 - accuracy: 0.9778 - val_loss: 0.1189 - val_accuracy: 0.9693\n",
            "Epoch 398/400\n",
            "94/94 [==============================] - 0s 3ms/step - loss: 0.0685 - accuracy: 0.9782 - val_loss: 0.1212 - val_accuracy: 0.9707\n",
            "Epoch 399/400\n",
            "94/94 [==============================] - 0s 2ms/step - loss: 0.0687 - accuracy: 0.9782 - val_loss: 0.1195 - val_accuracy: 0.9703\n",
            "Epoch 400/400\n",
            "94/94 [==============================] - 0s 3ms/step - loss: 0.0680 - accuracy: 0.9782 - val_loss: 0.1192 - val_accuracy: 0.9693\n"
          ]
        },
        {
          "output_type": "execute_result",
          "data": {
            "text/plain": [
              "<keras.src.callbacks.History at 0x7ea762a88940>"
            ]
          },
          "metadata": {},
          "execution_count": 52
        }
      ],
      "source": [
        "model.fit(X_train,y_train, validation_data=(X_test, y_test), epochs=400, batch_size=128)"
      ]
    },
    {
      "cell_type": "markdown",
      "metadata": {
        "id": "ieU9fnUCWyUy"
      },
      "source": [
        "# Model Evaluation"
      ]
    },
    {
      "cell_type": "code",
      "execution_count": 53,
      "metadata": {
        "id": "g79SQpW-WyUy",
        "outputId": "8bef1a5c-178d-4901-9761-840401a9697b",
        "colab": {
          "base_uri": "https://localhost:8080/",
          "height": 206
        }
      },
      "outputs": [
        {
          "output_type": "execute_result",
          "data": {
            "text/plain": [
              "         loss  accuracy  val_loss  val_accuracy\n",
              "395  0.068248  0.977998  0.118006      0.970333\n",
              "396  0.068524  0.977831  0.118905      0.969333\n",
              "397  0.068507  0.978248  0.121183      0.970667\n",
              "398  0.068684  0.978165  0.119539      0.970333\n",
              "399  0.067988  0.978248  0.119192      0.969333"
            ],
            "text/html": [
              "\n",
              "  <div id=\"df-ae2aa103-4dd1-40d1-b7dc-caa3dec1c6eb\" class=\"colab-df-container\">\n",
              "    <div>\n",
              "<style scoped>\n",
              "    .dataframe tbody tr th:only-of-type {\n",
              "        vertical-align: middle;\n",
              "    }\n",
              "\n",
              "    .dataframe tbody tr th {\n",
              "        vertical-align: top;\n",
              "    }\n",
              "\n",
              "    .dataframe thead th {\n",
              "        text-align: right;\n",
              "    }\n",
              "</style>\n",
              "<table border=\"1\" class=\"dataframe\">\n",
              "  <thead>\n",
              "    <tr style=\"text-align: right;\">\n",
              "      <th></th>\n",
              "      <th>loss</th>\n",
              "      <th>accuracy</th>\n",
              "      <th>val_loss</th>\n",
              "      <th>val_accuracy</th>\n",
              "    </tr>\n",
              "  </thead>\n",
              "  <tbody>\n",
              "    <tr>\n",
              "      <th>395</th>\n",
              "      <td>0.068248</td>\n",
              "      <td>0.977998</td>\n",
              "      <td>0.118006</td>\n",
              "      <td>0.970333</td>\n",
              "    </tr>\n",
              "    <tr>\n",
              "      <th>396</th>\n",
              "      <td>0.068524</td>\n",
              "      <td>0.977831</td>\n",
              "      <td>0.118905</td>\n",
              "      <td>0.969333</td>\n",
              "    </tr>\n",
              "    <tr>\n",
              "      <th>397</th>\n",
              "      <td>0.068507</td>\n",
              "      <td>0.978248</td>\n",
              "      <td>0.121183</td>\n",
              "      <td>0.970667</td>\n",
              "    </tr>\n",
              "    <tr>\n",
              "      <th>398</th>\n",
              "      <td>0.068684</td>\n",
              "      <td>0.978165</td>\n",
              "      <td>0.119539</td>\n",
              "      <td>0.970333</td>\n",
              "    </tr>\n",
              "    <tr>\n",
              "      <th>399</th>\n",
              "      <td>0.067988</td>\n",
              "      <td>0.978248</td>\n",
              "      <td>0.119192</td>\n",
              "      <td>0.969333</td>\n",
              "    </tr>\n",
              "  </tbody>\n",
              "</table>\n",
              "</div>\n",
              "    <div class=\"colab-df-buttons\">\n",
              "\n",
              "  <div class=\"colab-df-container\">\n",
              "    <button class=\"colab-df-convert\" onclick=\"convertToInteractive('df-ae2aa103-4dd1-40d1-b7dc-caa3dec1c6eb')\"\n",
              "            title=\"Convert this dataframe to an interactive table.\"\n",
              "            style=\"display:none;\">\n",
              "\n",
              "  <svg xmlns=\"http://www.w3.org/2000/svg\" height=\"24px\" viewBox=\"0 -960 960 960\">\n",
              "    <path d=\"M120-120v-720h720v720H120Zm60-500h600v-160H180v160Zm220 220h160v-160H400v160Zm0 220h160v-160H400v160ZM180-400h160v-160H180v160Zm440 0h160v-160H620v160ZM180-180h160v-160H180v160Zm440 0h160v-160H620v160Z\"/>\n",
              "  </svg>\n",
              "    </button>\n",
              "\n",
              "  <style>\n",
              "    .colab-df-container {\n",
              "      display:flex;\n",
              "      gap: 12px;\n",
              "    }\n",
              "\n",
              "    .colab-df-convert {\n",
              "      background-color: #E8F0FE;\n",
              "      border: none;\n",
              "      border-radius: 50%;\n",
              "      cursor: pointer;\n",
              "      display: none;\n",
              "      fill: #1967D2;\n",
              "      height: 32px;\n",
              "      padding: 0 0 0 0;\n",
              "      width: 32px;\n",
              "    }\n",
              "\n",
              "    .colab-df-convert:hover {\n",
              "      background-color: #E2EBFA;\n",
              "      box-shadow: 0px 1px 2px rgba(60, 64, 67, 0.3), 0px 1px 3px 1px rgba(60, 64, 67, 0.15);\n",
              "      fill: #174EA6;\n",
              "    }\n",
              "\n",
              "    .colab-df-buttons div {\n",
              "      margin-bottom: 4px;\n",
              "    }\n",
              "\n",
              "    [theme=dark] .colab-df-convert {\n",
              "      background-color: #3B4455;\n",
              "      fill: #D2E3FC;\n",
              "    }\n",
              "\n",
              "    [theme=dark] .colab-df-convert:hover {\n",
              "      background-color: #434B5C;\n",
              "      box-shadow: 0px 1px 3px 1px rgba(0, 0, 0, 0.15);\n",
              "      filter: drop-shadow(0px 1px 2px rgba(0, 0, 0, 0.3));\n",
              "      fill: #FFFFFF;\n",
              "    }\n",
              "  </style>\n",
              "\n",
              "    <script>\n",
              "      const buttonEl =\n",
              "        document.querySelector('#df-ae2aa103-4dd1-40d1-b7dc-caa3dec1c6eb button.colab-df-convert');\n",
              "      buttonEl.style.display =\n",
              "        google.colab.kernel.accessAllowed ? 'block' : 'none';\n",
              "\n",
              "      async function convertToInteractive(key) {\n",
              "        const element = document.querySelector('#df-ae2aa103-4dd1-40d1-b7dc-caa3dec1c6eb');\n",
              "        const dataTable =\n",
              "          await google.colab.kernel.invokeFunction('convertToInteractive',\n",
              "                                                    [key], {});\n",
              "        if (!dataTable) return;\n",
              "\n",
              "        const docLinkHtml = 'Like what you see? Visit the ' +\n",
              "          '<a target=\"_blank\" href=https://colab.research.google.com/notebooks/data_table.ipynb>data table notebook</a>'\n",
              "          + ' to learn more about interactive tables.';\n",
              "        element.innerHTML = '';\n",
              "        dataTable['output_type'] = 'display_data';\n",
              "        await google.colab.output.renderOutput(dataTable, element);\n",
              "        const docLink = document.createElement('div');\n",
              "        docLink.innerHTML = docLinkHtml;\n",
              "        element.appendChild(docLink);\n",
              "      }\n",
              "    </script>\n",
              "  </div>\n",
              "\n",
              "\n",
              "<div id=\"df-4f13e813-a3b2-4e8a-864f-12db0cd834e6\">\n",
              "  <button class=\"colab-df-quickchart\" onclick=\"quickchart('df-4f13e813-a3b2-4e8a-864f-12db0cd834e6')\"\n",
              "            title=\"Suggest charts\"\n",
              "            style=\"display:none;\">\n",
              "\n",
              "<svg xmlns=\"http://www.w3.org/2000/svg\" height=\"24px\"viewBox=\"0 0 24 24\"\n",
              "     width=\"24px\">\n",
              "    <g>\n",
              "        <path d=\"M19 3H5c-1.1 0-2 .9-2 2v14c0 1.1.9 2 2 2h14c1.1 0 2-.9 2-2V5c0-1.1-.9-2-2-2zM9 17H7v-7h2v7zm4 0h-2V7h2v10zm4 0h-2v-4h2v4z\"/>\n",
              "    </g>\n",
              "</svg>\n",
              "  </button>\n",
              "\n",
              "<style>\n",
              "  .colab-df-quickchart {\n",
              "      --bg-color: #E8F0FE;\n",
              "      --fill-color: #1967D2;\n",
              "      --hover-bg-color: #E2EBFA;\n",
              "      --hover-fill-color: #174EA6;\n",
              "      --disabled-fill-color: #AAA;\n",
              "      --disabled-bg-color: #DDD;\n",
              "  }\n",
              "\n",
              "  [theme=dark] .colab-df-quickchart {\n",
              "      --bg-color: #3B4455;\n",
              "      --fill-color: #D2E3FC;\n",
              "      --hover-bg-color: #434B5C;\n",
              "      --hover-fill-color: #FFFFFF;\n",
              "      --disabled-bg-color: #3B4455;\n",
              "      --disabled-fill-color: #666;\n",
              "  }\n",
              "\n",
              "  .colab-df-quickchart {\n",
              "    background-color: var(--bg-color);\n",
              "    border: none;\n",
              "    border-radius: 50%;\n",
              "    cursor: pointer;\n",
              "    display: none;\n",
              "    fill: var(--fill-color);\n",
              "    height: 32px;\n",
              "    padding: 0;\n",
              "    width: 32px;\n",
              "  }\n",
              "\n",
              "  .colab-df-quickchart:hover {\n",
              "    background-color: var(--hover-bg-color);\n",
              "    box-shadow: 0 1px 2px rgba(60, 64, 67, 0.3), 0 1px 3px 1px rgba(60, 64, 67, 0.15);\n",
              "    fill: var(--button-hover-fill-color);\n",
              "  }\n",
              "\n",
              "  .colab-df-quickchart-complete:disabled,\n",
              "  .colab-df-quickchart-complete:disabled:hover {\n",
              "    background-color: var(--disabled-bg-color);\n",
              "    fill: var(--disabled-fill-color);\n",
              "    box-shadow: none;\n",
              "  }\n",
              "\n",
              "  .colab-df-spinner {\n",
              "    border: 2px solid var(--fill-color);\n",
              "    border-color: transparent;\n",
              "    border-bottom-color: var(--fill-color);\n",
              "    animation:\n",
              "      spin 1s steps(1) infinite;\n",
              "  }\n",
              "\n",
              "  @keyframes spin {\n",
              "    0% {\n",
              "      border-color: transparent;\n",
              "      border-bottom-color: var(--fill-color);\n",
              "      border-left-color: var(--fill-color);\n",
              "    }\n",
              "    20% {\n",
              "      border-color: transparent;\n",
              "      border-left-color: var(--fill-color);\n",
              "      border-top-color: var(--fill-color);\n",
              "    }\n",
              "    30% {\n",
              "      border-color: transparent;\n",
              "      border-left-color: var(--fill-color);\n",
              "      border-top-color: var(--fill-color);\n",
              "      border-right-color: var(--fill-color);\n",
              "    }\n",
              "    40% {\n",
              "      border-color: transparent;\n",
              "      border-right-color: var(--fill-color);\n",
              "      border-top-color: var(--fill-color);\n",
              "    }\n",
              "    60% {\n",
              "      border-color: transparent;\n",
              "      border-right-color: var(--fill-color);\n",
              "    }\n",
              "    80% {\n",
              "      border-color: transparent;\n",
              "      border-right-color: var(--fill-color);\n",
              "      border-bottom-color: var(--fill-color);\n",
              "    }\n",
              "    90% {\n",
              "      border-color: transparent;\n",
              "      border-bottom-color: var(--fill-color);\n",
              "    }\n",
              "  }\n",
              "</style>\n",
              "\n",
              "  <script>\n",
              "    async function quickchart(key) {\n",
              "      const quickchartButtonEl =\n",
              "        document.querySelector('#' + key + ' button');\n",
              "      quickchartButtonEl.disabled = true;  // To prevent multiple clicks.\n",
              "      quickchartButtonEl.classList.add('colab-df-spinner');\n",
              "      try {\n",
              "        const charts = await google.colab.kernel.invokeFunction(\n",
              "            'suggestCharts', [key], {});\n",
              "      } catch (error) {\n",
              "        console.error('Error during call to suggestCharts:', error);\n",
              "      }\n",
              "      quickchartButtonEl.classList.remove('colab-df-spinner');\n",
              "      quickchartButtonEl.classList.add('colab-df-quickchart-complete');\n",
              "    }\n",
              "    (() => {\n",
              "      let quickchartButtonEl =\n",
              "        document.querySelector('#df-4f13e813-a3b2-4e8a-864f-12db0cd834e6 button');\n",
              "      quickchartButtonEl.style.display =\n",
              "        google.colab.kernel.accessAllowed ? 'block' : 'none';\n",
              "    })();\n",
              "  </script>\n",
              "</div>\n",
              "\n",
              "    </div>\n",
              "  </div>\n"
            ],
            "application/vnd.google.colaboratory.intrinsic+json": {
              "type": "dataframe",
              "summary": "{\n  \"name\": \"loss_df\",\n  \"rows\": 5,\n  \"fields\": [\n    {\n      \"column\": \"loss\",\n      \"properties\": {\n        \"dtype\": \"number\",\n        \"std\": 0.0002737234234177853,\n        \"min\": 0.06798774003982544,\n        \"max\": 0.06868372112512589,\n        \"num_unique_values\": 5,\n        \"samples\": [\n          0.06852375715970993,\n          0.06798774003982544,\n          0.06850681453943253\n        ],\n        \"semantic_type\": \"\",\n        \"description\": \"\"\n      }\n    },\n    {\n      \"column\": \"accuracy\",\n      \"properties\": {\n        \"dtype\": \"number\",\n        \"std\": 0.00018067951064829117,\n        \"min\": 0.9778314828872681,\n        \"max\": 0.9782481789588928,\n        \"num_unique_values\": 4,\n        \"samples\": [\n          0.9778314828872681,\n          0.9781648516654968,\n          0.9779981374740601\n        ],\n        \"semantic_type\": \"\",\n        \"description\": \"\"\n      }\n    },\n    {\n      \"column\": \"val_loss\",\n      \"properties\": {\n        \"dtype\": \"number\",\n        \"std\": 0.0011645832571562586,\n        \"min\": 0.11800595372915268,\n        \"max\": 0.12118344008922577,\n        \"num_unique_values\": 5,\n        \"samples\": [\n          0.11890533566474915,\n          0.11919229477643967,\n          0.12118344008922577\n        ],\n        \"semantic_type\": \"\",\n        \"description\": \"\"\n      }\n    },\n    {\n      \"column\": \"val_accuracy\",\n      \"properties\": {\n        \"dtype\": \"number\",\n        \"std\": 0.0006235962257734832,\n        \"min\": 0.9693333506584167,\n        \"max\": 0.9706666469573975,\n        \"num_unique_values\": 3,\n        \"samples\": [\n          0.9703333377838135,\n          0.9693333506584167,\n          0.9706666469573975\n        ],\n        \"semantic_type\": \"\",\n        \"description\": \"\"\n      }\n    }\n  ]\n}"
            }
          },
          "metadata": {},
          "execution_count": 53
        }
      ],
      "source": [
        "loss_df = pd.DataFrame(model.history.history)\n",
        "loss_df.tail()"
      ]
    },
    {
      "cell_type": "code",
      "execution_count": 54,
      "metadata": {
        "id": "iwkHjUG9WyUz",
        "outputId": "a8c57171-361a-41c6-9cd6-aace0d1a727c",
        "colab": {
          "base_uri": "https://localhost:8080/",
          "height": 430
        }
      },
      "outputs": [
        {
          "output_type": "display_data",
          "data": {
            "text/plain": [
              "<Figure size 640x480 with 1 Axes>"
            ],
            "image/png": "[encoded data removed]"
          },
          "metadata": {}
        }
      ],
      "source": [
        "loss_df[['loss', 'val_loss']].plot(legend=True)\n",
        "plt.show()"
      ]
    },
    {
      "cell_type": "markdown",
      "metadata": {
        "id": "N2GM7bNYWyU1"
      },
      "source": [
        "As you can see, the model is overfitting! we can either use early stopping (preferred here) or drop out regularization.\n",
        "\n",
        "# Regularization\n",
        "\n",
        "## 1. Early stopping!\n",
        "we didn't need to run through all the epochs! at some point, the val_loss is not improving. Let's fix this by introducing **callbacks**!\n",
        "\n",
        "The keras.callbacks module includes a number of built-in callbacks including\n",
        "1. ModelCheckpoint and\n",
        "2. EarlyStopping.\n",
        "\n",
        "EarlyStopping is typically used in combination with ModelCheckpoint, which lets you continually save the model during\n",
        "training (and, optionally, save only the current best model so far: the version of the model that achieved the best performance at the end of an epoch).\n",
        "\n"
      ]
    },
    {
      "cell_type": "code",
      "execution_count": 55,
      "metadata": {
        "id": "7qao68-gWyU2"
      },
      "outputs": [],
      "source": [
        "from tensorflow.keras.callbacks import EarlyStopping, ModelCheckpoint"
      ]
    },
    {
      "cell_type": "code",
      "execution_count": 56,
      "metadata": {
        "id": "sDpZsEa5WyU3"
      },
      "outputs": [],
      "source": [
        "early_stopping   = EarlyStopping(monitor='val_loss', mode='min', verbose=1, patience=10)\n",
        "model_checkpoint = ModelCheckpoint(monitor='val_loss', save_best_only=True, filepath=\"model_checkpoint.keras\")\n",
        "callback_list    = [early_stopping,model_checkpoint]"
      ]
    },
    {
      "cell_type": "code",
      "execution_count": 58,
      "metadata": {
        "id": "us56VaOGWyU4",
        "outputId": "30c61191-21cf-4ae6-b52a-914ba68ba994",
        "colab": {
          "base_uri": "https://localhost:8080/"
        }
      },
      "outputs": [
        {
          "output_type": "stream",
          "name": "stdout",
          "text": [
            "Model: \"my_classification_model\"\n",
            "_________________________________________________________________\n",
            " Layer (type)                Output Shape              Param #   \n",
            "=================================================================\n",
            " first_layer (Dense)         (None, 20)                380       \n",
            "                                                                 \n",
            " second_layer (Dense)        (None, 8)                 168       \n",
            "                                                                 \n",
            " output_layer (Dense)        (None, 1)                 9         \n",
            "                                                                 \n",
            "=================================================================\n",
            "Total params: 557 (2.18 KB)\n",
            "Trainable params: 557 (2.18 KB)\n",
            "Non-trainable params: 0 (0.00 Byte)\n",
            "_________________________________________________________________\n"
          ]
        }
      ],
      "source": [
        "model = build_model() #to not repeat the older model\n",
        "model.summary()"
      ]
    },
    {
      "cell_type": "code",
      "execution_count": 59,
      "metadata": {
        "id": "VtBi7c6bWyU5",
        "outputId": "7c5c359c-bbf9-4cde-8f77-f27651347612",
        "colab": {
          "base_uri": "https://localhost:8080/"
        }
      },
      "outputs": [
        {
          "output_type": "stream",
          "name": "stdout",
          "text": [
            "Epoch 1/400\n",
            "94/94 [==============================] - 1s 5ms/step - loss: 0.6288 - accuracy: 0.6795 - val_loss: 0.5097 - val_accuracy: 0.7877\n",
            "Epoch 2/400\n",
            "94/94 [==============================] - 0s 3ms/step - loss: 0.4496 - accuracy: 0.8012 - val_loss: 0.4109 - val_accuracy: 0.8050\n",
            "Epoch 3/400\n",
            "94/94 [==============================] - 0s 3ms/step - loss: 0.3556 - accuracy: 0.8492 - val_loss: 0.3251 - val_accuracy: 0.8700\n",
            "Epoch 4/400\n",
            "94/94 [==============================] - 0s 3ms/step - loss: 0.2895 - accuracy: 0.8947 - val_loss: 0.2707 - val_accuracy: 0.8993\n",
            "Epoch 5/400\n",
            "94/94 [==============================] - 0s 3ms/step - loss: 0.2511 - accuracy: 0.9125 - val_loss: 0.2377 - val_accuracy: 0.9163\n",
            "Epoch 6/400\n",
            "94/94 [==============================] - 0s 3ms/step - loss: 0.2278 - accuracy: 0.9223 - val_loss: 0.2215 - val_accuracy: 0.9180\n",
            "Epoch 7/400\n",
            "94/94 [==============================] - 0s 3ms/step - loss: 0.2130 - accuracy: 0.9287 - val_loss: 0.2047 - val_accuracy: 0.9350\n",
            "Epoch 8/400\n",
            "94/94 [==============================] - 0s 3ms/step - loss: 0.2012 - accuracy: 0.9349 - val_loss: 0.1956 - val_accuracy: 0.9353\n",
            "Epoch 9/400\n",
            "94/94 [==============================] - 0s 4ms/step - loss: 0.1923 - accuracy: 0.9376 - val_loss: 0.1856 - val_accuracy: 0.9417\n",
            "Epoch 10/400\n",
            "94/94 [==============================] - 0s 4ms/step - loss: 0.1848 - accuracy: 0.9407 - val_loss: 0.1785 - val_accuracy: 0.9450\n",
            "Epoch 11/400\n",
            "94/94 [==============================] - 0s 4ms/step - loss: 0.1784 - accuracy: 0.9449 - val_loss: 0.1725 - val_accuracy: 0.9487\n",
            "Epoch 12/400\n",
            "94/94 [==============================] - 0s 4ms/step - loss: 0.1726 - accuracy: 0.9461 - val_loss: 0.1688 - val_accuracy: 0.9497\n",
            "Epoch 13/400\n",
            "94/94 [==============================] - 0s 4ms/step - loss: 0.1677 - accuracy: 0.9492 - val_loss: 0.1647 - val_accuracy: 0.9503\n",
            "Epoch 14/400\n",
            "94/94 [==============================] - 0s 4ms/step - loss: 0.1632 - accuracy: 0.9512 - val_loss: 0.1605 - val_accuracy: 0.9507\n",
            "Epoch 15/400\n",
            "94/94 [==============================] - 0s 4ms/step - loss: 0.1595 - accuracy: 0.9514 - val_loss: 0.1569 - val_accuracy: 0.9537\n",
            "Epoch 16/400\n",
            "94/94 [==============================] - 0s 3ms/step - loss: 0.1562 - accuracy: 0.9523 - val_loss: 0.1548 - val_accuracy: 0.9547\n",
            "Epoch 17/400\n",
            "94/94 [==============================] - 0s 3ms/step - loss: 0.1532 - accuracy: 0.9542 - val_loss: 0.1522 - val_accuracy: 0.9573\n",
            "Epoch 18/400\n",
            "94/94 [==============================] - 0s 3ms/step - loss: 0.1508 - accuracy: 0.9541 - val_loss: 0.1503 - val_accuracy: 0.9583\n",
            "Epoch 19/400\n",
            "94/94 [==============================] - 0s 3ms/step - loss: 0.1486 - accuracy: 0.9557 - val_loss: 0.1488 - val_accuracy: 0.9577\n",
            "Epoch 20/400\n",
            "94/94 [==============================] - 0s 3ms/step - loss: 0.1465 - accuracy: 0.9563 - val_loss: 0.1458 - val_accuracy: 0.9590\n",
            "Epoch 21/400\n",
            "94/94 [==============================] - 0s 3ms/step - loss: 0.1446 - accuracy: 0.9569 - val_loss: 0.1443 - val_accuracy: 0.9600\n",
            "Epoch 22/400\n",
            "94/94 [==============================] - 0s 3ms/step - loss: 0.1432 - accuracy: 0.9572 - val_loss: 0.1431 - val_accuracy: 0.9607\n",
            "Epoch 23/400\n",
            "94/94 [==============================] - 0s 3ms/step - loss: 0.1414 - accuracy: 0.9582 - val_loss: 0.1412 - val_accuracy: 0.9600\n",
            "Epoch 24/400\n",
            "94/94 [==============================] - 0s 3ms/step - loss: 0.1395 - accuracy: 0.9587 - val_loss: 0.1404 - val_accuracy: 0.9583\n",
            "Epoch 25/400\n",
            "94/94 [==============================] - 0s 3ms/step - loss: 0.1383 - accuracy: 0.9583 - val_loss: 0.1395 - val_accuracy: 0.9580\n",
            "Epoch 26/400\n",
            "94/94 [==============================] - 0s 3ms/step - loss: 0.1366 - accuracy: 0.9597 - val_loss: 0.1389 - val_accuracy: 0.9613\n",
            "Epoch 27/400\n",
            "94/94 [==============================] - 0s 3ms/step - loss: 0.1356 - accuracy: 0.9601 - val_loss: 0.1365 - val_accuracy: 0.9600\n",
            "Epoch 28/400\n",
            "94/94 [==============================] - 0s 3ms/step - loss: 0.1339 - accuracy: 0.9604 - val_loss: 0.1357 - val_accuracy: 0.9623\n",
            "Epoch 29/400\n",
            "94/94 [==============================] - 0s 3ms/step - loss: 0.1326 - accuracy: 0.9606 - val_loss: 0.1336 - val_accuracy: 0.9630\n",
            "Epoch 30/400\n",
            "94/94 [==============================] - 0s 2ms/step - loss: 0.1314 - accuracy: 0.9609 - val_loss: 0.1337 - val_accuracy: 0.9650\n",
            "Epoch 31/400\n",
            "94/94 [==============================] - 0s 3ms/step - loss: 0.1300 - accuracy: 0.9631 - val_loss: 0.1325 - val_accuracy: 0.9627\n",
            "Epoch 32/400\n",
            "94/94 [==============================] - 0s 3ms/step - loss: 0.1289 - accuracy: 0.9626 - val_loss: 0.1319 - val_accuracy: 0.9630\n",
            "Epoch 33/400\n",
            "94/94 [==============================] - 0s 3ms/step - loss: 0.1280 - accuracy: 0.9624 - val_loss: 0.1298 - val_accuracy: 0.9667\n",
            "Epoch 34/400\n",
            "94/94 [==============================] - 0s 3ms/step - loss: 0.1270 - accuracy: 0.9636 - val_loss: 0.1295 - val_accuracy: 0.9660\n",
            "Epoch 35/400\n",
            "94/94 [==============================] - 0s 3ms/step - loss: 0.1262 - accuracy: 0.9636 - val_loss: 0.1294 - val_accuracy: 0.9663\n",
            "Epoch 36/400\n",
            "94/94 [==============================] - 0s 3ms/step - loss: 0.1250 - accuracy: 0.9639 - val_loss: 0.1283 - val_accuracy: 0.9653\n",
            "Epoch 37/400\n",
            "94/94 [==============================] - 0s 3ms/step - loss: 0.1240 - accuracy: 0.9642 - val_loss: 0.1283 - val_accuracy: 0.9637\n",
            "Epoch 38/400\n",
            "94/94 [==============================] - 0s 3ms/step - loss: 0.1235 - accuracy: 0.9638 - val_loss: 0.1273 - val_accuracy: 0.9650\n",
            "Epoch 39/400\n",
            "94/94 [==============================] - 0s 3ms/step - loss: 0.1226 - accuracy: 0.9646 - val_loss: 0.1265 - val_accuracy: 0.9647\n",
            "Epoch 40/400\n",
            "94/94 [==============================] - 0s 3ms/step - loss: 0.1220 - accuracy: 0.9640 - val_loss: 0.1263 - val_accuracy: 0.9647\n",
            "Epoch 41/400\n",
            "94/94 [==============================] - 0s 3ms/step - loss: 0.1211 - accuracy: 0.9652 - val_loss: 0.1256 - val_accuracy: 0.9657\n",
            "Epoch 42/400\n",
            "94/94 [==============================] - 0s 2ms/step - loss: 0.1204 - accuracy: 0.9650 - val_loss: 0.1263 - val_accuracy: 0.9647\n",
            "Epoch 43/400\n",
            "94/94 [==============================] - 0s 3ms/step - loss: 0.1197 - accuracy: 0.9652 - val_loss: 0.1236 - val_accuracy: 0.9670\n",
            "Epoch 44/400\n",
            "94/94 [==============================] - 0s 3ms/step - loss: 0.1191 - accuracy: 0.9652 - val_loss: 0.1255 - val_accuracy: 0.9653\n",
            "Epoch 45/400\n",
            "94/94 [==============================] - 0s 3ms/step - loss: 0.1186 - accuracy: 0.9662 - val_loss: 0.1241 - val_accuracy: 0.9660\n",
            "Epoch 46/400\n",
            "94/94 [==============================] - 0s 3ms/step - loss: 0.1184 - accuracy: 0.9653 - val_loss: 0.1237 - val_accuracy: 0.9667\n",
            "Epoch 47/400\n",
            "94/94 [==============================] - 0s 3ms/step - loss: 0.1176 - accuracy: 0.9654 - val_loss: 0.1227 - val_accuracy: 0.9680\n",
            "Epoch 48/400\n",
            "94/94 [==============================] - 0s 3ms/step - loss: 0.1172 - accuracy: 0.9657 - val_loss: 0.1223 - val_accuracy: 0.9677\n",
            "Epoch 49/400\n",
            "94/94 [==============================] - 0s 3ms/step - loss: 0.1163 - accuracy: 0.9656 - val_loss: 0.1230 - val_accuracy: 0.9680\n",
            "Epoch 50/400\n",
            "94/94 [==============================] - 0s 3ms/step - loss: 0.1162 - accuracy: 0.9661 - val_loss: 0.1217 - val_accuracy: 0.9670\n",
            "Epoch 51/400\n",
            "94/94 [==============================] - 0s 3ms/step - loss: 0.1157 - accuracy: 0.9657 - val_loss: 0.1212 - val_accuracy: 0.9663\n",
            "Epoch 52/400\n",
            "94/94 [==============================] - 0s 2ms/step - loss: 0.1149 - accuracy: 0.9658 - val_loss: 0.1216 - val_accuracy: 0.9680\n",
            "Epoch 53/400\n",
            "94/94 [==============================] - 0s 3ms/step - loss: 0.1145 - accuracy: 0.9666 - val_loss: 0.1206 - val_accuracy: 0.9670\n",
            "Epoch 54/400\n",
            "94/94 [==============================] - 0s 4ms/step - loss: 0.1142 - accuracy: 0.9662 - val_loss: 0.1190 - val_accuracy: 0.9683\n",
            "Epoch 55/400\n",
            "94/94 [==============================] - 0s 3ms/step - loss: 0.1136 - accuracy: 0.9666 - val_loss: 0.1192 - val_accuracy: 0.9683\n",
            "Epoch 56/400\n",
            "94/94 [==============================] - 0s 4ms/step - loss: 0.1131 - accuracy: 0.9666 - val_loss: 0.1209 - val_accuracy: 0.9680\n",
            "Epoch 57/400\n",
            "94/94 [==============================] - 0s 3ms/step - loss: 0.1127 - accuracy: 0.9666 - val_loss: 0.1202 - val_accuracy: 0.9683\n",
            "Epoch 58/400\n",
            "94/94 [==============================] - 0s 3ms/step - loss: 0.1123 - accuracy: 0.9667 - val_loss: 0.1201 - val_accuracy: 0.9677\n",
            "Epoch 59/400\n",
            "94/94 [==============================] - 0s 4ms/step - loss: 0.1119 - accuracy: 0.9664 - val_loss: 0.1203 - val_accuracy: 0.9683\n",
            "Epoch 60/400\n",
            "94/94 [==============================] - 0s 4ms/step - loss: 0.1114 - accuracy: 0.9665 - val_loss: 0.1202 - val_accuracy: 0.9690\n",
            "Epoch 61/400\n",
            "94/94 [==============================] - 0s 4ms/step - loss: 0.1109 - accuracy: 0.9667 - val_loss: 0.1201 - val_accuracy: 0.9667\n",
            "Epoch 62/400\n",
            "94/94 [==============================] - 0s 3ms/step - loss: 0.1105 - accuracy: 0.9671 - val_loss: 0.1174 - val_accuracy: 0.9710\n",
            "Epoch 63/400\n",
            "94/94 [==============================] - 0s 3ms/step - loss: 0.1100 - accuracy: 0.9672 - val_loss: 0.1193 - val_accuracy: 0.9680\n",
            "Epoch 64/400\n",
            "94/94 [==============================] - 0s 3ms/step - loss: 0.1099 - accuracy: 0.9667 - val_loss: 0.1194 - val_accuracy: 0.9683\n",
            "Epoch 65/400\n",
            "94/94 [==============================] - 0s 2ms/step - loss: 0.1094 - accuracy: 0.9670 - val_loss: 0.1181 - val_accuracy: 0.9690\n",
            "Epoch 66/400\n",
            "94/94 [==============================] - 0s 3ms/step - loss: 0.1090 - accuracy: 0.9669 - val_loss: 0.1182 - val_accuracy: 0.9690\n",
            "Epoch 67/400\n",
            "94/94 [==============================] - 0s 3ms/step - loss: 0.1086 - accuracy: 0.9676 - val_loss: 0.1177 - val_accuracy: 0.9693\n",
            "Epoch 68/400\n",
            "94/94 [==============================] - 0s 3ms/step - loss: 0.1081 - accuracy: 0.9662 - val_loss: 0.1190 - val_accuracy: 0.9687\n",
            "Epoch 69/400\n",
            "94/94 [==============================] - 0s 3ms/step - loss: 0.1077 - accuracy: 0.9674 - val_loss: 0.1177 - val_accuracy: 0.9680\n",
            "Epoch 70/400\n",
            "94/94 [==============================] - 0s 2ms/step - loss: 0.1075 - accuracy: 0.9677 - val_loss: 0.1203 - val_accuracy: 0.9683\n",
            "Epoch 71/400\n",
            "94/94 [==============================] - 0s 2ms/step - loss: 0.1069 - accuracy: 0.9675 - val_loss: 0.1188 - val_accuracy: 0.9687\n",
            "Epoch 72/400\n",
            "94/94 [==============================] - 0s 3ms/step - loss: 0.1069 - accuracy: 0.9677 - val_loss: 0.1185 - val_accuracy: 0.9680\n",
            "Epoch 72: early stopping\n"
          ]
        },
        {
          "output_type": "execute_result",
          "data": {
            "text/plain": [
              "<keras.src.callbacks.History at 0x7ea7632aada0>"
            ]
          },
          "metadata": {},
          "execution_count": 59
        }
      ],
      "source": [
        "model.fit(X_train,y_train, validation_data=(X_test, y_test), epochs=400, batch_size=128,\n",
        "          callbacks=callback_list)"
      ]
    },
    {
      "cell_type": "code",
      "execution_count": 60,
      "metadata": {
        "id": "NBvCjA6CWyU6",
        "outputId": "0f895218-ac3e-4906-af3f-a32903e045a6",
        "colab": {
          "base_uri": "https://localhost:8080/",
          "height": 430
        }
      },
      "outputs": [
        {
          "output_type": "display_data",
          "data": {
            "text/plain": [
              "<Figure size 640x480 with 1 Axes>"
            ],
            "image/png": "[encoded data removed]"
          },
          "metadata": {}
        }
      ],
      "source": [
        "loss_df = pd.DataFrame(model.history.history)\n",
        "loss_df[['loss', 'val_loss']].plot(legend=True)\n",
        "plt.show()"
      ]
    },
    {
      "cell_type": "markdown",
      "metadata": {
        "id": "WkRCnMfPWyU7"
      },
      "source": [
        "## 2. Drop out\n",
        "\n",
        "Let's make a new model and add the drop out layer to that!"
      ]
    },
    {
      "cell_type": "code",
      "execution_count": 61,
      "metadata": {
        "id": "senbqgmtWyU8"
      },
      "outputs": [],
      "source": [
        "def build_model_with_dropout():\n",
        "    model = keras.Sequential(name=\"my_classification_model_with_Dropout\")\n",
        "    model.add(layers.Input(shape=(X_train.shape[1],))) # this is the shape of each sample!\n",
        "    model.add(layers.Dense(units = 20, activation = 'relu', name=\"first_layer\"))\n",
        "    model.add(layers.Dropout(rate=0.5)) # 50% of nuerons will be randomly dropped out.\n",
        "\n",
        "    model.add(layers.Dense(units = 8, activation = 'relu', name=\"second_layer\"))\n",
        "    model.add(layers.Dropout(rate=0.5))\n",
        "\n",
        "    #output layer\n",
        "    model.add(layers.Dense(units = 1, activation = 'sigmoid', name=\"output_layer\"))\n",
        "    model.compile(optimizer='rmsprop', loss='binary_crossentropy', metrics=['accuracy'])\n",
        "    return model"
      ]
    },
    {
      "cell_type": "code",
      "execution_count": 62,
      "metadata": {
        "id": "wBoLJXCdWyU8",
        "outputId": "c5a46ac9-ef8d-407d-9438-3a7cdbfef093",
        "colab": {
          "base_uri": "https://localhost:8080/"
        }
      },
      "outputs": [
        {
          "output_type": "stream",
          "name": "stdout",
          "text": [
            "Model: \"my_classification_model_with_Dropout\"\n",
            "_________________________________________________________________\n",
            " Layer (type)                Output Shape              Param #   \n",
            "=================================================================\n",
            " first_layer (Dense)         (None, 20)                380       \n",
            "                                                                 \n",
            " dropout (Dropout)           (None, 20)                0         \n",
            "                                                                 \n",
            " second_layer (Dense)        (None, 8)                 168       \n",
            "                                                                 \n",
            " dropout_1 (Dropout)         (None, 8)                 0         \n",
            "                                                                 \n",
            " output_layer (Dense)        (None, 1)                 9         \n",
            "                                                                 \n",
            "=================================================================\n",
            "Total params: 557 (2.18 KB)\n",
            "Trainable params: 557 (2.18 KB)\n",
            "Non-trainable params: 0 (0.00 Byte)\n",
            "_________________________________________________________________\n"
          ]
        }
      ],
      "source": [
        "model_with_dropout = build_model_with_dropout()\n",
        "model_with_dropout.summary()"
      ]
    },
    {
      "cell_type": "code",
      "execution_count": 63,
      "metadata": {
        "id": "WBD1EPIlWyU9",
        "outputId": "805b15da-a319-48f9-a9df-9412d6e07bcd",
        "colab": {
          "base_uri": "https://localhost:8080/"
        }
      },
      "outputs": [
        {
          "output_type": "stream",
          "name": "stdout",
          "text": [
            "Epoch 1/400\n",
            "94/94 [==============================] - 1s 4ms/step - loss: 0.6046 - accuracy: 0.7384 - val_loss: 0.5565 - val_accuracy: 0.7580\n",
            "Epoch 2/400\n",
            "94/94 [==============================] - 0s 3ms/step - loss: 0.5568 - accuracy: 0.7604 - val_loss: 0.5120 - val_accuracy: 0.7580\n",
            "Epoch 3/400\n",
            "94/94 [==============================] - 0s 3ms/step - loss: 0.5231 - accuracy: 0.7629 - val_loss: 0.4767 - val_accuracy: 0.7580\n",
            "Epoch 4/400\n",
            "94/94 [==============================] - 0s 3ms/step - loss: 0.4872 - accuracy: 0.7629 - val_loss: 0.4411 - val_accuracy: 0.7580\n",
            "Epoch 5/400\n",
            "94/94 [==============================] - 0s 4ms/step - loss: 0.4619 - accuracy: 0.7629 - val_loss: 0.4113 - val_accuracy: 0.7580\n",
            "Epoch 6/400\n",
            "94/94 [==============================] - 0s 4ms/step - loss: 0.4361 - accuracy: 0.7629 - val_loss: 0.3869 - val_accuracy: 0.7580\n",
            "Epoch 7/400\n",
            "94/94 [==============================] - 0s 4ms/step - loss: 0.4172 - accuracy: 0.7629 - val_loss: 0.3695 - val_accuracy: 0.7580\n",
            "Epoch 8/400\n",
            "94/94 [==============================] - 0s 4ms/step - loss: 0.4018 - accuracy: 0.7629 - val_loss: 0.3509 - val_accuracy: 0.7580\n",
            "Epoch 9/400\n",
            "94/94 [==============================] - 0s 4ms/step - loss: 0.3863 - accuracy: 0.7629 - val_loss: 0.3372 - val_accuracy: 0.7580\n",
            "Epoch 10/400\n",
            "94/94 [==============================] - 0s 4ms/step - loss: 0.3742 - accuracy: 0.7658 - val_loss: 0.3247 - val_accuracy: 0.8567\n",
            "Epoch 11/400\n",
            "94/94 [==============================] - 0s 4ms/step - loss: 0.3607 - accuracy: 0.8252 - val_loss: 0.3140 - val_accuracy: 0.8843\n",
            "Epoch 12/400\n",
            "94/94 [==============================] - 0s 3ms/step - loss: 0.3574 - accuracy: 0.8487 - val_loss: 0.3054 - val_accuracy: 0.8927\n",
            "Epoch 13/400\n",
            "94/94 [==============================] - 0s 3ms/step - loss: 0.3442 - accuracy: 0.8645 - val_loss: 0.2970 - val_accuracy: 0.9007\n",
            "Epoch 14/400\n",
            "94/94 [==============================] - 0s 3ms/step - loss: 0.3363 - accuracy: 0.8769 - val_loss: 0.2890 - val_accuracy: 0.9050\n",
            "Epoch 15/400\n",
            "94/94 [==============================] - 0s 3ms/step - loss: 0.3326 - accuracy: 0.8817 - val_loss: 0.2841 - val_accuracy: 0.9090\n",
            "Epoch 16/400\n",
            "94/94 [==============================] - 0s 3ms/step - loss: 0.3231 - accuracy: 0.8845 - val_loss: 0.2761 - val_accuracy: 0.9147\n",
            "Epoch 17/400\n",
            "94/94 [==============================] - 0s 3ms/step - loss: 0.3186 - accuracy: 0.8917 - val_loss: 0.2705 - val_accuracy: 0.9193\n",
            "Epoch 18/400\n",
            "94/94 [==============================] - 0s 3ms/step - loss: 0.3203 - accuracy: 0.8923 - val_loss: 0.2638 - val_accuracy: 0.9267\n",
            "Epoch 19/400\n",
            "94/94 [==============================] - 0s 3ms/step - loss: 0.3133 - accuracy: 0.8876 - val_loss: 0.2594 - val_accuracy: 0.9283\n",
            "Epoch 20/400\n",
            "94/94 [==============================] - 0s 3ms/step - loss: 0.3123 - accuracy: 0.8952 - val_loss: 0.2552 - val_accuracy: 0.9297\n",
            "Epoch 21/400\n",
            "94/94 [==============================] - 0s 3ms/step - loss: 0.3024 - accuracy: 0.8993 - val_loss: 0.2521 - val_accuracy: 0.9347\n",
            "Epoch 22/400\n",
            "94/94 [==============================] - 0s 3ms/step - loss: 0.3012 - accuracy: 0.8979 - val_loss: 0.2465 - val_accuracy: 0.9353\n",
            "Epoch 23/400\n",
            "94/94 [==============================] - 0s 2ms/step - loss: 0.2999 - accuracy: 0.8992 - val_loss: 0.2426 - val_accuracy: 0.9393\n",
            "Epoch 24/400\n",
            "94/94 [==============================] - 0s 3ms/step - loss: 0.2962 - accuracy: 0.9012 - val_loss: 0.2398 - val_accuracy: 0.9400\n",
            "Epoch 25/400\n",
            "94/94 [==============================] - 0s 3ms/step - loss: 0.3005 - accuracy: 0.8987 - val_loss: 0.2381 - val_accuracy: 0.9403\n",
            "Epoch 26/400\n",
            "94/94 [==============================] - 0s 3ms/step - loss: 0.3012 - accuracy: 0.8989 - val_loss: 0.2360 - val_accuracy: 0.9403\n",
            "Epoch 27/400\n",
            "94/94 [==============================] - 0s 3ms/step - loss: 0.2971 - accuracy: 0.9036 - val_loss: 0.2323 - val_accuracy: 0.9440\n",
            "Epoch 28/400\n",
            "94/94 [==============================] - 0s 3ms/step - loss: 0.2889 - accuracy: 0.9030 - val_loss: 0.2308 - val_accuracy: 0.9433\n",
            "Epoch 29/400\n",
            "94/94 [==============================] - 0s 3ms/step - loss: 0.2863 - accuracy: 0.9030 - val_loss: 0.2280 - val_accuracy: 0.9453\n",
            "Epoch 30/400\n",
            "94/94 [==============================] - 0s 3ms/step - loss: 0.2928 - accuracy: 0.9035 - val_loss: 0.2252 - val_accuracy: 0.9463\n",
            "Epoch 31/400\n",
            "94/94 [==============================] - 0s 3ms/step - loss: 0.2947 - accuracy: 0.9022 - val_loss: 0.2233 - val_accuracy: 0.9490\n",
            "Epoch 32/400\n",
            "94/94 [==============================] - 0s 3ms/step - loss: 0.2849 - accuracy: 0.9060 - val_loss: 0.2212 - val_accuracy: 0.9477\n",
            "Epoch 33/400\n",
            "94/94 [==============================] - 0s 3ms/step - loss: 0.2836 - accuracy: 0.9098 - val_loss: 0.2204 - val_accuracy: 0.9480\n",
            "Epoch 34/400\n",
            "94/94 [==============================] - 0s 2ms/step - loss: 0.2928 - accuracy: 0.9024 - val_loss: 0.2194 - val_accuracy: 0.9510\n",
            "Epoch 35/400\n",
            "94/94 [==============================] - 0s 3ms/step - loss: 0.2801 - accuracy: 0.9061 - val_loss: 0.2171 - val_accuracy: 0.9493\n",
            "Epoch 36/400\n",
            "94/94 [==============================] - 0s 3ms/step - loss: 0.2834 - accuracy: 0.9088 - val_loss: 0.2158 - val_accuracy: 0.9503\n",
            "Epoch 37/400\n",
            "94/94 [==============================] - 0s 3ms/step - loss: 0.2848 - accuracy: 0.9054 - val_loss: 0.2149 - val_accuracy: 0.9507\n",
            "Epoch 38/400\n",
            "94/94 [==============================] - 0s 3ms/step - loss: 0.2877 - accuracy: 0.9069 - val_loss: 0.2145 - val_accuracy: 0.9503\n",
            "Epoch 39/400\n",
            "94/94 [==============================] - 0s 3ms/step - loss: 0.2753 - accuracy: 0.9088 - val_loss: 0.2135 - val_accuracy: 0.9507\n",
            "Epoch 40/400\n",
            "94/94 [==============================] - 0s 3ms/step - loss: 0.2777 - accuracy: 0.9081 - val_loss: 0.2132 - val_accuracy: 0.9547\n",
            "Epoch 41/400\n",
            "94/94 [==============================] - 0s 3ms/step - loss: 0.2779 - accuracy: 0.9096 - val_loss: 0.2115 - val_accuracy: 0.9520\n",
            "Epoch 42/400\n",
            "94/94 [==============================] - 0s 3ms/step - loss: 0.2753 - accuracy: 0.9113 - val_loss: 0.2108 - val_accuracy: 0.9513\n",
            "Epoch 43/400\n",
            "94/94 [==============================] - 0s 3ms/step - loss: 0.2762 - accuracy: 0.9131 - val_loss: 0.2089 - val_accuracy: 0.9530\n",
            "Epoch 44/400\n",
            "94/94 [==============================] - 0s 3ms/step - loss: 0.2803 - accuracy: 0.9112 - val_loss: 0.2090 - val_accuracy: 0.9523\n",
            "Epoch 45/400\n",
            "94/94 [==============================] - 0s 3ms/step - loss: 0.2810 - accuracy: 0.9077 - val_loss: 0.2094 - val_accuracy: 0.9530\n",
            "Epoch 46/400\n",
            "94/94 [==============================] - 0s 3ms/step - loss: 0.2774 - accuracy: 0.9082 - val_loss: 0.2076 - val_accuracy: 0.9517\n",
            "Epoch 47/400\n",
            "94/94 [==============================] - 0s 3ms/step - loss: 0.2771 - accuracy: 0.9096 - val_loss: 0.2091 - val_accuracy: 0.9537\n",
            "Epoch 48/400\n",
            "94/94 [==============================] - 0s 3ms/step - loss: 0.2813 - accuracy: 0.9093 - val_loss: 0.2064 - val_accuracy: 0.9530\n",
            "Epoch 49/400\n",
            "94/94 [==============================] - 0s 3ms/step - loss: 0.2728 - accuracy: 0.9097 - val_loss: 0.2063 - val_accuracy: 0.9523\n",
            "Epoch 50/400\n",
            "94/94 [==============================] - 0s 4ms/step - loss: 0.2701 - accuracy: 0.9101 - val_loss: 0.2069 - val_accuracy: 0.9540\n",
            "Epoch 51/400\n",
            "94/94 [==============================] - 0s 4ms/step - loss: 0.2729 - accuracy: 0.9108 - val_loss: 0.2072 - val_accuracy: 0.9537\n",
            "Epoch 52/400\n",
            "94/94 [==============================] - 0s 4ms/step - loss: 0.2741 - accuracy: 0.9067 - val_loss: 0.2061 - val_accuracy: 0.9527\n",
            "Epoch 53/400\n",
            "94/94 [==============================] - 0s 4ms/step - loss: 0.2774 - accuracy: 0.9096 - val_loss: 0.2058 - val_accuracy: 0.9503\n",
            "Epoch 54/400\n",
            "94/94 [==============================] - 0s 4ms/step - loss: 0.2746 - accuracy: 0.9092 - val_loss: 0.2048 - val_accuracy: 0.9533\n",
            "Epoch 55/400\n",
            "94/94 [==============================] - 0s 4ms/step - loss: 0.2731 - accuracy: 0.9107 - val_loss: 0.2057 - val_accuracy: 0.9517\n",
            "Epoch 56/400\n",
            "94/94 [==============================] - 0s 4ms/step - loss: 0.2759 - accuracy: 0.9112 - val_loss: 0.2031 - val_accuracy: 0.9507\n",
            "Epoch 57/400\n",
            "94/94 [==============================] - 0s 3ms/step - loss: 0.2726 - accuracy: 0.9066 - val_loss: 0.2042 - val_accuracy: 0.9507\n",
            "Epoch 58/400\n",
            "94/94 [==============================] - 0s 3ms/step - loss: 0.2719 - accuracy: 0.9071 - val_loss: 0.2042 - val_accuracy: 0.9533\n",
            "Epoch 59/400\n",
            "94/94 [==============================] - 0s 3ms/step - loss: 0.2736 - accuracy: 0.9102 - val_loss: 0.2030 - val_accuracy: 0.9540\n",
            "Epoch 60/400\n",
            "94/94 [==============================] - 0s 3ms/step - loss: 0.2738 - accuracy: 0.9091 - val_loss: 0.2038 - val_accuracy: 0.9540\n",
            "Epoch 61/400\n",
            "94/94 [==============================] - 0s 3ms/step - loss: 0.2700 - accuracy: 0.9076 - val_loss: 0.2037 - val_accuracy: 0.9543\n",
            "Epoch 62/400\n",
            "94/94 [==============================] - 0s 3ms/step - loss: 0.2773 - accuracy: 0.9062 - val_loss: 0.2037 - val_accuracy: 0.9530\n",
            "Epoch 63/400\n",
            "94/94 [==============================] - 0s 2ms/step - loss: 0.2726 - accuracy: 0.9049 - val_loss: 0.2035 - val_accuracy: 0.9537\n",
            "Epoch 64/400\n",
            "94/94 [==============================] - 0s 3ms/step - loss: 0.2800 - accuracy: 0.9084 - val_loss: 0.2036 - val_accuracy: 0.9507\n",
            "Epoch 65/400\n",
            "94/94 [==============================] - 0s 3ms/step - loss: 0.2696 - accuracy: 0.9084 - val_loss: 0.2034 - val_accuracy: 0.9520\n",
            "Epoch 66/400\n",
            "94/94 [==============================] - 0s 3ms/step - loss: 0.2687 - accuracy: 0.9100 - val_loss: 0.2024 - val_accuracy: 0.9510\n",
            "Epoch 67/400\n",
            "94/94 [==============================] - 0s 3ms/step - loss: 0.2717 - accuracy: 0.9082 - val_loss: 0.2039 - val_accuracy: 0.9503\n",
            "Epoch 68/400\n",
            "94/94 [==============================] - 0s 3ms/step - loss: 0.2725 - accuracy: 0.9072 - val_loss: 0.2028 - val_accuracy: 0.9523\n",
            "Epoch 69/400\n",
            "94/94 [==============================] - 0s 3ms/step - loss: 0.2781 - accuracy: 0.9082 - val_loss: 0.2034 - val_accuracy: 0.9513\n",
            "Epoch 70/400\n",
            "94/94 [==============================] - 0s 3ms/step - loss: 0.2699 - accuracy: 0.9106 - val_loss: 0.2023 - val_accuracy: 0.9517\n",
            "Epoch 71/400\n",
            "94/94 [==============================] - 0s 2ms/step - loss: 0.2753 - accuracy: 0.9071 - val_loss: 0.2026 - val_accuracy: 0.9530\n",
            "Epoch 72/400\n",
            "94/94 [==============================] - 0s 3ms/step - loss: 0.2748 - accuracy: 0.9095 - val_loss: 0.2012 - val_accuracy: 0.9523\n",
            "Epoch 73/400\n",
            "94/94 [==============================] - 0s 3ms/step - loss: 0.2828 - accuracy: 0.9036 - val_loss: 0.2021 - val_accuracy: 0.9517\n",
            "Epoch 74/400\n",
            "94/94 [==============================] - 0s 2ms/step - loss: 0.2759 - accuracy: 0.9070 - val_loss: 0.2031 - val_accuracy: 0.9527\n",
            "Epoch 75/400\n",
            "94/94 [==============================] - 0s 3ms/step - loss: 0.2692 - accuracy: 0.9108 - val_loss: 0.2025 - val_accuracy: 0.9510\n",
            "Epoch 76/400\n",
            "94/94 [==============================] - 0s 3ms/step - loss: 0.2793 - accuracy: 0.9098 - val_loss: 0.2026 - val_accuracy: 0.9520\n",
            "Epoch 77/400\n",
            "94/94 [==============================] - 0s 3ms/step - loss: 0.2659 - accuracy: 0.9110 - val_loss: 0.2029 - val_accuracy: 0.9523\n",
            "Epoch 78/400\n",
            "94/94 [==============================] - 0s 3ms/step - loss: 0.2671 - accuracy: 0.9084 - val_loss: 0.2033 - val_accuracy: 0.9517\n",
            "Epoch 79/400\n",
            "94/94 [==============================] - 0s 3ms/step - loss: 0.2644 - accuracy: 0.9108 - val_loss: 0.2040 - val_accuracy: 0.9517\n",
            "Epoch 80/400\n",
            "94/94 [==============================] - 0s 3ms/step - loss: 0.2680 - accuracy: 0.9097 - val_loss: 0.2030 - val_accuracy: 0.9517\n",
            "Epoch 81/400\n",
            "94/94 [==============================] - 0s 3ms/step - loss: 0.2755 - accuracy: 0.9059 - val_loss: 0.2028 - val_accuracy: 0.9510\n",
            "Epoch 82/400\n",
            "94/94 [==============================] - 0s 3ms/step - loss: 0.2782 - accuracy: 0.9094 - val_loss: 0.2016 - val_accuracy: 0.9507\n",
            "Epoch 82: early stopping\n"
          ]
        },
        {
          "output_type": "execute_result",
          "data": {
            "text/plain": [
              "<keras.src.callbacks.History at 0x7ea7630550c0>"
            ]
          },
          "metadata": {},
          "execution_count": 63
        }
      ],
      "source": [
        "model_with_dropout.fit(X_train,y_train, validation_data=(X_test, y_test), epochs=400, batch_size=128,\n",
        "          callbacks=callback_list)"
      ]
    },
    {
      "cell_type": "code",
      "execution_count": null,
      "metadata": {
        "id": "UQVlAMcxWyU-",
        "outputId": "6f57b30f-b3fb-43c5-f441-c08d9be9aa36"
      },
      "outputs": [
        {
          "data": {
            "image/png": "[encoded data removed]",
            "text/plain": [
              "<Figure size 640x480 with 1 Axes>"
            ]
          },
          "metadata": {},
          "output_type": "display_data"
        }
      ],
      "source": [
        "loss_df_with_dropout = pd.DataFrame(model_with_dropout.history.history)\n",
        "loss_df_with_dropout[['loss', 'val_loss']].plot(legend=True)\n",
        "plt.show()"
      ]
    },
    {
      "cell_type": "markdown",
      "metadata": {
        "id": "1jv9SBjUWyU_"
      },
      "source": [
        "Important: Dropout is typically only applied during the training phase and not applied to the validation or test sets.\n",
        "\n",
        "Dropout is a regularization technique used to prevent overfitting in deep learning models. During training, dropout randomly drops out a certain fraction of neurons from the network, effectively training multiple smaller sub-networks and averaging their predictions to make the final prediction. This helps reduce overfitting by making the model more robust to specific neurons that may be memorizing the training data instead of learning to generalize.\n",
        "\n",
        "When evaluating the model on the validation or test set, it's important to use the full network without dropout to get an accurate estimate of the model's performance. This is because dropout is a random process, and applying it to the validation or test set would result in different predictions each time, making it difficult to compare the performance of different models."
      ]
    },
    {
      "cell_type": "markdown",
      "metadata": {
        "id": "rJTKoz_VWyVA"
      },
      "source": [
        "---\n",
        "Let's see model performance on test set:"
      ]
    },
    {
      "cell_type": "code",
      "execution_count": 64,
      "metadata": {
        "id": "e6z8K947WyVA",
        "outputId": "5175dfbe-114b-4ee3-c450-198d327f77a2",
        "colab": {
          "base_uri": "https://localhost:8080/"
        }
      },
      "outputs": [
        {
          "output_type": "stream",
          "name": "stdout",
          "text": [
            "94/94 [==============================] - 0s 1ms/step - loss: 0.1185 - accuracy: 0.9680\n"
          ]
        },
        {
          "output_type": "execute_result",
          "data": {
            "text/plain": [
              "[0.11848784238100052, 0.9679999947547913]"
            ]
          },
          "metadata": {},
          "execution_count": 64
        }
      ],
      "source": [
        "model.evaluate(X_test, y_test)"
      ]
    },
    {
      "cell_type": "code",
      "execution_count": 65,
      "metadata": {
        "id": "CIn9n714WyVB",
        "outputId": "b4afc6f3-40d5-4504-99a1-363dfe4c3327",
        "colab": {
          "base_uri": "https://localhost:8080/"
        }
      },
      "outputs": [
        {
          "output_type": "stream",
          "name": "stdout",
          "text": [
            "94/94 [==============================] - 0s 2ms/step - loss: 0.2016 - accuracy: 0.9507\n"
          ]
        },
        {
          "output_type": "execute_result",
          "data": {
            "text/plain": [
              "[0.20163916051387787, 0.9506666660308838]"
            ]
          },
          "metadata": {},
          "execution_count": 65
        }
      ],
      "source": [
        "model_with_dropout.evaluate(X_test, y_test)"
      ]
    },
    {
      "cell_type": "markdown",
      "metadata": {
        "id": "e6mjrutSWyVC"
      },
      "source": [
        "# Model Predictions"
      ]
    },
    {
      "cell_type": "code",
      "execution_count": 66,
      "metadata": {
        "id": "qx2Sl8tMWyVC",
        "outputId": "81ba8769-87bc-4d63-abb8-d2789c021ea4",
        "colab": {
          "base_uri": "https://localhost:8080/"
        }
      },
      "outputs": [
        {
          "output_type": "stream",
          "name": "stdout",
          "text": [
            "94/94 [==============================] - 0s 1ms/step\n"
          ]
        }
      ],
      "source": [
        "y_test_probs = model_with_dropout.predict(X_test)"
      ]
    },
    {
      "cell_type": "code",
      "execution_count": 67,
      "metadata": {
        "id": "CRYRQvWNWyVD",
        "outputId": "7b5aaa5b-bce0-46c9-ad2d-923c7a56c353",
        "colab": {
          "base_uri": "https://localhost:8080/"
        }
      },
      "outputs": [
        {
          "output_type": "execute_result",
          "data": {
            "text/plain": [
              "array([[4.7034520e-01],\n",
              "       [8.0458909e-07],\n",
              "       [3.0002498e-06],\n",
              "       ...,\n",
              "       [5.6205325e-02],\n",
              "       [6.2272913e-05],\n",
              "       [1.3213202e-01]], dtype=float32)"
            ]
          },
          "metadata": {},
          "execution_count": 67
        }
      ],
      "source": [
        "y_test_probs # need to reshape it."
      ]
    },
    {
      "cell_type": "code",
      "execution_count": 68,
      "metadata": {
        "id": "tp1Bz3PKWyVF",
        "outputId": "32409aae-6dea-4cf3-a257-bfa8642bd1af",
        "colab": {
          "base_uri": "https://localhost:8080/",
          "height": 206
        }
      },
      "outputs": [
        {
          "output_type": "execute_result",
          "data": {
            "text/plain": [
              "   y_test  y_test_probs  y_test_predictions\n",
              "0       0  4.703452e-01                   0\n",
              "1       0  8.045891e-07                   0\n",
              "2       0  3.000250e-06                   0\n",
              "3       0  2.036785e-02                   0\n",
              "4       0  7.517183e-02                   0"
            ],
            "text/html": [
              "\n",
              "  <div id=\"df-9e91ee93-d3e5-4734-b543-3d997b55e3e0\" class=\"colab-df-container\">\n",
              "    <div>\n",
              "<style scoped>\n",
              "    .dataframe tbody tr th:only-of-type {\n",
              "        vertical-align: middle;\n",
              "    }\n",
              "\n",
              "    .dataframe tbody tr th {\n",
              "        vertical-align: top;\n",
              "    }\n",
              "\n",
              "    .dataframe thead th {\n",
              "        text-align: right;\n",
              "    }\n",
              "</style>\n",
              "<table border=\"1\" class=\"dataframe\">\n",
              "  <thead>\n",
              "    <tr style=\"text-align: right;\">\n",
              "      <th></th>\n",
              "      <th>y_test</th>\n",
              "      <th>y_test_probs</th>\n",
              "      <th>y_test_predictions</th>\n",
              "    </tr>\n",
              "  </thead>\n",
              "  <tbody>\n",
              "    <tr>\n",
              "      <th>0</th>\n",
              "      <td>0</td>\n",
              "      <td>4.703452e-01</td>\n",
              "      <td>0</td>\n",
              "    </tr>\n",
              "    <tr>\n",
              "      <th>1</th>\n",
              "      <td>0</td>\n",
              "      <td>8.045891e-07</td>\n",
              "      <td>0</td>\n",
              "    </tr>\n",
              "    <tr>\n",
              "      <th>2</th>\n",
              "      <td>0</td>\n",
              "      <td>3.000250e-06</td>\n",
              "      <td>0</td>\n",
              "    </tr>\n",
              "    <tr>\n",
              "      <th>3</th>\n",
              "      <td>0</td>\n",
              "      <td>2.036785e-02</td>\n",
              "      <td>0</td>\n",
              "    </tr>\n",
              "    <tr>\n",
              "      <th>4</th>\n",
              "      <td>0</td>\n",
              "      <td>7.517183e-02</td>\n",
              "      <td>0</td>\n",
              "    </tr>\n",
              "  </tbody>\n",
              "</table>\n",
              "</div>\n",
              "    <div class=\"colab-df-buttons\">\n",
              "\n",
              "  <div class=\"colab-df-container\">\n",
              "    <button class=\"colab-df-convert\" onclick=\"convertToInteractive('df-9e91ee93-d3e5-4734-b543-3d997b55e3e0')\"\n",
              "            title=\"Convert this dataframe to an interactive table.\"\n",
              "            style=\"display:none;\">\n",
              "\n",
              "  <svg xmlns=\"http://www.w3.org/2000/svg\" height=\"24px\" viewBox=\"0 -960 960 960\">\n",
              "    <path d=\"M120-120v-720h720v720H120Zm60-500h600v-160H180v160Zm220 220h160v-160H400v160Zm0 220h160v-160H400v160ZM180-400h160v-160H180v160Zm440 0h160v-160H620v160ZM180-180h160v-160H180v160Zm440 0h160v-160H620v160Z\"/>\n",
              "  </svg>\n",
              "    </button>\n",
              "\n",
              "  <style>\n",
              "    .colab-df-container {\n",
              "      display:flex;\n",
              "      gap: 12px;\n",
              "    }\n",
              "\n",
              "    .colab-df-convert {\n",
              "      background-color: #E8F0FE;\n",
              "      border: none;\n",
              "      border-radius: 50%;\n",
              "      cursor: pointer;\n",
              "      display: none;\n",
              "      fill: #1967D2;\n",
              "      height: 32px;\n",
              "      padding: 0 0 0 0;\n",
              "      width: 32px;\n",
              "    }\n",
              "\n",
              "    .colab-df-convert:hover {\n",
              "      background-color: #E2EBFA;\n",
              "      box-shadow: 0px 1px 2px rgba(60, 64, 67, 0.3), 0px 1px 3px 1px rgba(60, 64, 67, 0.15);\n",
              "      fill: #174EA6;\n",
              "    }\n",
              "\n",
              "    .colab-df-buttons div {\n",
              "      margin-bottom: 4px;\n",
              "    }\n",
              "\n",
              "    [theme=dark] .colab-df-convert {\n",
              "      background-color: #3B4455;\n",
              "      fill: #D2E3FC;\n",
              "    }\n",
              "\n",
              "    [theme=dark] .colab-df-convert:hover {\n",
              "      background-color: #434B5C;\n",
              "      box-shadow: 0px 1px 3px 1px rgba(0, 0, 0, 0.15);\n",
              "      filter: drop-shadow(0px 1px 2px rgba(0, 0, 0, 0.3));\n",
              "      fill: #FFFFFF;\n",
              "    }\n",
              "  </style>\n",
              "\n",
              "    <script>\n",
              "      const buttonEl =\n",
              "        document.querySelector('#df-9e91ee93-d3e5-4734-b543-3d997b55e3e0 button.colab-df-convert');\n",
              "      buttonEl.style.display =\n",
              "        google.colab.kernel.accessAllowed ? 'block' : 'none';\n",
              "\n",
              "      async function convertToInteractive(key) {\n",
              "        const element = document.querySelector('#df-9e91ee93-d3e5-4734-b543-3d997b55e3e0');\n",
              "        const dataTable =\n",
              "          await google.colab.kernel.invokeFunction('convertToInteractive',\n",
              "                                                    [key], {});\n",
              "        if (!dataTable) return;\n",
              "\n",
              "        const docLinkHtml = 'Like what you see? Visit the ' +\n",
              "          '<a target=\"_blank\" href=https://colab.research.google.com/notebooks/data_table.ipynb>data table notebook</a>'\n",
              "          + ' to learn more about interactive tables.';\n",
              "        element.innerHTML = '';\n",
              "        dataTable['output_type'] = 'display_data';\n",
              "        await google.colab.output.renderOutput(dataTable, element);\n",
              "        const docLink = document.createElement('div');\n",
              "        docLink.innerHTML = docLinkHtml;\n",
              "        element.appendChild(docLink);\n",
              "      }\n",
              "    </script>\n",
              "  </div>\n",
              "\n",
              "\n",
              "<div id=\"df-fec712ea-c60b-4222-a544-000d53bec866\">\n",
              "  <button class=\"colab-df-quickchart\" onclick=\"quickchart('df-fec712ea-c60b-4222-a544-000d53bec866')\"\n",
              "            title=\"Suggest charts\"\n",
              "            style=\"display:none;\">\n",
              "\n",
              "<svg xmlns=\"http://www.w3.org/2000/svg\" height=\"24px\"viewBox=\"0 0 24 24\"\n",
              "     width=\"24px\">\n",
              "    <g>\n",
              "        <path d=\"M19 3H5c-1.1 0-2 .9-2 2v14c0 1.1.9 2 2 2h14c1.1 0 2-.9 2-2V5c0-1.1-.9-2-2-2zM9 17H7v-7h2v7zm4 0h-2V7h2v10zm4 0h-2v-4h2v4z\"/>\n",
              "    </g>\n",
              "</svg>\n",
              "  </button>\n",
              "\n",
              "<style>\n",
              "  .colab-df-quickchart {\n",
              "      --bg-color: #E8F0FE;\n",
              "      --fill-color: #1967D2;\n",
              "      --hover-bg-color: #E2EBFA;\n",
              "      --hover-fill-color: #174EA6;\n",
              "      --disabled-fill-color: #AAA;\n",
              "      --disabled-bg-color: #DDD;\n",
              "  }\n",
              "\n",
              "  [theme=dark] .colab-df-quickchart {\n",
              "      --bg-color: #3B4455;\n",
              "      --fill-color: #D2E3FC;\n",
              "      --hover-bg-color: #434B5C;\n",
              "      --hover-fill-color: #FFFFFF;\n",
              "      --disabled-bg-color: #3B4455;\n",
              "      --disabled-fill-color: #666;\n",
              "  }\n",
              "\n",
              "  .colab-df-quickchart {\n",
              "    background-color: var(--bg-color);\n",
              "    border: none;\n",
              "    border-radius: 50%;\n",
              "    cursor: pointer;\n",
              "    display: none;\n",
              "    fill: var(--fill-color);\n",
              "    height: 32px;\n",
              "    padding: 0;\n",
              "    width: 32px;\n",
              "  }\n",
              "\n",
              "  .colab-df-quickchart:hover {\n",
              "    background-color: var(--hover-bg-color);\n",
              "    box-shadow: 0 1px 2px rgba(60, 64, 67, 0.3), 0 1px 3px 1px rgba(60, 64, 67, 0.15);\n",
              "    fill: var(--button-hover-fill-color);\n",
              "  }\n",
              "\n",
              "  .colab-df-quickchart-complete:disabled,\n",
              "  .colab-df-quickchart-complete:disabled:hover {\n",
              "    background-color: var(--disabled-bg-color);\n",
              "    fill: var(--disabled-fill-color);\n",
              "    box-shadow: none;\n",
              "  }\n",
              "\n",
              "  .colab-df-spinner {\n",
              "    border: 2px solid var(--fill-color);\n",
              "    border-color: transparent;\n",
              "    border-bottom-color: var(--fill-color);\n",
              "    animation:\n",
              "      spin 1s steps(1) infinite;\n",
              "  }\n",
              "\n",
              "  @keyframes spin {\n",
              "    0% {\n",
              "      border-color: transparent;\n",
              "      border-bottom-color: var(--fill-color);\n",
              "      border-left-color: var(--fill-color);\n",
              "    }\n",
              "    20% {\n",
              "      border-color: transparent;\n",
              "      border-left-color: var(--fill-color);\n",
              "      border-top-color: var(--fill-color);\n",
              "    }\n",
              "    30% {\n",
              "      border-color: transparent;\n",
              "      border-left-color: var(--fill-color);\n",
              "      border-top-color: var(--fill-color);\n",
              "      border-right-color: var(--fill-color);\n",
              "    }\n",
              "    40% {\n",
              "      border-color: transparent;\n",
              "      border-right-color: var(--fill-color);\n",
              "      border-top-color: var(--fill-color);\n",
              "    }\n",
              "    60% {\n",
              "      border-color: transparent;\n",
              "      border-right-color: var(--fill-color);\n",
              "    }\n",
              "    80% {\n",
              "      border-color: transparent;\n",
              "      border-right-color: var(--fill-color);\n",
              "      border-bottom-color: var(--fill-color);\n",
              "    }\n",
              "    90% {\n",
              "      border-color: transparent;\n",
              "      border-bottom-color: var(--fill-color);\n",
              "    }\n",
              "  }\n",
              "</style>\n",
              "\n",
              "  <script>\n",
              "    async function quickchart(key) {\n",
              "      const quickchartButtonEl =\n",
              "        document.querySelector('#' + key + ' button');\n",
              "      quickchartButtonEl.disabled = true;  // To prevent multiple clicks.\n",
              "      quickchartButtonEl.classList.add('colab-df-spinner');\n",
              "      try {\n",
              "        const charts = await google.colab.kernel.invokeFunction(\n",
              "            'suggestCharts', [key], {});\n",
              "      } catch (error) {\n",
              "        console.error('Error during call to suggestCharts:', error);\n",
              "      }\n",
              "      quickchartButtonEl.classList.remove('colab-df-spinner');\n",
              "      quickchartButtonEl.classList.add('colab-df-quickchart-complete');\n",
              "    }\n",
              "    (() => {\n",
              "      let quickchartButtonEl =\n",
              "        document.querySelector('#df-fec712ea-c60b-4222-a544-000d53bec866 button');\n",
              "      quickchartButtonEl.style.display =\n",
              "        google.colab.kernel.accessAllowed ? 'block' : 'none';\n",
              "    })();\n",
              "  </script>\n",
              "</div>\n",
              "\n",
              "    </div>\n",
              "  </div>\n"
            ],
            "application/vnd.google.colaboratory.intrinsic+json": {
              "type": "dataframe",
              "variable_name": "predictions",
              "summary": "{\n  \"name\": \"predictions\",\n  \"rows\": 3000,\n  \"fields\": [\n    {\n      \"column\": \"y_test\",\n      \"properties\": {\n        \"dtype\": \"number\",\n        \"std\": 0,\n        \"min\": 0,\n        \"max\": 1,\n        \"num_unique_values\": 2,\n        \"samples\": [\n          1,\n          0\n        ],\n        \"semantic_type\": \"\",\n        \"description\": \"\"\n      }\n    },\n    {\n      \"column\": \"y_test_probs\",\n      \"properties\": {\n        \"dtype\": \"float32\",\n        \"num_unique_values\": 2610,\n        \"samples\": [\n          2.944846983155003e-06,\n          0.00456179678440094\n        ],\n        \"semantic_type\": \"\",\n        \"description\": \"\"\n      }\n    },\n    {\n      \"column\": \"y_test_predictions\",\n      \"properties\": {\n        \"dtype\": \"number\",\n        \"std\": 0,\n        \"min\": 0,\n        \"max\": 1,\n        \"num_unique_values\": 2,\n        \"samples\": [\n          1,\n          0\n        ],\n        \"semantic_type\": \"\",\n        \"description\": \"\"\n      }\n    }\n  ]\n}"
            }
          },
          "metadata": {},
          "execution_count": 68
        }
      ],
      "source": [
        "predictions = pd.DataFrame({\"y_test\":y_test, \"y_test_probs\":y_test_probs.reshape(-1,)})\n",
        "predictions['y_test_predictions']= np.where(predictions['y_test_probs']>0.5,1,0)\n",
        "predictions.head()"
      ]
    },
    {
      "cell_type": "code",
      "execution_count": 69,
      "metadata": {
        "id": "12OdK2trWyVH"
      },
      "outputs": [],
      "source": [
        "from sklearn.metrics import classification_report, confusion_matrix"
      ]
    },
    {
      "cell_type": "code",
      "execution_count": 70,
      "metadata": {
        "id": "_xXCzVo_WyVI",
        "outputId": "df243cff-209e-4aaa-930f-4be66ed418b7",
        "colab": {
          "base_uri": "https://localhost:8080/"
        }
      },
      "outputs": [
        {
          "output_type": "stream",
          "name": "stdout",
          "text": [
            "              precision    recall  f1-score   support\n",
            "\n",
            "           0       0.98      0.96      0.97      2274\n",
            "           1       0.88      0.93      0.90       726\n",
            "\n",
            "    accuracy                           0.95      3000\n",
            "   macro avg       0.93      0.94      0.93      3000\n",
            "weighted avg       0.95      0.95      0.95      3000\n",
            "\n"
          ]
        }
      ],
      "source": [
        "print(classification_report(y_true= predictions.y_test, y_pred=predictions.y_test_predictions) )"
      ]
    },
    {
      "cell_type": "code",
      "execution_count": 71,
      "metadata": {
        "id": "lnOZukj5WyVJ",
        "outputId": "3df71271-e829-464c-ab87-c71bc94749e8",
        "colab": {
          "base_uri": "https://localhost:8080/"
        }
      },
      "outputs": [
        {
          "output_type": "stream",
          "name": "stdout",
          "text": [
            "[[2180   94]\n",
            " [  54  672]]\n"
          ]
        }
      ],
      "source": [
        "print(confusion_matrix(y_true= predictions.y_test, y_pred=predictions.y_test_predictions) )"
      ]
    },
    {
      "cell_type": "markdown",
      "metadata": {
        "id": "y8K-mRO8WyVK"
      },
      "source": [
        "# Save and load the model\n",
        "\n",
        "An entire model can be saved in two different file formats (SavedModel and HDF5). The TensorFlow SavedModel format is the default file format in TF2.x. However, models can be saved in HDF5 format. More details: https://www.tensorflow.org/tutorials/keras/save_and_load\n",
        "\n",
        "since we don't have custom objects here, we will be using the HDF5 format."
      ]
    },
    {
      "cell_type": "code",
      "execution_count": 72,
      "metadata": {
        "id": "8m2IxslRWyVL"
      },
      "outputs": [],
      "source": [
        "from tensorflow.keras.models import load_model"
      ]
    },
    {
      "cell_type": "code",
      "execution_count": 73,
      "metadata": {
        "id": "dAZ4AuVfWyVL",
        "colab": {
          "base_uri": "https://localhost:8080/"
        },
        "outputId": "76d57221-1e56-4038-8caf-c8f0e97449f1"
      },
      "outputs": [
        {
          "output_type": "stream",
          "name": "stderr",
          "text": [
            "/usr/local/lib/python3.10/dist-packages/keras/src/engine/training.py:3103: UserWarning: You are saving your model as an HDF5 file via `model.save()`. This file format is considered legacy. We recommend using instead the native Keras format, e.g. `model.save('my_model.keras')`.\n",
            "  saving_api.save_model(\n"
          ]
        }
      ],
      "source": [
        "model.save('my_DNN_classification.h5')\n",
        "model_with_dropout.save('my_DNN_withDropout_classification.h5')"
      ]
    },
    {
      "cell_type": "code",
      "execution_count": 74,
      "metadata": {
        "id": "qxLBoF7EWyVM"
      },
      "outputs": [],
      "source": [
        "loaded_model = load_model('my_DNN_classification.h5')\n",
        "loaded_model_with_Dropout = load_model('my_DNN_withDropout_classification.h5')"
      ]
    },
    {
      "cell_type": "code",
      "execution_count": 75,
      "metadata": {
        "id": "AfEtgQzbWyVM",
        "outputId": "63e205c5-77b1-44ef-ca6a-fe82214b0404",
        "colab": {
          "base_uri": "https://localhost:8080/"
        }
      },
      "outputs": [
        {
          "output_type": "stream",
          "name": "stdout",
          "text": [
            "Model: \"my_classification_model\"\n",
            "_________________________________________________________________\n",
            " Layer (type)                Output Shape              Param #   \n",
            "=================================================================\n",
            " first_layer (Dense)         (None, 20)                380       \n",
            "                                                                 \n",
            " second_layer (Dense)        (None, 8)                 168       \n",
            "                                                                 \n",
            " output_layer (Dense)        (None, 1)                 9         \n",
            "                                                                 \n",
            "=================================================================\n",
            "Total params: 557 (2.18 KB)\n",
            "Trainable params: 557 (2.18 KB)\n",
            "Non-trainable params: 0 (0.00 Byte)\n",
            "_________________________________________________________________\n"
          ]
        }
      ],
      "source": [
        "loaded_model.summary()"
      ]
    },
    {
      "cell_type": "code",
      "execution_count": 76,
      "metadata": {
        "id": "cMK8n01nWyVN",
        "outputId": "1b26a455-5f60-4098-9b73-4cfa1ee30934",
        "colab": {
          "base_uri": "https://localhost:8080/"
        }
      },
      "outputs": [
        {
          "output_type": "stream",
          "name": "stdout",
          "text": [
            "94/94 [==============================] - 0s 2ms/step\n"
          ]
        },
        {
          "output_type": "execute_result",
          "data": {
            "text/plain": [
              "array([[0.01162899],\n",
              "       [0.00664689],\n",
              "       [0.00302848],\n",
              "       ...,\n",
              "       [0.3973472 ],\n",
              "       [0.00155378],\n",
              "       [0.01029856]], dtype=float32)"
            ]
          },
          "metadata": {},
          "execution_count": 76
        }
      ],
      "source": [
        "loaded_model.predict(X_test)"
      ]
    },
    {
      "cell_type": "code",
      "execution_count": 77,
      "metadata": {
        "id": "PVg_YZGWWyVO",
        "outputId": "7022191c-c6d1-44ef-d390-7e994ab33f46",
        "colab": {
          "base_uri": "https://localhost:8080/"
        }
      },
      "outputs": [
        {
          "output_type": "stream",
          "name": "stdout",
          "text": [
            "Model: \"my_classification_model_with_Dropout\"\n",
            "_________________________________________________________________\n",
            " Layer (type)                Output Shape              Param #   \n",
            "=================================================================\n",
            " first_layer (Dense)         (None, 20)                380       \n",
            "                                                                 \n",
            " dropout (Dropout)           (None, 20)                0         \n",
            "                                                                 \n",
            " second_layer (Dense)        (None, 8)                 168       \n",
            "                                                                 \n",
            " dropout_1 (Dropout)         (None, 8)                 0         \n",
            "                                                                 \n",
            " output_layer (Dense)        (None, 1)                 9         \n",
            "                                                                 \n",
            "=================================================================\n",
            "Total params: 557 (2.18 KB)\n",
            "Trainable params: 557 (2.18 KB)\n",
            "Non-trainable params: 0 (0.00 Byte)\n",
            "_________________________________________________________________\n"
          ]
        }
      ],
      "source": [
        "loaded_model_with_Dropout.summary()"
      ]
    },
    {
      "cell_type": "code",
      "execution_count": 78,
      "metadata": {
        "id": "3I2CuG0GWyVP",
        "outputId": "d7125da3-4cee-40b5-e407-31eb29238f4f",
        "colab": {
          "base_uri": "https://localhost:8080/"
        }
      },
      "outputs": [
        {
          "output_type": "stream",
          "name": "stdout",
          "text": [
            "Model: \"my_classification_model\"\n",
            "_________________________________________________________________\n",
            " Layer (type)                Output Shape              Param #   \n",
            "=================================================================\n",
            " first_layer (Dense)         (None, 20)                380       \n",
            "                                                                 \n",
            " second_layer (Dense)        (None, 8)                 168       \n",
            "                                                                 \n",
            " output_layer (Dense)        (None, 1)                 9         \n",
            "                                                                 \n",
            "=================================================================\n",
            "Total params: 557 (2.18 KB)\n",
            "Trainable params: 557 (2.18 KB)\n",
            "Non-trainable params: 0 (0.00 Byte)\n",
            "_________________________________________________________________\n"
          ]
        }
      ],
      "source": [
        "loaded_checkpoint = load_model(\"model_checkpoint.keras\")\n",
        "loaded_checkpoint.summary()"
      ]
    },
    {
      "cell_type": "markdown",
      "metadata": {
        "id": "ziPINTbxWyVQ"
      },
      "source": [
        "---\n",
        "# Additional Links:\n",
        "\n",
        "1. keras optimizers: https://keras.io/api/optimizers/\n",
        "2. keras loss functions: https://keras.io/api/losses/\n",
        "3. keras metrics: https://keras.io/api/metrics/\n",
        "4. Save model: https://www.tensorflow.org/tutorials/keras/save_and_load"
      ]
    }
  ],
  "metadata": {
    "colab": {
      "collapsed_sections": [
        "7JosjfudSRIp"
      ],
      "provenance": [],
      "include_colab_link": true
    },
    "kernelspec": {
      "display_name": "tensorflow",
      "language": "python",
      "name": "tf"
    },
    "language_info": {
      "codemirror_mode": {
        "name": "ipython",
        "version": 3
      },
      "file_extension": ".py",
      "mimetype": "text/x-python",
      "name": "python",
      "nbconvert_exporter": "python",
      "pygments_lexer": "ipython3",
      "version": "3.9.16"
    },
    "vscode": {
      "interpreter": {
        "hash": "70a17a938d28cb9f3ce6e7fd8b769c73b98c32c83f1620bd3323eb94cf46c0b9"
      }
    }
  },
  "nbformat": 4,
  "nbformat_minor": 0
}
